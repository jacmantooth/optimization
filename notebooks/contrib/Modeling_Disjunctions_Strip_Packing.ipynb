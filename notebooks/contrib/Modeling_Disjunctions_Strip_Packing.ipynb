{
 "cells": [
  {
   "cell_type": "markdown",
   "metadata": {
    "id": "oUfQgdrfGwh5"
   },
   "source": [
    "# Modeling Disjunctions through the Strip Packing Problem"
   ]
  },
  {
   "cell_type": "markdown",
   "metadata": {
    "id": "U74fRmss-X8w"
   },
   "source": [
    "**Prepared by:** Prof. Alexander Dowling (adowling@nd.edu), [Hailey Lynch](https://github.com/hglynch) (hlynch@nd.edu, 2023)"
   ]
  },
  {
   "cell_type": "markdown",
   "metadata": {
    "id": "sZGoXpLW5OnZ"
   },
   "source": [
    "## Introduction and Learning Objectives"
   ]
  },
  {
   "cell_type": "markdown",
   "metadata": {
    "id": "FESjuRnH-iIS"
   },
   "source": [
    "This notebook illustrates a more complicated example of generalized disjunctive programs. Students will practice applying concepts of Logical Modeling and Generalized Disjunctive Programs to the Strip Packing Problem. Critical thinking discussion questions will be included to connect concepts from CBE 60499.\n",
    "\n",
    "See the following notebook for a primer on Logical Modeling and Generalized Disjunctive Programs: [Logical Modeling and Generalized Disjunctive Programs](LINK HERE)"
   ]
  },
  {
   "cell_type": "markdown",
   "metadata": {
    "id": "wQtgW3K0GXZT"
   },
   "source": [
    "## Import Modules"
   ]
  },
  {
   "cell_type": "code",
   "execution_count": null,
   "metadata": {
    "colab": {
     "base_uri": "https://localhost:8080/"
    },
    "id": "ILDzq1xaGwh6",
    "outputId": "b952ea8a-7661-4013-b8af-ffc3a9c1310c"
   },
   "outputs": [
    {
     "name": "stdout",
     "output_type": "stream",
     "text": [
      "--2023-05-04 18:16:25--  https://raw.githubusercontent.com/ndcbe/CBE60499/main/notebooks/helper.py\n",
      "Resolving raw.githubusercontent.com (raw.githubusercontent.com)... 185.199.108.133, 185.199.109.133, 185.199.110.133, ...\n",
      "Connecting to raw.githubusercontent.com (raw.githubusercontent.com)|185.199.108.133|:443... connected.\n",
      "HTTP request sent, awaiting response... 200 OK\n",
      "Length: 7171 (7.0K) [text/plain]\n",
      "Saving to: ‘helper.py’\n",
      "\n",
      "\r",
      "helper.py             0%[                    ]       0  --.-KB/s               \r",
      "helper.py           100%[===================>]   7.00K  --.-KB/s    in 0s      \n",
      "\n",
      "2023-05-04 18:16:26 (65.2 MB/s) - ‘helper.py’ saved [7171/7171]\n",
      "\n",
      "Installing idaes via pip...\n",
      "idaes was successfully installed\n",
      "Running idaes get-extensions to install Ipopt, k_aug, and more...\n",
      "Ipopt 3.13.2 (x86_64-pc-linux-gnu), ASL(20190605)\n",
      "\n",
      "[K_AUG] 0.1.0, Part of the IDAES PSE framework\n",
      "Please visit https://idaes.org/ (x86_64-pc-linux-gnu), ASL(20190605)\n",
      "\n",
      "Couenne 0.5.8 -- an Open-Source solver for Mixed Integer Nonlinear Optimization\n",
      "Mailing list: couenne@list.coin-or.org\n",
      "Instructions: http://www.coin-or.org/Couenne\n",
      "couenne (x86_64-pc-linux-gnu), ASL(20190605)\n",
      "\n",
      "Bonmin 1.8.8 using Cbc 2.10.8 and Ipopt 3.13.2\n",
      "bonmin (x86_64-pc-linux-gnu), ASL(20190605)\n",
      "\n",
      "Ipopt 3.13.3 (x86_64-pc-linux-gnu), ASL(20190605)\n",
      "\n",
      "ipopt was successfully installed\n",
      "k_aug was successfuly installed\n",
      "cbc was successfuly installed\n",
      "clp was successfuly installed\n",
      "bonmin was successfuly installed\n",
      "couenne was successfuly installed\n",
      "ipopt_l1 was successfuly installed\n",
      " \n",
      "Checking for ./figures/strip_packing.png\n",
      "\tCreating folder ./figures\n",
      "\tDownloading https://raw.githubusercontent.com/ndcbe/CBE60499/main/docs/figures/strip_packing.png\n"
     ]
    }
   ],
   "source": [
    "# Imports\n",
    "import sys\n",
    "if \"google.colab\" in sys.modules:\n",
    "    !wget \"https://raw.githubusercontent.com/ndcbe/CBE60499/main/notebooks/helper.py\"\n",
    "    import helper\n",
    "    helper.install_idaes()\n",
    "    helper.install_ipopt()\n",
    "    # helper.install_cbc()\n",
    "    helper.download_figures(['strip_packing.png'])"
   ]
  },
  {
   "cell_type": "code",
   "execution_count": null,
   "metadata": {
    "id": "2jkM0EKaGwh7"
   },
   "outputs": [],
   "source": [
    "milp_solver = 'cbc'"
   ]
  },
  {
   "cell_type": "markdown",
   "metadata": {
    "id": "4k0jua-uGwh8"
   },
   "source": [
    "## Pyomo.GDP: Strip Packing Problem"
   ]
  },
  {
   "cell_type": "markdown",
   "metadata": {
    "id": "-AnkVSI6Gwh8"
   },
   "source": [
    "We will be looking at the Strip Packing Problem using Pyomo.GDP as an example for modeling disjunctions.\n",
    "\n",
    "> Aldo Vecchietti (1) and Ignacio Grossman (2) <br> (1) INGAR – Instituto de Desarrollo y Diseño – CONICET – UTN, Avellaneda 3657 – Santa Fe ‐ Argentina <br> (2) Carnegie Mellon University, 5000 Forbes Av. ‐ Pittsburgh, PA ‐ USA\n",
    "\n",
    "| $$\\text{Additional Information}$$       | $$\\text{Link}$$        |\n",
    "| ----------- | ----------- |\n",
    "| $$\\text{Reference}$$   |  https://www.minlp.org/library/problem/index.php?i=121&lib=GDP       |\n",
    "| $$\\text{Description}$$ | https://www.minlp.org/problems/ver/156/over/Strip-Packing-Overview.pdf        |\n",
    "| $$\\text{Results}$$    | https://www.minlp.org/problems/ver/156/results/Strip-Packing-Results.pdf       |\n",
    "| $$\\text{Problem Formulation}$$    | https://www.sciencedirect.com/science/article/pii/S0098135405000992"
   ]
  },
  {
   "cell_type": "markdown",
   "metadata": {
    "id": "w7zFHyFULaa7"
   },
   "source": [
    "### Problem Statement"
   ]
  },
  {
   "cell_type": "markdown",
   "metadata": {
    "id": "TcSIgA5Ph8-U"
   },
   "source": [
    "$ \\text{Min} \\ lt \\tag{1}$ \n",
    "\n",
    "$ \\text{s.t.} \\ lt \\geq x_{i} + L_{i} \\ \\ \\forall i \\in N \\tag{2}$\n",
    "\n",
    "\\begin{equation}\n",
    "  \\begin{bmatrix}\n",
    "  Y_{ij}^{1} \\\\\n",
    "  x_{i} + L_{i} \\leq x_{j}\n",
    "  \\end{bmatrix}\n",
    " \\lor\n",
    "  \\begin{bmatrix}\n",
    "  Y_{ij}^{2} \\\\\n",
    "  x_{j} + L_{j} \\leq x_{i}\n",
    "  \\end{bmatrix}\n",
    " \\lor \n",
    "  \\begin{bmatrix}\n",
    "  Y_{ij}^{3} \\\\\n",
    "  y_{i} - H_{i} \\geq y_{j}\n",
    "  \\end{bmatrix}\n",
    " \\lor\n",
    "  \\begin{bmatrix}\n",
    "  Y_{ij}^{4} \\\\\n",
    "  y_{j} - H_{j} \\geq y_{i}\n",
    "  \\end{bmatrix} \\tag{3}\n",
    "\\end{equation} \n",
    "\n",
    "\\begin{equation}\n",
    "  x_{i} \\leq UB_{i} - L_{i} \\ \\ \\forall i \\in N \\tag{4}\n",
    "\\end{equation}\n",
    "\n",
    "\\begin{equation}\n",
    "  H_{i} \\leq y_{i} \\leq W \\ \\ \\forall i \\in N \\tag{5}\n",
    "\\end{equation}\n",
    "\n",
    "\\begin{equation}\n",
    " lt, x_{i}, y_{i} \\in \\mathbb{R}_{+}^{1}, Y_{ij}^{1}, Y_{ij}^{2}, Y_{ij}^{3}, Y_{ij}^{4} \\in \\text{\\{True, False}\\} \\ \\ \\forall i, j \\in N, i < j\n",
    "\\end{equation}"
   ]
  },
  {
   "cell_type": "markdown",
   "metadata": {
    "id": "hSsKQ7t8iLjL"
   },
   "source": [
    "* The objective in this problem consists of minimizing the length of the strip $lt$ (1) and (2) by representing every rectangle by its coordinates in the $(x,y)$ space such that no overlap occurs between rectangles. \n",
    "* Thus, every rectangle $i \\in N$ has length $L_{i}$, height $H_{i}$, and coordinates $(x_{i}, y_{i})$, where the point of reference corresponds to the upper left corner of every rectangle.\n",
    "* By constraining every pair of rectangels $(i,j)$ where $(i,j \\in N, i<j)$ that no overlap occurs, we obtain a series of disjunctions with four disjuncts each, where each disjunct represents the position of rectangle $i$ in relation to rectangle $j$ (3). \n",
    "* Note that the y-coordinate of every rectange is bounded from above by the fixed width of the strip $W$ (5), and that the upper bound $UB_{i}$, which in a best case scenario would correspond to the optimal value of $lt$, is obtained using a bottom-left rectangle-placing heurisitc and serves as an upper bound for the x-coordinate of every rectangle (4)."
   ]
  },
  {
   "cell_type": "markdown",
   "metadata": {
    "id": "J37gjxv-Gwh8"
   },
   "source": [
    "### Define model in Pyomo with GDP"
   ]
  },
  {
   "cell_type": "markdown",
   "metadata": {
    "id": "X5rJcVChAa5x"
   },
   "source": [
    "First we will define the model for the Strip Packing Problem in Pyomo. "
   ]
  },
  {
   "cell_type": "code",
   "execution_count": null,
   "metadata": {
    "id": "758SajUtGwh9"
   },
   "outputs": [],
   "source": [
    "'''\n",
    "Instead of using\n",
    "# import pyomo.environ as pyo\n",
    "We can import specific functions/objects\n",
    "'''\n",
    "from pyomo.environ import (ConcreteModel, NonNegativeReals, Objective, Param,\n",
    "                           Set, SolverFactory, TransformationFactory, Var, value)\n",
    "\n",
    "# Strip-packing example from http://minlp.org/library/lib.php?lib=GDP\n",
    "\n",
    "# This model packs a set of rectangles without rotation or overlap within a\n",
    "# strip of a given width, minimizing the length of the strip.\n",
    "\n",
    "def create_model():\n",
    "    '''\n",
    "    Build the strip packing problem model.\n",
    "\n",
    "    Return:\n",
    "    model: Pyomo model\n",
    "    \n",
    "    '''\n",
    "    \n",
    "    ## Model\n",
    "    model = ConcreteModel(name=\"Rectangles strip packing\")\n",
    "    \n",
    "    ## Sets\n",
    "    model.rectangles = Set(ordered=True, initialize=[0, 1, 2, 3, 4, 5, 6, 7])\n",
    "\n",
    "    ## Parameters\n",
    "    # Width and length of each rectangle\n",
    "    model.rect_width = Param(\n",
    "        model.rectangles, initialize={0: 3, 1: 3, 2: 2, 3: 2, 4: 3, 5: 5,\n",
    "                                      6: 7, 7: 7})\n",
    "    \n",
    "    # Parameter indexed by each rectangle\n",
    "    # Length means height\n",
    "    model.rect_length = Param(\n",
    "        model.rectangles, initialize={0: 4, 1: 3, 2: 2, 3: 2, 4: 3, 5: 3,\n",
    "                                      6: 4, 7: 4})\n",
    "\n",
    "    model.strip_width = Param(\n",
    "        initialize=10, doc=\"Available width of the strip\")\n",
    "\n",
    "    # Upperbound on length (default is sum of lengths of rectangles)\n",
    "    model.max_length = Param(\n",
    "        initialize=sum(model.rect_length[i] for i in model.rectangles),\n",
    "        doc=\"Maximum length of the strip (if all rectangles were arranged \"\n",
    "        \"lengthwise)\")\n",
    "\n",
    "    ## Variables\n",
    "    # x (length) and y (width) coordinates of each of the rectangles\n",
    "    model.x = Var(model.rectangles,\n",
    "                  bounds=(0, model.max_length),\n",
    "                  doc=\"Rectangle corner x-position (position across length)\")\n",
    "\n",
    "    # Width bounds\n",
    "    def w_bounds(m, i):\n",
    "        return (0, m.strip_width - m.rect_width[i])\n",
    "    model.y = Var(model.rectangles,\n",
    "                  bounds=w_bounds,\n",
    "                  doc=\"Rectangle corner y-position (position down width)\")\n",
    "    # String length\n",
    "    model.strip_length = Var(\n",
    "        within=NonNegativeReals, doc=\"Length of strip required.\")\n",
    "\n",
    "    # Rectangle conflicts\n",
    "    def rec_pairs_filter(model, i, j):\n",
    "        return i < j\n",
    "    model.overlap_pairs = Set(\n",
    "        initialize=model.rectangles * model.rectangles,\n",
    "        dimen=2, filter=rec_pairs_filter,\n",
    "        doc=\"Set of possible rectangle conflicts\")\n",
    "\n",
    "    ## Constraints\n",
    "    @model.Constraint(model.rectangles)\n",
    "    def strip_ends_after_last_rec(model, i):\n",
    "        return model.strip_length >= model.x[i] + model.rect_length[i]\n",
    "\n",
    "    ## Objective\n",
    "    model.total_length = Objective(expr=model.strip_length,\n",
    "                                   doc=\"Minimize length\")\n",
    "\n",
    "    \n",
    "    ## Insert the no-overlap disjunctions here!\n",
    "    \n",
    "    # Add your solution here\n",
    "\n",
    "    return model"
   ]
  },
  {
   "cell_type": "markdown",
   "metadata": {
    "id": "OZPTo5jaGwh9"
   },
   "source": [
    "### Transform and Solve with Big M Relaxation"
   ]
  },
  {
   "cell_type": "markdown",
   "metadata": {
    "id": "rRasPpqCGwh-"
   },
   "source": [
    "Now we will create the model and use Big-M Relaxation."
   ]
  },
  {
   "cell_type": "markdown",
   "metadata": {
    "id": "V4juITi_EOuL"
   },
   "source": [
    "### Big-M Implementation in Pyomo"
   ]
  },
  {
   "cell_type": "code",
   "execution_count": null,
   "metadata": {
    "id": "DcmPUQ3qGwh-"
   },
   "outputs": [],
   "source": [
    "# Creating the model\n",
    "model = create_model()"
   ]
  },
  {
   "cell_type": "markdown",
   "metadata": {
    "id": "5LScSNdHGwh-"
   },
   "source": [
    "Next, let's transform the model. The updated model is really big, so we will not print it. This is because the transformation factory replaced the disjunctions with many Big-M constraints."
   ]
  },
  {
   "cell_type": "code",
   "execution_count": null,
   "metadata": {
    "id": "fVhra7bXGwh_"
   },
   "outputs": [],
   "source": [
    "# Applying Big-M relaxation to the model\n",
    "# Add your solution here"
   ]
  },
  {
   "cell_type": "markdown",
   "metadata": {
    "id": "w2tgG9dHGwh_"
   },
   "source": [
    "Finally, we'll solve the model and examine the solution."
   ]
  },
  {
   "cell_type": "code",
   "execution_count": null,
   "metadata": {
    "colab": {
     "base_uri": "https://localhost:8080/"
    },
    "id": "Y4Cc8AwGGwh_",
    "outputId": "cdf3df24-792e-4b8b-d493-83686d107704"
   },
   "outputs": [
    {
     "name": "stdout",
     "output_type": "stream",
     "text": [
      "Welcome to the CBC MILP Solver \n",
      "Version: 2.10.8 \n",
      "Build Date: Feb  3 2023 \n",
      "\n",
      "command line - /content/cbc -printingOptions all -import /tmp/tmpyvqxaz49.pyomo.lp -stat=1 -solve -solu /tmp/tmpyvqxaz49.pyomo.soln (default strategy 1)\n",
      "Option for printingOptions changed from normal to all\n",
      "Presolve 148 (-1) rows, 129 (-1) columns and 464 (-1) elements\n",
      "Statistics for presolved model\n",
      "Original problem has 112 integers (112 of which binary)\n",
      "Presolved problem has 112 integers (112 of which binary)\n",
      "==== 128 zero objective 2 different\n",
      "128 variables have objective of 0\n",
      "1 variables have objective of 1\n",
      "==== absolute objective values 2 different\n",
      "128 variables have objective of 0\n",
      "1 variables have objective of 1\n",
      "==== for integers 112 zero objective 1 different\n",
      "112 variables have objective of 0\n",
      "==== for integers absolute objective values 1 different\n",
      "112 variables have objective of 0\n",
      "===== end objective counts\n",
      "\n",
      "\n",
      "Problem has 148 rows, 129 columns (1 with objective) and 464 elements\n",
      "Column breakdown:\n",
      "1 of type 0.0->inf, 16 of type 0.0->up, 0 of type lo->inf, \n",
      "0 of type lo->up, 0 of type free, 0 of type fixed, \n",
      "0 of type -inf->0.0, 0 of type -inf->up, 112 of type 0.0->1.0 \n",
      "Row breakdown:\n",
      "0 of type E 0.0, 28 of type E 1.0, 0 of type E -1.0, \n",
      "0 of type E other, 0 of type G 0.0, 0 of type G 1.0, \n",
      "0 of type G other, 0 of type L 0.0, 0 of type L 1.0, \n",
      "120 of type L other, 0 of type Range 0.0->1.0, 0 of type Range other, \n",
      "0 of type Free \n",
      "Continuous objective value is 4 - 0.00 seconds\n",
      "Cgl0004I processed model has 139 rows, 120 columns (103 integer (103 of which binary)) and 434 elements\n",
      "Cbc0038I Initial state - 53 integers unsatisfied sum - 13.6138\n",
      "Cbc0038I Pass   1: suminf.    5.20000 (20) obj. 11 iterations 30\n",
      "Cbc0038I Pass   2: suminf.    2.20000 (10) obj. 12 iterations 27\n",
      "Cbc0038I Pass   3: suminf.    2.00000 (10) obj. 12 iterations 4\n",
      "Cbc0038I Pass   4: suminf.    1.60000 (8) obj. 12 iterations 10\n",
      "Cbc0038I Pass   5: suminf.    1.40000 (8) obj. 12 iterations 3\n",
      "Cbc0038I Pass   6: suminf.    2.20000 (8) obj. 12 iterations 7\n",
      "Cbc0038I Pass   7: suminf.    1.80000 (8) obj. 12 iterations 4\n",
      "Cbc0038I Pass   8: suminf.    1.20000 (6) obj. 14 iterations 12\n",
      "Cbc0038I Pass   9: suminf.    0.80000 (4) obj. 14 iterations 6\n",
      "Cbc0038I Pass  10: suminf.    0.80000 (4) obj. 14 iterations 4\n",
      "Cbc0038I Pass  11: suminf.    2.80000 (10) obj. 22 iterations 37\n",
      "Cbc0038I Pass  12: suminf.    2.80000 (12) obj. 22 iterations 11\n",
      "Cbc0038I Pass  13: suminf.    1.00000 (4) obj. 23 iterations 14\n",
      "Cbc0038I Pass  14: suminf.    0.40000 (2) obj. 23 iterations 4\n",
      "Cbc0038I Pass  15: suminf.    0.40000 (2) obj. 23 iterations 3\n",
      "Cbc0038I Pass  16: suminf.    4.59723 (21) obj. 13 iterations 63\n",
      "Cbc0038I Pass  17: suminf.    3.33404 (16) obj. 12 iterations 19\n",
      "Cbc0038I Pass  18: suminf.    1.05714 (5) obj. 16 iterations 23\n",
      "Cbc0038I Pass  19: suminf.    0.20000 (2) obj. 19 iterations 6\n",
      "Cbc0038I Pass  20: suminf.    0.35714 (1) obj. 17 iterations 4\n",
      "Cbc0038I Solution found of 17\n",
      "Cbc0038I Relaxing continuous gives 17\n",
      "Cbc0038I Before mini branch and bound, 24 integers at bound fixed and 0 continuous\n",
      "Cbc0038I Full problem 139 rows 120 columns, reduced to 110 rows 91 columns - 5 fixed gives 97, 78 - ok now\n",
      "Cbc0038I Full problem 139 rows 120 columns, reduced to 87 rows 68 columns\n",
      "Cbc0038I Mini branch and bound improved solution from 17 to 12 (0.07 seconds)\n",
      "Cbc0038I Round again with cutoff of 11.2\n",
      "Cbc0038I Pass  21: suminf.    5.20000 (20) obj. 11 iterations 0\n",
      "Cbc0038I Pass  22: suminf.    2.60000 (14) obj. 11 iterations 17\n",
      "Cbc0038I Pass  23: suminf.    2.60000 (14) obj. 11 iterations 0\n",
      "Cbc0038I Pass  24: suminf.    1.68473 (11) obj. 11.2 iterations 20\n",
      "Cbc0038I Pass  25: suminf.    1.48473 (11) obj. 11.2 iterations 3\n",
      "Cbc0038I Pass  26: suminf.    2.40000 (10) obj. 11.2 iterations 11\n",
      "Cbc0038I Pass  27: suminf.    2.40000 (10) obj. 11.2 iterations 4\n",
      "Cbc0038I Pass  28: suminf.    2.40000 (10) obj. 11.2 iterations 3\n",
      "Cbc0038I Pass  29: suminf.    5.86207 (24) obj. 11.2 iterations 42\n",
      "Cbc0038I Pass  30: suminf.    2.91137 (17) obj. 11.2 iterations 22\n",
      "Cbc0038I Pass  31: suminf.    1.73104 (8) obj. 11.2 iterations 23\n",
      "Cbc0038I Pass  32: suminf.    1.53104 (8) obj. 11.2 iterations 6\n",
      "Cbc0038I Pass  33: suminf.    2.55985 (12) obj. 11.2 iterations 16\n",
      "Cbc0038I Pass  34: suminf.    1.55985 (10) obj. 11.2 iterations 4\n",
      "Cbc0038I Pass  35: suminf.    1.55985 (10) obj. 11.2 iterations 3\n",
      "Cbc0038I Pass  36: suminf.    2.11256 (10) obj. 11.2 iterations 15\n",
      "Cbc0038I Pass  37: suminf.    1.91256 (10) obj. 11.2 iterations 6\n",
      "Cbc0038I Pass  38: suminf.    2.55985 (12) obj. 11.2 iterations 15\n",
      "Cbc0038I Pass  39: suminf.    1.55985 (10) obj. 11.2 iterations 5\n",
      "Cbc0038I Pass  40: suminf.    1.55985 (10) obj. 11.2 iterations 1\n",
      "Cbc0038I Pass  41: suminf.    2.11256 (10) obj. 11.2 iterations 13\n",
      "Cbc0038I Pass  42: suminf.    1.91256 (10) obj. 11.2 iterations 9\n",
      "Cbc0038I Pass  43: suminf.    2.55985 (12) obj. 11.2 iterations 17\n",
      "Cbc0038I Pass  44: suminf.    1.55985 (10) obj. 11.2 iterations 4\n",
      "Cbc0038I Pass  45: suminf.    1.55985 (10) obj. 11.2 iterations 2\n",
      "Cbc0038I Pass  46: suminf.    2.11256 (10) obj. 11.2 iterations 13\n",
      "Cbc0038I Pass  47: suminf.    1.91256 (10) obj. 11.2 iterations 7\n",
      "Cbc0038I Pass  48: suminf.    2.55985 (12) obj. 11.2 iterations 16\n",
      "Cbc0038I Pass  49: suminf.    1.55985 (10) obj. 11.2 iterations 4\n",
      "Cbc0038I Pass  50: suminf.    1.55985 (10) obj. 11.2 iterations 2\n",
      "Cbc0038I No solution found this major pass\n",
      "Cbc0038I Before mini branch and bound, 31 integers at bound fixed and 1 continuous\n",
      "Cbc0038I Mini branch and bound did not improve solution (0.11 seconds)\n",
      "Cbc0038I After 0.11 seconds - Feasibility pump exiting with objective of 12 - took 0.10 seconds\n",
      "Cbc0012I Integer solution of 12 found by feasibility pump after 0 iterations and 0 nodes (0.11 seconds)\n",
      "Cbc0038I Full problem 139 rows 120 columns, reduced to 84 rows 65 columns\n",
      "Cbc0031I 53 added rows had average density of 5.9433962\n",
      "Cbc0013I At root node, 53 cuts changed objective from 4 to 8 in 32 passes\n",
      "Cbc0014I Cut generator 0 (Probing) - 1033 row cuts average 2.7 elements, 0 column cuts (0 active)  in 0.024 seconds - new frequency is 1\n",
      "Cbc0014I Cut generator 1 (Gomory) - 414 row cuts average 27.6 elements, 0 column cuts (0 active)  in 0.014 seconds - new frequency is 1\n",
      "Cbc0014I Cut generator 2 (Knapsack) - 0 row cuts average 0.0 elements, 0 column cuts (0 active)  in 0.005 seconds - new frequency is -100\n",
      "Cbc0014I Cut generator 3 (Clique) - 0 row cuts average 0.0 elements, 0 column cuts (0 active)  in 0.002 seconds - new frequency is -100\n",
      "Cbc0014I Cut generator 4 (MixedIntegerRounding2) - 224 row cuts average 2.6 elements, 0 column cuts (0 active)  in 0.009 seconds - new frequency is 1\n",
      "Cbc0014I Cut generator 5 (FlowCover) - 8 row cuts average 2.0 elements, 0 column cuts (0 active)  in 0.007 seconds - new frequency is -100\n",
      "Cbc0014I Cut generator 6 (TwoMirCuts) - 336 row cuts average 15.0 elements, 0 column cuts (0 active)  in 0.013 seconds - new frequency is 1\n",
      "Cbc0010I After 0 nodes, 1 on tree, 12 best solution, best possible 8 (0.32 seconds)\n",
      "Cbc0004I Integer solution of 11 found after 3238 iterations and 26 nodes (0.61 seconds)\n",
      "Cbc0001I Search completed - best objective 11, took 3305 iterations and 28 nodes (0.62 seconds)\n",
      "Cbc0032I Strong branching done 576 times (7536 iterations), fathomed 0 nodes and fixed 2 variables\n",
      "Cbc0035I Maximum depth 18, 0 variables fixed on reduced cost\n",
      "Cuts at root node changed objective from 4 to 8\n",
      "Probing was tried 73 times and created 1721 cuts of which 0 were active after adding rounds of cuts (0.040 seconds)\n",
      "Gomory was tried 70 times and created 519 cuts of which 0 were active after adding rounds of cuts (0.024 seconds)\n",
      "Knapsack was tried 32 times and created 0 cuts of which 0 were active after adding rounds of cuts (0.005 seconds)\n",
      "Clique was tried 32 times and created 0 cuts of which 0 were active after adding rounds of cuts (0.002 seconds)\n",
      "MixedIntegerRounding2 was tried 70 times and created 329 cuts of which 0 were active after adding rounds of cuts (0.017 seconds)\n",
      "FlowCover was tried 32 times and created 8 cuts of which 0 were active after adding rounds of cuts (0.007 seconds)\n",
      "TwoMirCuts was tried 70 times and created 469 cuts of which 0 were active after adding rounds of cuts (0.019 seconds)\n",
      "ZeroHalf was tried 1 times and created 0 cuts of which 0 were active after adding rounds of cuts (0.001 seconds)\n",
      "ImplicationCuts was tried 20 times and created 26 cuts of which 0 were active after adding rounds of cuts (0.000 seconds)\n",
      "\n",
      "Result - Optimal solution found\n",
      "\n",
      "Objective value:                11.00000000\n",
      "Enumerated nodes:               28\n",
      "Total iterations:               3305\n",
      "Time (CPU seconds):             0.62\n",
      "Time (Wallclock seconds):       0.67\n",
      "\n",
      "Total time (CPU seconds):       0.63   (Wallclock seconds):       0.67\n",
      "\n",
      "Rectangle 0: (3.0, 0.0)\n",
      "Rectangle 1: (8.0, 7.0)\n",
      "Rectangle 2: (7.0, 0.0)\n",
      "Rectangle 3: (9.0, 0.0)\n",
      "Rectangle 4: (0.0, 0.0)\n",
      "Rectangle 5: (8.0, 2.0)\n",
      "Rectangle 6: (0.0, 3.0)\n",
      "Rectangle 7: (4.0, 3.0)\n",
      "total_length : Size=1, Index=None, Active=True\n",
      "    Key  : Active : Value\n",
      "    None :   True :  11.0\n"
     ]
    }
   ],
   "source": [
    "# Solve and print the solution\n",
    "SolverFactory(milp_solver).solve(model, tee=True)\n",
    "for i in model.rectangles:\n",
    "    print(\"Rectangle %s: (%s, %s)\" % (i, value(model.x[i]), value(model.y[i])))\n",
    "model.total_length.display()"
   ]
  },
  {
   "cell_type": "markdown",
   "metadata": {
    "id": "6nbUb0SkGwh_"
   },
   "source": [
    "### Transform and Solve with Convex Hull Relaxation"
   ]
  },
  {
   "cell_type": "markdown",
   "metadata": {
    "id": "goXwK2iXGwh_"
   },
   "source": [
    "We will repeat the procedure above using Convex Hull Relaxation."
   ]
  },
  {
   "cell_type": "markdown",
   "metadata": {
    "id": "0ExVFVrIEELf"
   },
   "source": [
    "### Convex Hull Implementation in Pyomo"
   ]
  },
  {
   "cell_type": "code",
   "execution_count": null,
   "metadata": {
    "colab": {
     "base_uri": "https://localhost:8080/"
    },
    "id": "wp1JWlKoGwh_",
    "outputId": "f7e8bdbf-e210-4353-f538-2aa785bd0a2f"
   },
   "outputs": [
    {
     "name": "stdout",
     "output_type": "stream",
     "text": [
      "Welcome to the CBC MILP Solver \n",
      "Version: 2.10.8 \n",
      "Build Date: Feb  3 2023 \n",
      "\n",
      "command line - /content/cbc -printingOptions all -import /tmp/tmp5_k8jzkf.pyomo.lp -stat=1 -solve -solu /tmp/tmp5_k8jzkf.pyomo.soln (default strategy 1)\n",
      "Option for printingOptions changed from normal to all\n",
      "Presolve 484 (-113) rows, 353 (-113) columns and 1696 (-1) elements\n",
      "Statistics for presolved model\n",
      "Original problem has 112 integers (112 of which binary)\n",
      "Presolved problem has 112 integers (112 of which binary)\n",
      "==== 352 zero objective 2 different\n",
      "352 variables have objective of 0\n",
      "1 variables have objective of 1\n",
      "==== absolute objective values 2 different\n",
      "352 variables have objective of 0\n",
      "1 variables have objective of 1\n",
      "==== for integers 112 zero objective 1 different\n",
      "112 variables have objective of 0\n",
      "==== for integers absolute objective values 1 different\n",
      "112 variables have objective of 0\n",
      "===== end objective counts\n",
      "\n",
      "\n",
      "Problem has 484 rows, 353 columns (1 with objective) and 1696 elements\n",
      "Column breakdown:\n",
      "1 of type 0.0->inf, 240 of type 0.0->up, 0 of type lo->inf, \n",
      "0 of type lo->up, 0 of type free, 0 of type fixed, \n",
      "0 of type -inf->0.0, 0 of type -inf->up, 112 of type 0.0->1.0 \n",
      "Row breakdown:\n",
      "0 of type E 0.0, 28 of type E 1.0, 0 of type E -1.0, \n",
      "0 of type E other, 0 of type G 0.0, 0 of type G 1.0, \n",
      "0 of type G other, 336 of type L 0.0, 0 of type L 1.0, \n",
      "120 of type L other, 0 of type Range 0.0->1.0, 0 of type Range other, \n",
      "0 of type Free \n",
      "Continuous objective value is 6 - 0.00 seconds\n",
      "Cgl0003I 0 fixed, 0 tightened bounds, 21 strengthened rows, 0 substitutions\n",
      "Cgl0004I processed model has 463 rows, 332 columns (103 integer (103 of which binary)) and 1594 elements\n",
      "Cbc0038I Initial state - 68 integers unsatisfied sum - 16.8341\n",
      "Cbc0038I Pass   1: suminf.    6.94830 (28) obj. 11.0857 iterations 196\n",
      "Cbc0038I Pass   2: suminf.    5.37687 (20) obj. 11.0857 iterations 27\n",
      "Cbc0038I Pass   3: suminf.    3.34286 (12) obj. 18.8571 iterations 27\n",
      "Cbc0038I Pass   4: suminf.    3.19507 (13) obj. 14.8571 iterations 1\n",
      "Cbc0038I Pass   5: suminf.    3.32266 (13) obj. 19.9286 iterations 58\n",
      "Cbc0038I Pass   6: suminf.    3.13218 (10) obj. 19.9286 iterations 20\n",
      "Cbc0038I Pass   7: suminf.    1.14286 (4) obj. 18 iterations 24\n",
      "Cbc0038I Pass   8: suminf.    1.14286 (4) obj. 18 iterations 9\n",
      "Cbc0038I Pass   9: suminf.    1.14286 (4) obj. 18 iterations 14\n",
      "Cbc0038I Pass  10: suminf.    1.71429 (6) obj. 22.1429 iterations 83\n",
      "Cbc0038I Pass  11: suminf.    1.14286 (4) obj. 22.1429 iterations 10\n",
      "Cbc0038I Pass  12: suminf.    1.67241 (11) obj. 16.1724 iterations 35\n",
      "Cbc0038I Pass  13: suminf.    0.85714 (2) obj. 18 iterations 30\n",
      "Cbc0038I Pass  14: suminf.    0.85714 (2) obj. 18 iterations 0\n",
      "Cbc0038I Pass  15: suminf.    0.00000 (0) obj. 21 iterations 3\n",
      "Cbc0038I Solution found of 21\n",
      "Cbc0038I Relaxing continuous gives 21\n",
      "Cbc0038I Before mini branch and bound, 22 integers at bound fixed and 104 continuous\n",
      "Cbc0038I Full problem 463 rows 332 columns, reduced to 376 rows 204 columns - 7 fixed gives 268, 149 - still too large\n",
      "Cbc0038I Full problem 463 rows 332 columns, reduced to 210 rows 119 columns\n",
      "Cbc0038I Mini branch and bound improved solution from 21 to 14 (0.08 seconds)\n",
      "Cbc0038I Freeing continuous variables gives a solution of 14\n",
      "Cbc0038I Round again with cutoff of 13.2\n",
      "Cbc0038I Pass  16: suminf.    6.94830 (28) obj. 11.0857 iterations 0\n",
      "Cbc0038I Pass  17: suminf.    5.37687 (20) obj. 11.0857 iterations 35\n",
      "Cbc0038I Pass  18: suminf.    2.53251 (13) obj. 13.2 iterations 57\n",
      "Cbc0038I Pass  19: suminf.    2.53251 (13) obj. 13.2 iterations 15\n",
      "Cbc0038I Pass  20: suminf.    3.47143 (14) obj. 13.2 iterations 61\n",
      "Cbc0038I Pass  21: suminf.    2.82233 (11) obj. 13.2 iterations 34\n",
      "Cbc0038I Pass  22: suminf.    1.97241 (10) obj. 13.2 iterations 36\n",
      "Cbc0038I Pass  23: suminf.    1.84433 (10) obj. 13.2 iterations 21\n",
      "Cbc0038I Pass  24: suminf.    3.03673 (13) obj. 13.2 iterations 43\n",
      "Cbc0038I Pass  25: suminf.    2.50509 (10) obj. 13.2 iterations 18\n",
      "Cbc0038I Pass  26: suminf.    4.57253 (21) obj. 13.2 iterations 89\n",
      "Cbc0038I Pass  27: suminf.    4.00110 (19) obj. 13.2 iterations 6\n",
      "Cbc0038I Pass  28: suminf.    2.58591 (14) obj. 13.2 iterations 57\n",
      "Cbc0038I Pass  29: suminf.    2.46798 (12) obj. 13.2 iterations 12\n",
      "Cbc0038I Pass  30: suminf.    3.20131 (12) obj. 13.2 iterations 34\n",
      "Cbc0038I Pass  31: suminf.    2.84321 (12) obj. 13.2 iterations 21\n",
      "Cbc0038I Pass  32: suminf.    2.68941 (14) obj. 13.2 iterations 32\n",
      "Cbc0038I Pass  33: suminf.    2.33005 (11) obj. 12.6207 iterations 16\n",
      "Cbc0038I Pass  34: suminf.    3.97143 (19) obj. 13.2 iterations 47\n",
      "Cbc0038I Pass  35: suminf.    2.94058 (16) obj. 13.2 iterations 23\n",
      "Cbc0038I Pass  36: suminf.    2.63218 (13) obj. 13.2 iterations 56\n",
      "Cbc0038I Pass  37: suminf.    2.52062 (13) obj. 13.2 iterations 12\n",
      "Cbc0038I Pass  38: suminf.    3.12273 (14) obj. 13.2 iterations 34\n",
      "Cbc0038I Pass  39: suminf.    2.22459 (12) obj. 13.2 iterations 25\n",
      "Cbc0038I Pass  40: suminf.    3.00361 (14) obj. 13.2 iterations 31\n",
      "Cbc0038I Pass  41: suminf.    2.90837 (13) obj. 13.2 iterations 8\n",
      "Cbc0038I Pass  42: suminf.    1.71429 (6) obj. 13.2 iterations 26\n",
      "Cbc0038I Pass  43: suminf.    0.83350 (6) obj. 13.2 iterations 14\n",
      "Cbc0038I Pass  44: suminf.    2.23810 (8) obj. 13.2 iterations 24\n",
      "Cbc0038I Pass  45: suminf.    1.57143 (5) obj. 13.2 iterations 12\n",
      "Cbc0038I No solution found this major pass\n",
      "Cbc0038I Before mini branch and bound, 20 integers at bound fixed and 96 continuous\n",
      "Cbc0038I Mini branch and bound did not improve solution (0.20 seconds)\n",
      "Cbc0038I After 0.20 seconds - Feasibility pump exiting with objective of 14 - took 0.18 seconds\n",
      "Cbc0012I Integer solution of 14 found by feasibility pump after 0 iterations and 0 nodes (0.20 seconds)\n",
      "Cbc0038I Full problem 463 rows 332 columns, reduced to 396 rows 247 columns - 23 fixed gives 225, 116 - ok now\n",
      "Cbc0038I Full problem 463 rows 332 columns, reduced to 220 rows 111 columns\n",
      "Cbc0031I 34 added rows had average density of 65.823529\n",
      "Cbc0013I At root node, 34 cuts changed objective from 6 to 8 in 100 passes\n",
      "Cbc0014I Cut generator 0 (Probing) - 573 row cuts average 2.9 elements, 0 column cuts (0 active)  in 0.143 seconds - new frequency is 1\n",
      "Cbc0014I Cut generator 1 (Gomory) - 2335 row cuts average 181.7 elements, 0 column cuts (0 active)  in 0.384 seconds - new frequency is 1\n",
      "Cbc0014I Cut generator 2 (Knapsack) - 0 row cuts average 0.0 elements, 0 column cuts (0 active)  in 0.022 seconds - new frequency is -100\n",
      "Cbc0014I Cut generator 3 (Clique) - 0 row cuts average 0.0 elements, 0 column cuts (0 active)  in 0.008 seconds - new frequency is -100\n",
      "Cbc0014I Cut generator 4 (MixedIntegerRounding2) - 0 row cuts average 0.0 elements, 0 column cuts (0 active)  in 0.176 seconds - new frequency is -100\n",
      "Cbc0014I Cut generator 5 (FlowCover) - 0 row cuts average 0.0 elements, 0 column cuts (0 active)  in 0.104 seconds - new frequency is -100\n",
      "Cbc0014I Cut generator 6 (TwoMirCuts) - 276 row cuts average 65.1 elements, 0 column cuts (0 active)  in 0.054 seconds - new frequency is 1\n",
      "Cbc0010I After 0 nodes, 1 on tree, 14 best solution, best possible 8 (2.97 seconds)\n",
      "Cbc0038I Full problem 463 rows 332 columns, reduced to 310 rows 171 columns - 15 fixed gives 213, 107 - ok now\n",
      "Cbc0038I Full problem 463 rows 332 columns, reduced to 213 rows 107 columns\n",
      "Cbc0038I Full problem 463 rows 332 columns, reduced to 338 rows 191 columns - 18 fixed gives 216, 109 - ok now\n",
      "Cbc0038I Full problem 463 rows 332 columns, reduced to 213 rows 107 columns\n",
      "Cbc0004I Integer solution of 13 found after 14982 iterations and 105 nodes (4.75 seconds)\n",
      "Cbc0004I Integer solution of 12 found after 15000 iterations and 106 nodes (4.75 seconds)\n",
      "Cbc0038I Full problem 463 rows 332 columns, reduced to 347 rows 197 columns - 4 fixed gives 327, 185 - still too large\n",
      "Cbc0038I Full problem 463 rows 332 columns, reduced to 327 rows 185 columns - too large\n",
      "Cbc0004I Integer solution of 11 found after 29977 iterations and 300 nodes (6.24 seconds)\n",
      "Cbc0001I Search completed - best objective 11, took 31618 iterations and 309 nodes (6.40 seconds)\n",
      "Cbc0032I Strong branching done 1244 times (30120 iterations), fathomed 0 nodes and fixed 15 variables\n",
      "Cbc0035I Maximum depth 26, 1 variables fixed on reduced cost\n",
      "Cuts at root node changed objective from 6 to 8\n",
      "Probing was tried 483 times and created 6535 cuts of which 0 were active after adding rounds of cuts (0.301 seconds)\n",
      "Gomory was tried 412 times and created 4116 cuts of which 0 were active after adding rounds of cuts (0.519 seconds)\n",
      "Knapsack was tried 100 times and created 0 cuts of which 0 were active after adding rounds of cuts (0.022 seconds)\n",
      "Clique was tried 100 times and created 0 cuts of which 0 were active after adding rounds of cuts (0.008 seconds)\n",
      "MixedIntegerRounding2 was tried 100 times and created 0 cuts of which 0 were active after adding rounds of cuts (0.176 seconds)\n",
      "FlowCover was tried 100 times and created 0 cuts of which 0 were active after adding rounds of cuts (0.104 seconds)\n",
      "TwoMirCuts was tried 412 times and created 494 cuts of which 0 were active after adding rounds of cuts (0.153 seconds)\n",
      "ZeroHalf was tried 1 times and created 0 cuts of which 0 were active after adding rounds of cuts (0.001 seconds)\n",
      "ImplicationCuts was tried 89 times and created 141 cuts of which 0 were active after adding rounds of cuts (0.002 seconds)\n",
      "\n",
      "Result - Optimal solution found\n",
      "\n",
      "Objective value:                11.00000000\n",
      "Enumerated nodes:               309\n",
      "Total iterations:               31618\n",
      "Time (CPU seconds):             6.43\n",
      "Time (Wallclock seconds):       11.35\n",
      "\n",
      "Total time (CPU seconds):       6.44   (Wallclock seconds):       11.36\n",
      "\n",
      "Rectangle 0: (0.0, 0.0)\n",
      "Rectangle 1: (4.0, 7.0)\n",
      "Rectangle 2: (9.0, 8.0)\n",
      "Rectangle 3: (7.0, 8.0)\n",
      "Rectangle 4: (8.0, 0.0)\n",
      "Rectangle 5: (8.0, 3.0)\n",
      "Rectangle 6: (0.0, 3.0)\n",
      "Rectangle 7: (4.0, 0.0)\n",
      "total_length : Size=1, Index=None, Active=True\n",
      "    Key  : Active : Value\n",
      "    None :   True :  11.0\n"
     ]
    }
   ],
   "source": [
    "# Creating the model\n",
    "model = create_model()\n",
    "\n",
    "# Applying convex hull relaxation to the model\n",
    "# Add your solution here\n",
    "\n",
    "# Solve and print the solution\n",
    "SolverFactory(milp_solver).solve(model, tee=True)\n",
    "for i in model.rectangles:\n",
    "    print(\"Rectangle %s: (%s, %s)\" % (i, value(model.x[i]), value(model.y[i])))\n",
    "model.total_length.display()"
   ]
  },
  {
   "cell_type": "markdown",
   "metadata": {
    "id": "ghz4bjwZ9mqC"
   },
   "source": [
    "## Discussion Questions"
   ]
  },
  {
   "cell_type": "markdown",
   "metadata": {
    "id": "nclEbDboUibX"
   },
   "source": [
    "1. What is the advantage of using the decorator notation for optimization problems?\n",
    "2. How do disjunctions affect a Degree of Freedom Analysis?\n",
    "3. Why is it necessary to make separate variables for length and width?\n",
    "4. Compare the outputs of Big-M and Convex Hull. How are they different (if at all)?"
   ]
  },
  {
   "cell_type": "code",
   "execution_count": null,
   "metadata": {
    "colab": {
     "base_uri": "https://localhost:8080/",
     "height": 35
    },
    "id": "Hr817sc448c6",
    "outputId": "e89d77db-27d8-47d6-8e25-b081330a9c45"
   },
   "outputs": [
    {
     "data": {
      "application/vnd.google.colaboratory.intrinsic+json": {
       "type": "string"
      },
      "text/plain": [
       "'\\nAnswers:\\n1. Helpful for declaring components in Pyomo.\\n2. Disjunctions change the number of constraints.\\n3. The coordinates for length and width differ.\\n4. It gives the same optimal solution, but convex hull requires more iterations.\\n'"
      ]
     },
     "execution_count": 8,
     "metadata": {},
     "output_type": "execute_result"
    }
   ],
   "source": [
    "# Discussion Questions\n",
    "# Add your solution here"
   ]
  }
 ],
 "metadata": {
  "colab": {
   "provenance": []
  },
  "kernelspec": {
   "display_name": "Python 3",
   "language": "python",
   "name": "python3"
  },
  "language_info": {
   "codemirror_mode": {
    "name": "ipython",
    "version": 3
   },
   "file_extension": ".py",
   "mimetype": "text/x-python",
   "name": "python",
   "nbconvert_exporter": "python",
   "pygments_lexer": "ipython3",
   "version": "3.8.6"
  }
 },
 "nbformat": 4,
 "nbformat_minor": 0
}
