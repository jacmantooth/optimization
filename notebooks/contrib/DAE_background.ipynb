{
 "cells": [
  {
   "cell_type": "markdown",
   "metadata": {
    "id": "7i_jCPHpBlHC",
    "nbpages": {
     "level": 1,
     "link": "[2.4 Dynamic Optimization: Differential Algebraic Equations (DAEs)](https://ndcbe.github.io/CBE60499/02.04-DAE-modeling.html#2.4-Dynamic-Optimization:-Differential-Algebraic-Equations-(DAEs))",
     "section": "2.4 Dynamic Optimization: Differential Algebraic Equations (DAEs)"
    }
   },
   "source": [
    "# Dynamic Optimization: Differential Algebraic Equations (DAEs)\n",
    "**Prepared by:** Prof. Alexander Dowling, Myia Dickens (mdicken2@nd.edu, 2023), Molly Dougher (mdoughe6@nd.edu, 2023)"
   ]
  },
  {
   "cell_type": "code",
   "execution_count": null,
   "metadata": {
    "colab": {
     "base_uri": "https://localhost:8080/"
    },
    "id": "zkXuXNSeBlHD",
    "nbpages": {
     "level": 1,
     "link": "[2.4 Dynamic Optimization: Differential Algebraic Equations (DAEs)](https://ndcbe.github.io/CBE60499/02.04-DAE-modeling.html#2.4-Dynamic-Optimization:-Differential-Algebraic-Equations-(DAEs))",
     "section": "2.4 Dynamic Optimization: Differential Algebraic Equations (DAEs)"
    },
    "outputId": "6f1f1352-4d78-44e3-d6cd-af59e12c54fc"
   },
   "outputs": [
    {
     "name": "stdout",
     "output_type": "stream",
     "text": [
      "--2023-05-04 21:42:22--  https://raw.githubusercontent.com/ndcbe/CBE60499/main/notebooks/helper.py\n",
      "Resolving raw.githubusercontent.com (raw.githubusercontent.com)... 185.199.108.133, 185.199.109.133, 185.199.110.133, ...\n",
      "Connecting to raw.githubusercontent.com (raw.githubusercontent.com)|185.199.108.133|:443... connected.\n",
      "HTTP request sent, awaiting response... 200 OK\n",
      "Length: 7171 (7.0K) [text/plain]\n",
      "Saving to: ‘helper.py’\n",
      "\n",
      "\r",
      "helper.py             0%[                    ]       0  --.-KB/s               \r",
      "helper.py           100%[===================>]   7.00K  --.-KB/s    in 0s      \n",
      "\n",
      "2023-05-04 21:42:22 (57.9 MB/s) - ‘helper.py’ saved [7171/7171]\n",
      "\n",
      "Looking in indexes: https://pypi.org/simple, https://us-python.pkg.dev/colab-wheels/public/simple/\n",
      "Collecting casadi\n",
      "  Downloading casadi-3.6.2-cp310-none-manylinux2014_x86_64.whl (67.5 MB)\n",
      "\u001b[2K     \u001b[90m━━━━━━━━━━━━━━━━━━━━━━━━━━━━━━━━━━━━━━━━\u001b[0m \u001b[32m67.5/67.5 MB\u001b[0m \u001b[31m6.0 MB/s\u001b[0m eta \u001b[36m0:00:00\u001b[0m\n",
      "\u001b[?25hRequirement already satisfied: numpy in /usr/local/lib/python3.10/dist-packages (from casadi) (1.22.4)\n",
      "Installing collected packages: casadi\n",
      "Successfully installed casadi-3.6.2\n",
      "Installing idaes via pip...\n",
      "idaes was successfully installed\n"
     ]
    }
   ],
   "source": [
    "import sys\n",
    "if \"google.colab\" in sys.modules:\n",
    "    !wget \"https://raw.githubusercontent.com/ndcbe/CBE60499/main/notebooks/helper.py\"\n",
    "    import helper\n",
    "    !pip install casadi\n",
    "    helper.install_idaes()\n",
    "    #helper.install_ipopt()\n",
    "else:\n",
    "    import idaes # loads Ipopt with HSL\n"
   ]
  },
  {
   "cell_type": "markdown",
   "metadata": {
    "id": "lppRhPlb6U9c"
   },
   "source": [
    "# External Documentaiton for libraries used\n",
    "Pyomo.dae documentation:\n",
    "* https://pyomo.readthedocs.io/en/latest/modeling_extensions/dae.html\n",
    "\n",
    "\n",
    "CasADi (need to integrate DAEs):\n",
    "* https://web.casadi.org/get/\n",
    "* For local installation: ```pip install casadi```. Warning: installing `CasADi` with `conda` will install an \"okay\" version of Ipopt. If you really want to install `CasADi` with `conda`, you'll likely need to add `import idaes` to your notebook to load the \"good\" version of Ipopt (Linux and Windows users)."
   ]
  },
  {
   "cell_type": "markdown",
   "metadata": {
    "id": "CL9L5UDeTiLm"
   },
   "source": [
    "## Dynamic Optimization Overview"
   ]
  },
  {
   "cell_type": "markdown",
   "metadata": {
    "id": "Ll7C6XvXTxRR"
   },
   "source": [
    "### Introduction to Dynamic Optimization\n",
    "Dynamic systems can be found in a wide range of engineering fields and subfields. This section is meant to be an introduction to solve differentiable-algebraic equations (DAEs) with resepct to optimizing dynamic systems. To allow for uniform understanding, the examples and explanations in this notebook will focus on basic physics examples (i.e. the pendulum example) and explanations. \n",
    "\n",
    "DAEs are tpyically specified as initial value problems with initial coniditions at zero. These equations are experessed with resepct to an independent variable, $t$, and are typically autnomous, or $t$ does not explicilty appear in the equation. \n",
    "\n",
    "DAEs are tpyically of the form:\n",
    "\\begin{align}\n",
    "F\\left(x, \\frac{d x}{d t}, u(t), p, t\\right)=0, \\quad h(x(0))=0\n",
    "\\end{align}\n",
    "\n",
    "$x(t)$: state variables, functions of time \n",
    "\n",
    "$u(t)$: control variables, functions of time\n",
    "\n",
    "$p$: variables, independent of $t$\n",
    "\n",
    "With respect to optimizing DAEs, the equations are structured to the simpler form:\n",
    "\n",
    "\\begin{gathered}\n",
    "\\frac{d z}{d t}= f(z(t), y(t), u(t), p), \\quad z(0)=z_0, \\\\\n",
    "g(z(t), y(t), u(t), p)=0\n",
    "\\end{gathered}\n",
    "\n",
    "where the state variables $x(t)$ is partioned into differenetiable varibales, $z(t)$, and algebraic variables $y(t)$. It is assumed that $y(t)$ can be solved independetly from $z(t)$, $u(t)$, and $p$, which allows for the DAE to be treated as an ODE of the form: \n",
    "\n",
    "\\begin{align}\n",
    "\\frac{d z}{d t}=f(z(t), y[z(t),u(t),p], u(t), p)= \\bar f(z(t), u(t), p), \\quad z(0)=0\n",
    "\\end{align}\n",
    "\n",
    "The section, Handling Path Constraints, will explain DAE indexing and how to reduce the index of a DAE to allow it to be treated as an ODE. \n",
    "\n",
    "## General Breakdown of DAEs\n",
    "\n",
    "With resepct to constructing DAEs:\n",
    "\n",
    "\n",
    "*   $z(t)$: Differential equations are typically dervied from conservation laws.\n",
    "*   $y(t)$ : Algebraic equations are typiclaly derived from constitutive and equilbrium laws. \n",
    "*   The decision variables of the system fall under the two following variables:\n",
    " *  $u(t)$ : the control variables include manipulated variables that change over time.\n",
    " * $p$ : time-independent variables that correspond to parameteres, initial conditions, and other steady state conditions.\n",
    "\n",
    "## DAEs as Boundary Value Problems\n",
    "Because DAEs are typically initial value problems, they can also be boundary value problems (BVP), where the initial condition is replaced by bondary conditions. With respect to solving DAE optimization problems, BVP DAEs are of the form: \n",
    "\\begin{align}\n",
    "\\frac{d z}{d t}=\\hat f(z(t)), \\quad h(z(0),z[t_f;z(0)])=0\n",
    "\\end{align}\n",
    "\n",
    "In this form the solutions may be nonunique or not exist over a speficied reason; therefore, a key property is finding a locally unique solution, expressed by the theorem:\n",
    "\n",
    "\n",
    "\n",
    "> **Theorem 8.2**: Consider the BVP DAE with solution $ \\hat z(t)$. Also let $\\bar f(z(t))$ be Lipschitz continuous for all z(t) $|| z(t) - \\hat z(t) || \\leq \\epsilon$ for some $\\epsilon > 0$ and $t \\in [0, t_f]$. Then  the solution $\\hat z(t)$ is locally unique if and only if the matrix:\n",
    ">\n",
    "> \\begin{align}\n",
    "Q(t) = \\frac{\\partial h\\left(\\hat{z}(0), \\hat{z}\\left(t_f\\right)\\right)}{\\partial z(0)}+Z(t) \\frac{\\partial h\\left(\\hat{z}(0), \\hat{z}\\left(t_f\\right)\\right)}{\\partial z\\left(t_f\\right)}\n",
    "\\end{align}\n",
    "> \n",
    "> is nonsingular, where the fundamental solution matrix $Z(t) = \\frac{dz(t_f)}{dz(0)}$ is evaluated at the solution $\\hat z(t)$. \n",
    "\n",
    "Theorem 8.2 is important when designing DAE constrained optimization problems.\n",
    "\n",
    "## DAE Optimization\n",
    "Typically dynamic systems needed to be optimized over multiple periods, $l = 1,..., N_T$, in a time range, $t$. The model, states, and decisions can change during each period, $t \\in (t_{l-1}, t_l]$ , or over multiple periods. The multiperiod, dynamic optimization problem is of the form:\n",
    "\n",
    "\\begin{aligned}\n",
    "\\min & \\sum_{l=1}^{N_T} \\Phi^l\\left(z^l\\left(t_l\\right), y^l\\left(t_l\\right), u^l\\left(t_l\\right), p^l\\right) \\\\\n",
    "\\text { s.t. } & \\frac{d z^l}{d t}=f^l\\left(z^l(t), y^l(t), u^l(t), p^l\\right), \\quad z^l\\left(t_{l-1}\\right)=z_0^l, \\\\\n",
    "& g^l\\left(z^l(t), y^l(t), u^l(t), p^l\\right)=0, \\\\\n",
    "& u_L^l \\leq u^l(t) \\leq u_U^l, \\\\\n",
    "& p_L^l \\leq p^l \\leq p_U^l, \\\\\n",
    "& y_L^l \\leq y^l(t) \\leq y_U^l, \\\\\n",
    "& z_L^l \\leq z^l(t) \\leq z_U^l, \\quad t \\in\\left(t_{l-1}, t_l\\right], l=1, \\ldots, N_T, \\\\\n",
    "& h\\left(p, z_0^1, z^1\\left(t_1\\right), z_0^2, z^2\\left(t_2\\right), \\ldots, z_0^{N_T}, z^{N_T}\\left(t_{N_T}\\right)\\right)=0\n",
    "\\end{aligned}\n",
    "\n",
    "In this form, it is assumed that the state variables are not continuous across periods; therefore, the last line is meant to connect the states of each period. The initial conditions and inequality constraints are represented as simple bounds in this form. \n",
    "\n",
    "Key applications of DAEs and Dynamic Optimization are as follows:\n",
    "\n",
    "* Chemical Reactor Design\n",
    "* Parameter Estimation of a Dynamic System\n",
    "* Batch Process Estimation\n",
    "* Dynamic Real-Time Optimization\n",
    "\n",
    "A desciption and further explanation of these applications can be found in Chapter 8 of the Biegler (2010) textbook."
   ]
  },
  {
   "cell_type": "markdown",
   "metadata": {
    "id": "RDf4icFqUYNe"
   },
   "source": [
    "## Handling Path Constraints\n",
    "*Information taken from Section 8.4 of Biegler (2010).*\n",
    "\n"
   ]
  },
  {
   "cell_type": "markdown",
   "metadata": {
    "id": "mBpYfYeSCQIy"
   },
   "source": [
    "The motivation for defining the *index* of a DAE system starts with considering the general algebraic equality constraint $g_E(z,y,u,p)=0$. After the algebraic and control variables are established, deriving the Euler-Lagrange equations requires variable and equation nesting. In order to be nested, the algebraic variables must be able to be implicitly emliminated from their paired algebraic equation. If $y(t)$ cannot be implicitly eliminated from this algebraic equality, reformulation is needed. This reformulation  begins with establishing an index of a DAE system."
   ]
  },
  {
   "cell_type": "markdown",
   "metadata": {
    "id": "PqMDqCWYCnqP"
   },
   "source": [
    "### DAE Index and Index Reduction\n",
    "> **Definition 8.6**: Consider the DAE systems of the form: \n",
    "> \n",
    "> \\begin{align}\n",
    "F\\left(x, \\frac{d x}{d t}, u(t), p, t\\right)=0, \\quad h(x(0))=0\n",
    "\\end{align}\n",
    "> \n",
    "> OR \n",
    "> \n",
    "> \\begin{gathered}\n",
    "\\frac{d z}{d t}= f(z(t), y(t), u(t), p), \\quad z(0)=z_0, \\\\\n",
    "g(z(t), y(t), u(t), p)=0\n",
    "\\end{gathered}\n",
    "> \n",
    "> with decisions $u(t$) and $p$ fixed. The index is the integer $s$ that represents the minimum number of differentiations of the DAE system (with no respect to time) required to determine an ODE for the variables $z(t)$ and $y(t)$.\n",
    "\n",
    "Generally, for semiexplicit systems, the index of a DAE system can be determined by first differentiating the algebraic equations and then substituting resulting differential terms into the respective differential equation. Recall the number of differentiations required to isolate an ODE system corresponds to the index.\n",
    "\n",
    "As the goal is usually to isolate a DAE of index 1, the following algorithm describes the typical procedure to reduce the index of a DAE system.\n",
    "\n",
    "> **Algorithm 8.1**: (Reduction of High Index DAEs)\n",
    "Start with a DAE of the form:\n",
    "> \n",
    "> \\begin{gathered}\n",
    "\\frac{d z}{d t}= f(z(t), y(t), u(t), p), \\quad z(0)=z_0, \\\\\n",
    "g(z(t), y(t), u(t), p)=0.\n",
    "\\end{gathered}\n",
    "> \n",
    "> 1. Check if the DAE system is index 1. If yes, stop.\n",
    "2. Identify a subset of algebraic equations that can be solved for a subset of algebraic variables.\n",
    "3. Consider the remaining algebraic equations that contain differential variables $z_j$. Differentiating these remaining algebraic equations with respect to time leads to terms $\\frac{dz_j}{dt}$ in the differentiated equations.\n",
    "4. For the differential terms $\\frac{dz_j}{dt}$, substitute the right-hand sides of the corresponding differential equations $f_j(z,y,u,p)$ into the differentiated algebraic equations, and eliminate (some of) these differential equations. This leads to new algebraic equations that replace the same number of existing differential equations.\n",
    "5. With this new DAE system, go to step 1.\n",
    "\n",
    "An example of this algorithm in use can be found within the following pendulum example."
   ]
  },
  {
   "cell_type": "markdown",
   "metadata": {
    "id": "9XLQdAtHBlHG"
   },
   "source": [
    "### Pendulum model and index reduction\n",
    "Pendulum example:\n",
    "* Python version of example: http://apmonitor.com/wiki/index.php/Apps/PendulumMotion\n",
    "* More details on index reduction for example: https://www.lehigh.edu/~wes1/apci/11may00.pdf\n",
    "\n",
    "![PendulumFigure](https://github.com/mollydougher/optimization/blob/dougher-final-project/media/contrib/PendulumFigure.png?raw=true)\n",
    "\n",
    "The following DAE system describes the pendulum system:\n",
    "\n",
    "\\begin{aligned}\n",
    "& x' = u \\\\\n",
    "& y' = v \\\\\n",
    "& u' = -Tx \\\\\n",
    "& v' = g - Ty \\\\\n",
    "& x^2 + y^2 = 1 \\\\\n",
    "\\end{aligned}\n",
    "\n",
    "To find the index of the DAE system, first take the derivative of the algebraic equation and substitute in for the differential variables:\n",
    "\n",
    "\\begin{align}\n",
    "& x^2 + y^2 = 1 \\\\\n",
    "& 2xx' + 2yy' = 0 \\\\\n",
    "& 2xu + 2yv = 0\n",
    "\\end{align}\n",
    "\n",
    "Next, differentiate the obtained equation using the product rule, make similar substitutions, and rearrange:\n",
    "\n",
    "\\begin{align}\n",
    "& 2xu + 2yv = 0 \\\\\n",
    "& 2(xu'+ x'u) + 2(yv' + vy') = 0 \\\\\n",
    "& 2(-Tx^2 + u^2) + 2(y(g-Ty) + v^2) = 0 \\\\\n",
    "& 2(u^2 + v^2) + 2(-Tx^2 + gy - Ty^2) = 0 \\\\\n",
    "& 2(u^2 + v^2) - 2T(x^2 + y^2) + 2gy = 0\n",
    "\\end{align}\n",
    "\n",
    "Finally, implicitly differentiate the obtained equation, make similar substitutions, and rearrange to isolate the $T'$ term:\n",
    "\n",
    "\\begin{align}\n",
    "& 2(u^2 + v^2) - 2T(x^2 + y^2) + 2gy = 0 \\\\\n",
    "& 4(uu' + vv') - 4T(xx' + yy') - 2T'(x^2 + y^2) + 2gy' = 0 \\\\\n",
    "& 4(uu' + vv') - 4T(xx' + yy') + 2gy' = 2T'(x^2 + y^2) \\\\\n",
    "& 4(-Tux + v(g-Ty)) - 4T(xu + yv) + 2gv = 2T' \\\\\n",
    "& 4(-Tux -Tyv + gv) - 4T(xu + yv) + 2gv = 2T' \n",
    "\\end{align}\n",
    "\n",
    "Now the equations are a system of ODEs. Three differentiations were completed, indicating that this is an **Index 3 DAE**.\n",
    "\n",
    "To reduce this DAE to index 1, follow Algorithm 8.1. The above analysis shows that this is not an index 1 DAE system. Therefore, the following algebraic equation is identified: $x^2 + y^2 = 1$. Differentiate the algebraic equation to yield:\n",
    "\\begin{align}\n",
    "& 2xx' + 2yy' = 0\\\\\n",
    "\\end{align}\n",
    "which can be solved for $x'$. Substitute for $x'$ and $y'$ to yield:\n",
    "\\begin{align}\n",
    "& 2xu + 2yv = 0\\\\\n",
    "\\end{align}\n",
    "The new DAE system is now:\n",
    "\\begin{aligned}\n",
    "& y' = v \\\\\n",
    "& u' = -Tx \\\\\n",
    "& v' = g - Ty \\\\\n",
    "& x^2 + y^2 = 1 \\\\\n",
    "& 2xu + 2yv = 0 \\\\\n",
    "\\end{aligned}\n",
    "where $x$ is now an algebraic variable and the final equation must be solved for $T$. Differentiating the algebraic (last) equation leads to:\n",
    "\\begin{aligned}\n",
    "& 2(xu'+ x'u) + 2(yv' + vy') = 0 \\\\\n",
    "& 2(xu' + u^2) + 2(yv' + v^2) = 0 \\\\\n",
    "& 2(u^2 - Tx^2) + 2(v^2 + gy - Ty^2) = 0 \\\\\n",
    "\\end{aligned}\n",
    "The equations can replace $u' = -Tx$, leading to the following DAE system:\n",
    "\\begin{aligned}\n",
    "& y' = v \\\\\n",
    "& v' = g - Ty \\\\\n",
    "& x^2 + y^2 = 1 \\\\\n",
    "& (u^2 + v^2) - T(x^2 + y^2) + gy = 0 \\\\\n",
    "\\end{aligned}\n",
    "which is an **Index 1 DAE**."
   ]
  },
  {
   "cell_type": "code",
   "execution_count": null,
   "metadata": {
    "id": "MVJ_57wPBlHG",
    "nbpages": {
     "level": 2,
     "link": "[2.4.3 DAE Formulations for Simple Pendulum Example](https://ndcbe.github.io/CBE60499/02.04-DAE-modeling.html#2.4.3-DAE-Formulations-for-Simple-Pendulum-Example)",
     "section": "2.4.3 DAE Formulations for Simple Pendulum Example"
    }
   },
   "outputs": [],
   "source": [
    "## Load libraries\n",
    "import pyomo.environ as pyo\n",
    "import pyomo.dae as dae\n",
    "from pyomo.dae.simulator import Simulator\n",
    "import matplotlib.pyplot as plt\n",
    "import numpy as np\n",
    "\n",
    "## Define function for plotting results\n",
    "def plot_results(sim, tsim, profiles):\n",
    "\n",
    "    '''\n",
    "    inputs:\n",
    "\n",
    "    sim: pyomo.DAE simulator results from a simulation of ODE or DAE\n",
    "    tsim: 1D array of time samples of the DAE/ODE simulatiion\n",
    "    profiles: 2D array of simulated differential and algebraic equations\n",
    "\n",
    "    outputs:\n",
    "\n",
    "    Plot 1: A plot of the curated profiles\n",
    "    Plot 2: A plot of the simulated results\n",
    "\n",
    "    time = list(m.t)\n",
    "    x = [value(m.x[t]) for t in m.t]\n",
    "    y = [value(m.y[t]) for t in m.t]\n",
    "\n",
    "    plt.plot(time, x, '-b', label='x')\n",
    "    plt.plot(time, y, '-r', label='y')\n",
    "    plt.xlabel('Time')\n",
    "    plt.ylabel('Position')\n",
    "    plt.legend(loc='best')\n",
    "    plt.show()\n",
    "    '''\n",
    "    \n",
    "    plt.figure(1,figsize=(4,4))\n",
    "    varorder = sim.get_variable_order()\n",
    "    algorder = sim.get_variable_order(vartype='algebraic')\n",
    "\n",
    "    # Create empty dictionary\n",
    "    results = {}\n",
    "    \n",
    "    # Collect Different Profiles\n",
    "    for idx1, v in enumerate(varorder):\n",
    "        i = idx1\n",
    "        v_ = str(v)\n",
    "        results[v_] = profiles[:, i]\n",
    "        plt.plot(tsim, results[v_], label=v)\n",
    "\n",
    "    \n",
    "    # Collect Algebraic Profiles\n",
    "    for idx2, v in enumerate(algorder):\n",
    "        i = len(varorder) + idx2\n",
    "        v_ = str(v)\n",
    "        results[v_] = profiles[:, i]\n",
    "        plt.plot(tsim, results[v_], label=v)\n",
    "    \n",
    "    # Plot the simulated algebraic and differential profiles as they change in time\n",
    "    plt.xlabel('t', fontsize=16, fontweight='bold')\n",
    "    plt.tick_params(direction=\"in\",labelsize=15)\n",
    "    plt.legend(loc='best')\n",
    "    \n",
    "    plt.show()\n",
    "    \n",
    "    # Plot the results of the simulation\n",
    "    plt.figure(2,figsize=(4,4))\n",
    "    x_ = results['x[{t}]']\n",
    "    y_ = results['y[{t}]']\n",
    "    plt.plot(tsim, np.sqrt(x_**2 + y_**2), '-b', label='length')\n",
    "    plt.xlabel('t', fontsize=16, fontweight='bold')\n",
    "    plt.tick_params(direction=\"in\",labelsize=15)\n",
    "    plt.ylabel('$\\sqrt{x^2 + y^2}$')\n",
    "    plt.show()\n",
    "    \n",
    "    #return results"
   ]
  },
  {
   "cell_type": "markdown",
   "metadata": {
    "id": "r4sVhD8UBlHG",
    "nbpages": {
     "level": 3,
     "link": "[2.4.3.1 Formulation 1: Index-3 DAE](https://ndcbe.github.io/CBE60499/02.04-DAE-modeling.html#2.4.3.1-Formulation-1:-Index-3-DAE)",
     "section": "2.4.3.1 Formulation 1: Index-3 DAE"
    }
   },
   "source": [
    "### Formulation 1: Index-3 DAE\n",
    "\n",
    "Consider the following model:\n",
    "\n",
    "$$\\begin{align}\n",
    "\\frac{d x}{dt} &= u \\\\\n",
    "\\frac{d y}{dt} &= v \\\\\n",
    "\\frac{d u}{dt} &= -T x \\\\\n",
    "\\frac{d v}{dt} &= g - Ty \\\\\n",
    "& x^2 + y^2 = 1\n",
    "\\end{align}$$\n",
    "\n",
    "This assumes mass and length of unity."
   ]
  },
  {
   "cell_type": "code",
   "execution_count": null,
   "metadata": {
    "colab": {
     "base_uri": "https://localhost:8080/",
     "height": 537
    },
    "id": "IEDz1uZqBlHG",
    "nbpages": {
     "level": 3,
     "link": "[2.4.3.1 Formulation 1: Index-3 DAE](https://ndcbe.github.io/CBE60499/02.04-DAE-modeling.html#2.4.3.1-Formulation-1:-Index-3-DAE)",
     "section": "2.4.3.1 Formulation 1: Index-3 DAE"
    },
    "outputId": "9e082e5d-4028-4fcc-f205-0d16e3fa6665"
   },
   "outputs": [
    {
     "name": "stderr",
     "output_type": "stream",
     "text": [
      "CasADi - 2023-05-04 21:44:10 WARNING(\"The options 't0', 'tf', 'grid' and 'output_t0' have been deprecated.\n",
      "The same functionality is provided by providing additional input arguments to the 'integrator' function, in particular:\n",
      " * Call integrator(..., t0, tf, options) for a single output time, or\n",
      " * Call integrator(..., t0, grid, options) for multiple grid points.\n",
      "The legacy 'output_t0' option can be emulated by including or excluding 't0' in 'grid'.\n",
      "Backwards compatibility is provided in this release only.\") [.../casadi/core/integrator.cpp:499]\n",
      "At t = 0 and h = 1.06624e-14, the corrector convergence failed repeatedly or with |h| = hmin.\n"
     ]
    },
    {
     "ename": "RuntimeError",
     "evalue": "ignored",
     "output_type": "error",
     "traceback": [
      "\u001b[0;31m---------------------------------------------------------------------------\u001b[0m",
      "\u001b[0;31mRuntimeError\u001b[0m                              Traceback (most recent call last)",
      "\u001b[0;32m<ipython-input-3-e8e7a351e2ee>\u001b[0m in \u001b[0;36m<cell line: 67>\u001b[0;34m()\u001b[0m\n\u001b[1;32m     65\u001b[0m \u001b[0;31m# Solve DAEs\u001b[0m\u001b[0;34m\u001b[0m\u001b[0;34m\u001b[0m\u001b[0m\n\u001b[1;32m     66\u001b[0m \u001b[0msim\u001b[0m \u001b[0;34m=\u001b[0m \u001b[0mSimulator\u001b[0m\u001b[0;34m(\u001b[0m\u001b[0mindex3\u001b[0m\u001b[0;34m,\u001b[0m \u001b[0mpackage\u001b[0m\u001b[0;34m=\u001b[0m\u001b[0;34m'casadi'\u001b[0m\u001b[0;34m)\u001b[0m\u001b[0;34m\u001b[0m\u001b[0;34m\u001b[0m\u001b[0m\n\u001b[0;32m---> 67\u001b[0;31m \u001b[0mtsim\u001b[0m\u001b[0;34m,\u001b[0m \u001b[0mprofiles\u001b[0m \u001b[0;34m=\u001b[0m \u001b[0msim\u001b[0m\u001b[0;34m.\u001b[0m\u001b[0msimulate\u001b[0m\u001b[0;34m(\u001b[0m\u001b[0mnumpoints\u001b[0m\u001b[0;34m=\u001b[0m\u001b[0;36m100\u001b[0m\u001b[0;34m,\u001b[0m \u001b[0mintegrator\u001b[0m\u001b[0;34m=\u001b[0m\u001b[0;34m'idas'\u001b[0m\u001b[0;34m,\u001b[0m\u001b[0mintegrator_options\u001b[0m\u001b[0;34m=\u001b[0m\u001b[0mint_ops\u001b[0m\u001b[0;34m)\u001b[0m\u001b[0;34m\u001b[0m\u001b[0;34m\u001b[0m\u001b[0m\n\u001b[0m\u001b[1;32m     68\u001b[0m \u001b[0;34m\u001b[0m\u001b[0m\n\u001b[1;32m     69\u001b[0m \u001b[0;31m# Plot solution\u001b[0m\u001b[0;34m\u001b[0m\u001b[0;34m\u001b[0m\u001b[0m\n",
      "\u001b[0;32m/usr/local/lib/python3.10/dist-packages/pyomo/dae/simulator.py\u001b[0m in \u001b[0;36msimulate\u001b[0;34m(self, numpoints, tstep, integrator, varying_inputs, initcon, integrator_options)\u001b[0m\n\u001b[1;32m    882\u001b[0m             \u001b[0;32melse\u001b[0m\u001b[0;34m:\u001b[0m\u001b[0;34m\u001b[0m\u001b[0;34m\u001b[0m\u001b[0m\n\u001b[1;32m    883\u001b[0m                 \u001b[0mtsim\u001b[0m\u001b[0;34m,\u001b[0m \u001b[0mprofile\u001b[0m \u001b[0;34m=\u001b[0m\u001b[0;31m \u001b[0m\u001b[0;31m\\\u001b[0m\u001b[0;34m\u001b[0m\u001b[0;34m\u001b[0m\u001b[0m\n\u001b[0;32m--> 884\u001b[0;31m                     self._simulate_with_casadi_no_inputs(initcon, tsim,\n\u001b[0m\u001b[1;32m    885\u001b[0m                                                          \u001b[0mintegrator\u001b[0m\u001b[0;34m,\u001b[0m\u001b[0;34m\u001b[0m\u001b[0;34m\u001b[0m\u001b[0m\n\u001b[1;32m    886\u001b[0m                                                          integrator_options)\n",
      "\u001b[0;32m/usr/local/lib/python3.10/dist-packages/pyomo/dae/simulator.py\u001b[0m in \u001b[0;36m_simulate_with_casadi_no_inputs\u001b[0;34m(self, initcon, tsim, integrator, integrator_options)\u001b[0m\n\u001b[1;32m    943\u001b[0m         \u001b[0mintegrator_options\u001b[0m\u001b[0;34m[\u001b[0m\u001b[0;34m'output_t0'\u001b[0m\u001b[0;34m]\u001b[0m \u001b[0;34m=\u001b[0m \u001b[0;32mTrue\u001b[0m\u001b[0;34m\u001b[0m\u001b[0;34m\u001b[0m\u001b[0m\n\u001b[1;32m    944\u001b[0m         \u001b[0mF\u001b[0m \u001b[0;34m=\u001b[0m \u001b[0mcasadi\u001b[0m\u001b[0;34m.\u001b[0m\u001b[0mintegrator\u001b[0m\u001b[0;34m(\u001b[0m\u001b[0;34m'F'\u001b[0m\u001b[0;34m,\u001b[0m \u001b[0mintegrator\u001b[0m\u001b[0;34m,\u001b[0m \u001b[0mdae\u001b[0m\u001b[0;34m,\u001b[0m \u001b[0mintegrator_options\u001b[0m\u001b[0;34m)\u001b[0m\u001b[0;34m\u001b[0m\u001b[0;34m\u001b[0m\u001b[0m\n\u001b[0;32m--> 945\u001b[0;31m         \u001b[0msol\u001b[0m \u001b[0;34m=\u001b[0m \u001b[0mF\u001b[0m\u001b[0;34m(\u001b[0m\u001b[0mx0\u001b[0m\u001b[0;34m=\u001b[0m\u001b[0minitcon\u001b[0m\u001b[0;34m)\u001b[0m\u001b[0;34m\u001b[0m\u001b[0;34m\u001b[0m\u001b[0m\n\u001b[0m\u001b[1;32m    946\u001b[0m         \u001b[0mprofile\u001b[0m \u001b[0;34m=\u001b[0m \u001b[0msol\u001b[0m\u001b[0;34m[\u001b[0m\u001b[0;34m'xf'\u001b[0m\u001b[0;34m]\u001b[0m\u001b[0;34m.\u001b[0m\u001b[0mfull\u001b[0m\u001b[0;34m(\u001b[0m\u001b[0;34m)\u001b[0m\u001b[0;34m.\u001b[0m\u001b[0mT\u001b[0m\u001b[0;34m\u001b[0m\u001b[0;34m\u001b[0m\u001b[0m\n\u001b[1;32m    947\u001b[0m \u001b[0;34m\u001b[0m\u001b[0m\n",
      "\u001b[0;32m/usr/local/lib/python3.10/dist-packages/casadi/casadi.py\u001b[0m in \u001b[0;36m__call__\u001b[0;34m(self, *args, **kwargs)\u001b[0m\n\u001b[1;32m  23370\u001b[0m       \u001b[0;32melse\u001b[0m\u001b[0;34m:\u001b[0m\u001b[0;34m\u001b[0m\u001b[0;34m\u001b[0m\u001b[0m\n\u001b[1;32m  23371\u001b[0m     \u001b[0;31m# Named inputs -> return dictionary\u001b[0m\u001b[0;34m\u001b[0m\u001b[0;34m\u001b[0m\u001b[0m\n\u001b[0;32m> 23372\u001b[0;31m         \u001b[0;32mreturn\u001b[0m \u001b[0mself\u001b[0m\u001b[0;34m.\u001b[0m\u001b[0mcall\u001b[0m\u001b[0;34m(\u001b[0m\u001b[0mkwargs\u001b[0m\u001b[0;34m)\u001b[0m\u001b[0;34m\u001b[0m\u001b[0;34m\u001b[0m\u001b[0m\n\u001b[0m\u001b[1;32m  23373\u001b[0m \u001b[0;34m\u001b[0m\u001b[0m\n\u001b[1;32m  23374\u001b[0m     \u001b[0;32mdef\u001b[0m \u001b[0mbuffer\u001b[0m\u001b[0;34m(\u001b[0m\u001b[0mself\u001b[0m\u001b[0;34m)\u001b[0m\u001b[0;34m:\u001b[0m\u001b[0;34m\u001b[0m\u001b[0;34m\u001b[0m\u001b[0m\n",
      "\u001b[0;32m/usr/local/lib/python3.10/dist-packages/casadi/casadi.py\u001b[0m in \u001b[0;36mcall\u001b[0;34m(self, *args)\u001b[0m\n\u001b[1;32m  20019\u001b[0m \u001b[0;34m\u001b[0m\u001b[0m\n\u001b[1;32m  20020\u001b[0m         \"\"\"\n\u001b[0;32m> 20021\u001b[0;31m         \u001b[0;32mreturn\u001b[0m \u001b[0m_casadi\u001b[0m\u001b[0;34m.\u001b[0m\u001b[0mFunction_call\u001b[0m\u001b[0;34m(\u001b[0m\u001b[0mself\u001b[0m\u001b[0;34m,\u001b[0m \u001b[0;34m*\u001b[0m\u001b[0margs\u001b[0m\u001b[0;34m)\u001b[0m\u001b[0;34m\u001b[0m\u001b[0;34m\u001b[0m\u001b[0m\n\u001b[0m\u001b[1;32m  20022\u001b[0m \u001b[0;34m\u001b[0m\u001b[0m\n\u001b[1;32m  20023\u001b[0m \u001b[0;34m\u001b[0m\u001b[0m\n",
      "\u001b[0;31mRuntimeError\u001b[0m: Error in Function::call for 'F' [IdasInterface] at .../casadi/core/function.cpp:1401:\nError in Function::call for 'F' [IdasInterface] at .../casadi/core/function.cpp:330:\n.../casadi/interfaces/sundials/idas_interface.cpp:604: IDASolve returned \"IDA_CONV_FAIL\". Consult IDAS documentation."
     ]
    }
   ],
   "source": [
    "def create_model_index3():\n",
    "    '''\n",
    "    Creates a model to define the Index 3 DAE system.\n",
    "\n",
    "    Output: the model, m\n",
    "    '''\n",
    "\n",
    "    m = pyo.ConcreteModel()\n",
    "\n",
    "    # Declare time\n",
    "    m.t = dae.ContinuousSet(bounds=(0.0, 1))\n",
    "\n",
    "    # Declare parameter - acceleration due to gravity\n",
    "    m.g = pyo.Param(initialize=9.81) # m/s^2\n",
    "\n",
    "    # Declare variables indexed over time\n",
    "    m.x = pyo.Var(m.t) # horizontal position\n",
    "    m.y = pyo.Var(m.t) # vertical position\n",
    "    m.u = pyo.Var(m.t) # horizontal velocity\n",
    "    m.v = pyo.Var(m.t) # vertical velocity\n",
    "    m.T = pyo.Var(m.t) # tension\n",
    "\n",
    "    # Declare derivative variables\n",
    "    m.dx = dae.DerivativeVar(m.x) # with respect to t is implied\n",
    "    m.dy = dae.DerivativeVar(m.y)\n",
    "    m.du = dae.DerivativeVar(m.u)\n",
    "    m.dv = dae.DerivativeVar(m.v)\n",
    "\n",
    "    # Declare differential equations\n",
    "    def _dx_eqn(m, t):\n",
    "        return m.dx[t] == m.u[t]\n",
    "    m.dx_eqn = pyo.Constraint(m.t, rule=_dx_eqn)\n",
    "\n",
    "    def _dy_eqn(m, t):\n",
    "        return m.dy[t] == m.v[t]\n",
    "    m.dy_eqn = pyo.Constraint(m.t, rule=_dy_eqn)\n",
    "\n",
    "    def _du_eqn(m, t):\n",
    "        return m.du[t] == -m.T[t]*m.x[t]\n",
    "    m.du_eqn = pyo.Constraint(m.t, rule=_du_eqn)\n",
    "\n",
    "    def _dv_eqn(m, t):\n",
    "        return m.dv[t] == m.g -m.T[t]*m.y[t]\n",
    "    m.dv_eqn = pyo.Constraint(m.t, rule=_dv_eqn)\n",
    "\n",
    "    # Declare algebraic equation\n",
    "    def _alg_eqn(m, t):\n",
    "        return m.x[t]**2 + m.y[t]**2 == 1\n",
    "    m.alg_eqn = pyo.Constraint(m.t, rule=_alg_eqn)\n",
    "\n",
    "    # Specify initial conditions\n",
    "    m.x[0] = 0\n",
    "    m.y[0] = 1\n",
    "    m.u[0] = 1\n",
    "    m.v[0] = 0\n",
    "    m.T[0] = 1 + m.g\n",
    "    \n",
    "    return m\n",
    "\n",
    "index3 = create_model_index3()\n",
    "\n",
    "# Specify integrator options\n",
    "int_ops = {'print_stats':True,\"abstol\":1E-8,\"reltol\":1E-6}\n",
    "\n",
    "# Solve DAEs\n",
    "sim = Simulator(index3, package='casadi')\n",
    "tsim, profiles = sim.simulate(numpoints=100, integrator='idas',integrator_options=int_ops)\n",
    "\n",
    "# Plot solution\n",
    "plot_results(sim, tsim, profiles)"
   ]
  },
  {
   "cell_type": "markdown",
   "metadata": {
    "id": "hhmnrzc7BlHH",
    "nbpages": {
     "level": 3,
     "link": "[2.4.3.1 Formulation 1: Index-3 DAE](https://ndcbe.github.io/CBE60499/02.04-DAE-modeling.html#2.4.3.1-Formulation-1:-Index-3-DAE)",
     "section": "2.4.3.1 Formulation 1: Index-3 DAE"
    }
   },
   "source": [
    "**Warning**: If you run this notebook in Colab, you may get the following runtime error and your kernel may crash:\n",
    "\n",
    "![casadi-error-1](https://ndcbe.github.io/optimization/_images/casadi-error1.png)\n",
    "\n",
    "![casadi-error-2](https://ndcbe.github.io/optimization/_images/casadi-error2.png)"
   ]
  },
  {
   "cell_type": "markdown",
   "metadata": {
    "id": "JN6hXqm5BlHH",
    "nbpages": {
     "level": 3,
     "link": "[2.4.3.1 Formulation 1: Index-3 DAE](https://ndcbe.github.io/CBE60499/02.04-DAE-modeling.html#2.4.3.1-Formulation-1:-Index-3-DAE)",
     "section": "2.4.3.1 Formulation 1: Index-3 DAE"
    }
   },
   "source": [
    "Why did the `IDAS` integrator in `SUNDIALS` fail? It is [only meant for index 0 or 1 DAEs](https://groups.google.com/g/casadi-users/c/E02-X6nGVFs)! Integrating high index DAEs is really hard!"
   ]
  },
  {
   "cell_type": "markdown",
   "metadata": {
    "id": "DF_vhUU-BlHH",
    "nbpages": {
     "level": 3,
     "link": "[2.4.3.2 Formulation 2: Pure ODE Model](https://ndcbe.github.io/CBE60499/02.04-DAE-modeling.html#2.4.3.2-Formulation-2:-Pure-ODE-Model)",
     "section": "2.4.3.2 Formulation 2: Pure ODE Model"
    }
   },
   "source": [
    "### Formulation 2: Pure ODE Model/ Index-0 Example\n",
    "\n",
    "$$\\begin{align}\n",
    "\\frac{d x}{dt} &= u \\\\\n",
    "\\frac{d y}{dt} &= v \\\\\n",
    "\\frac{d u}{dt} &= -T x \\\\\n",
    "\\frac{d v}{dt} &= g - Ty \\\\\n",
    "\\frac{d T}{dt} &= 4 T (x u + y v) + 3 g v\n",
    "\\end{align}$$\n"
   ]
  },
  {
   "cell_type": "code",
   "execution_count": null,
   "metadata": {
    "colab": {
     "base_uri": "https://localhost:8080/",
     "height": 1000
    },
    "id": "XIeeoY9YBlHH",
    "nbpages": {
     "level": 3,
     "link": "[2.4.3.2 Formulation 2: Pure ODE Model](https://ndcbe.github.io/CBE60499/02.04-DAE-modeling.html#2.4.3.2-Formulation-2:-Pure-ODE-Model)",
     "section": "2.4.3.2 Formulation 2: Pure ODE Model"
    },
    "outputId": "7dbfff0c-ebda-4901-8d28-adc087ae4575"
   },
   "outputs": [
    {
     "name": "stdout",
     "output_type": "stream",
     "text": [
      "FORWARD INTEGRATION:\n",
      "Number of steps taken by SUNDIALS: 167\n",
      "Number of calls to the user's f function: 242\n",
      "Number of calls made to the linear solver setup function: 31\n",
      "Number of error test failures: 7\n",
      "Method order used on the last internal step: 5\n",
      "Method order to be used on the next internal step: 5\n",
      "Actual value of initial step size: 7.90569e-07\n",
      "Step size taken on the last internal step: 0.00246466\n",
      "Step size to be attempted on the next internal step: 0.00492933\n",
      "Current internal time reached: 5\n",
      "Number of nonlinear iterations performed: 240\n",
      "Number of nonlinear convergence failures: 0\n",
      "\n"
     ]
    },
    {
     "data": {
      "image/png": "[encoded data removed]",
      "text/plain": [
       "<Figure size 400x400 with 1 Axes>"
      ]
     },
     "metadata": {},
     "output_type": "display_data"
    },
    {
     "data": {
      "image/png": "[encoded data removed]",
      "text/plain": [
       "<Figure size 400x400 with 1 Axes>"
      ]
     },
     "metadata": {},
     "output_type": "display_data"
    }
   ],
   "source": [
    "def create_model_ode():\n",
    "    '''\n",
    "    Creates a model to define the Index 0 DAE system.\n",
    "\n",
    "    Output: the model, m\n",
    "    '''\n",
    "\n",
    "    m = pyo.ConcreteModel()\n",
    "\n",
    "    # Declare time\n",
    "    m.t = dae.ContinuousSet(bounds=(0.0, 5.0))\n",
    "\n",
    "    # Declare parameter - acceleration due to gravit\n",
    "    m.g = pyo.Param(initialize=9.81) # m/s^2\n",
    "\n",
    "    # Declare variables indexed over time\n",
    "    m.x = pyo.Var(m.t) # horizontal position\n",
    "    m.y = pyo.Var(m.t) # vertical position\n",
    "    m.u = pyo.Var(m.t) # horizontal velocity\n",
    "    m.v = pyo.Var(m.t) # vertical velocity\n",
    "    m.T = pyo.Var(m.t) # tension\n",
    "\n",
    "    # Declare derivative variables\n",
    "    m.dx = dae.DerivativeVar(m.x) # with respect to t is implied\n",
    "    m.dy = dae.DerivativeVar(m.y)\n",
    "    m.du = dae.DerivativeVar(m.u)\n",
    "    m.dv = dae.DerivativeVar(m.v)\n",
    "    m.dT = dae.DerivativeVar(m.T)\n",
    "\n",
    "    # Declare differential equations\n",
    "    def _dx_eqn(m, t):\n",
    "        return m.dx[t] == m.u[t]\n",
    "    m.dx_eqn = pyo.Constraint(m.t, rule=_dx_eqn)\n",
    "\n",
    "    def _dy_eqn(m, t):\n",
    "        return m.dy[t] == m.v[t]\n",
    "    m.dy_eqn = pyo.Constraint(m.t, rule=_dy_eqn)\n",
    "\n",
    "    def _du_eqn(m, t):\n",
    "        return m.du[t] == -m.T[t]*m.x[t]\n",
    "    m.du_eqn = pyo.Constraint(m.t, rule=_du_eqn)\n",
    "\n",
    "    def _dv_eqn(m, t):\n",
    "        return m.dv[t] == m.g -m.T[t]*m.y[t]\n",
    "    m.dv_eqn = pyo.Constraint(m.t, rule=_dv_eqn)\n",
    "\n",
    "    def _dT_eqn(m, t):\n",
    "        return m.dT[t] == 4*m.T[t]*(m.x[t]*m.u[t] + m.y[t]*m.v[t]) + 3*m.g*m.v[t]\n",
    "    m.dT_eqn = pyo.Constraint(m.t, rule=_dT_eqn)\n",
    "\n",
    "    # Specify initial conditions\n",
    "    m.x[0] = 0\n",
    "    m.y[0] = 1\n",
    "    m.u[0] = 1\n",
    "    m.v[0] = 0\n",
    "    m.T[0] = 1 + m.g\n",
    "    \n",
    "    return m\n",
    "\n",
    "ode = create_model_ode()\n",
    "\n",
    "# Specify integrator options\n",
    "int_ops = {'print_stats':True,\"abstol\":1E-6,\"reltol\":1E-4}\n",
    "\n",
    "# Solve DAEs\n",
    "sim = Simulator(ode, package='casadi')\n",
    "tsim, profiles = sim.simulate(numpoints=100, integrator='idas',integrator_options=int_ops)\n",
    "\n",
    "# Plot solution\n",
    "results = plot_results(sim, tsim, profiles)"
   ]
  },
  {
   "cell_type": "markdown",
   "metadata": {
    "id": "L7OK1ufnBlHH",
    "nbpages": {
     "level": 3,
     "link": "[2.4.3.2 Formulation 2: Pure ODE Model](https://ndcbe.github.io/CBE60499/02.04-DAE-modeling.html#2.4.3.2-Formulation-2:-Pure-ODE-Model)",
     "section": "2.4.3.2 Formulation 2: Pure ODE Model"
    }
   },
   "source": [
    "**Discussion**\n",
    "* Are all of the algebraic constraints in the original formulation satisfied?"
   ]
  },
  {
   "cell_type": "markdown",
   "metadata": {
    "id": "EIoP70vuBlHH",
    "nbpages": {
     "level": 3,
     "link": "[2.4.3.3 Formulation 3: Index-1 DAE Model](https://ndcbe.github.io/CBE60499/02.04-DAE-modeling.html#2.4.3.3-Formulation-3:-Index-1-DAE-Model)",
     "section": "2.4.3.3 Formulation 3: Index-1 DAE Model"
    }
   },
   "source": [
    "### Formulation 3: Index-1 DAE Model\n",
    "\n",
    "$$\\begin{align}\n",
    "\\frac{d y}{dt} &= v \\\\\n",
    "\\frac{d v}{dt} &= g - Ty \\\\\n",
    " & x^2 + y^2 = 1 \\\\\n",
    " & 2 x u + 2 y v = 0 \\\\\n",
    " & (u^2 + v^2) - T (x^2 + y^2) + g y = 0\n",
    "\\end{align}$$\n",
    "\n",
    "(This reformulation is NOT unique... could have written $\\frac{dx}{dt}$ and $\\frac{du}{dt}$ instead.)\n",
    "\n",
    "Consistent initial conditions:\n",
    "1. Specify $y(0)$ and $v(0)$.\n",
    "2. Solve for $x(0)$, $u(0)$, and $T(0)$"
   ]
  },
  {
   "cell_type": "code",
   "execution_count": null,
   "metadata": {
    "colab": {
     "base_uri": "https://localhost:8080/",
     "height": 555
    },
    "id": "gETPlqsvBlHH",
    "nbpages": {
     "level": 3,
     "link": "[2.4.3.3 Formulation 3: Index-1 DAE Model](https://ndcbe.github.io/CBE60499/02.04-DAE-modeling.html#2.4.3.3-Formulation-3:-Index-1-DAE-Model)",
     "section": "2.4.3.3 Formulation 3: Index-1 DAE Model"
    },
    "outputId": "9b77b964-ecfd-463d-b623-3d31f6efc206"
   },
   "outputs": [
    {
     "name": "stdout",
     "output_type": "stream",
     "text": [
      "Constraint 1:\n",
      "0\n",
      "\n",
      "Constraint 2:\n",
      "0\n",
      "\n",
      "Constraint 3:\n",
      "0.0\n"
     ]
    },
    {
     "name": "stderr",
     "output_type": "stream",
     "text": [
      "The residual routine or the linear setup or solve routine had a recoverable error, but IDACalcIC was unable to recover.\n"
     ]
    },
    {
     "ename": "RuntimeError",
     "evalue": "ignored",
     "output_type": "error",
     "traceback": [
      "\u001b[0;31m---------------------------------------------------------------------------\u001b[0m",
      "\u001b[0;31mRuntimeError\u001b[0m                              Traceback (most recent call last)",
      "\u001b[0;32m<ipython-input-5-24aec6c770e5>\u001b[0m in \u001b[0;36m<cell line: 84>\u001b[0;34m()\u001b[0m\n\u001b[1;32m     82\u001b[0m \u001b[0;31m# Solve DAEs\u001b[0m\u001b[0;34m\u001b[0m\u001b[0;34m\u001b[0m\u001b[0m\n\u001b[1;32m     83\u001b[0m \u001b[0msim\u001b[0m \u001b[0;34m=\u001b[0m \u001b[0mSimulator\u001b[0m\u001b[0;34m(\u001b[0m\u001b[0mindex1\u001b[0m\u001b[0;34m,\u001b[0m \u001b[0mpackage\u001b[0m\u001b[0;34m=\u001b[0m\u001b[0;34m'casadi'\u001b[0m\u001b[0;34m)\u001b[0m\u001b[0;34m\u001b[0m\u001b[0;34m\u001b[0m\u001b[0m\n\u001b[0;32m---> 84\u001b[0;31m \u001b[0mtsim\u001b[0m\u001b[0;34m,\u001b[0m \u001b[0mprofiles\u001b[0m \u001b[0;34m=\u001b[0m \u001b[0msim\u001b[0m\u001b[0;34m.\u001b[0m\u001b[0msimulate\u001b[0m\u001b[0;34m(\u001b[0m\u001b[0mnumpoints\u001b[0m\u001b[0;34m=\u001b[0m\u001b[0;36m100\u001b[0m\u001b[0;34m,\u001b[0m \u001b[0mintegrator\u001b[0m\u001b[0;34m=\u001b[0m\u001b[0;34m'idas'\u001b[0m\u001b[0;34m,\u001b[0m\u001b[0mintegrator_options\u001b[0m\u001b[0;34m=\u001b[0m\u001b[0mint_ops\u001b[0m\u001b[0;34m)\u001b[0m\u001b[0;34m\u001b[0m\u001b[0;34m\u001b[0m\u001b[0m\n\u001b[0m\u001b[1;32m     85\u001b[0m \u001b[0;31m# tsim, profiles = sim.simulate(numpoints=100, integrator='collocation')\u001b[0m\u001b[0;34m\u001b[0m\u001b[0;34m\u001b[0m\u001b[0m\n",
      "\u001b[0;32m/usr/local/lib/python3.10/dist-packages/pyomo/dae/simulator.py\u001b[0m in \u001b[0;36msimulate\u001b[0;34m(self, numpoints, tstep, integrator, varying_inputs, initcon, integrator_options)\u001b[0m\n\u001b[1;32m    882\u001b[0m             \u001b[0;32melse\u001b[0m\u001b[0;34m:\u001b[0m\u001b[0;34m\u001b[0m\u001b[0;34m\u001b[0m\u001b[0m\n\u001b[1;32m    883\u001b[0m                 \u001b[0mtsim\u001b[0m\u001b[0;34m,\u001b[0m \u001b[0mprofile\u001b[0m \u001b[0;34m=\u001b[0m\u001b[0;31m \u001b[0m\u001b[0;31m\\\u001b[0m\u001b[0;34m\u001b[0m\u001b[0;34m\u001b[0m\u001b[0m\n\u001b[0;32m--> 884\u001b[0;31m                     self._simulate_with_casadi_no_inputs(initcon, tsim,\n\u001b[0m\u001b[1;32m    885\u001b[0m                                                          \u001b[0mintegrator\u001b[0m\u001b[0;34m,\u001b[0m\u001b[0;34m\u001b[0m\u001b[0;34m\u001b[0m\u001b[0m\n\u001b[1;32m    886\u001b[0m                                                          integrator_options)\n",
      "\u001b[0;32m/usr/local/lib/python3.10/dist-packages/pyomo/dae/simulator.py\u001b[0m in \u001b[0;36m_simulate_with_casadi_no_inputs\u001b[0;34m(self, initcon, tsim, integrator, integrator_options)\u001b[0m\n\u001b[1;32m    943\u001b[0m         \u001b[0mintegrator_options\u001b[0m\u001b[0;34m[\u001b[0m\u001b[0;34m'output_t0'\u001b[0m\u001b[0;34m]\u001b[0m \u001b[0;34m=\u001b[0m \u001b[0;32mTrue\u001b[0m\u001b[0;34m\u001b[0m\u001b[0;34m\u001b[0m\u001b[0m\n\u001b[1;32m    944\u001b[0m         \u001b[0mF\u001b[0m \u001b[0;34m=\u001b[0m \u001b[0mcasadi\u001b[0m\u001b[0;34m.\u001b[0m\u001b[0mintegrator\u001b[0m\u001b[0;34m(\u001b[0m\u001b[0;34m'F'\u001b[0m\u001b[0;34m,\u001b[0m \u001b[0mintegrator\u001b[0m\u001b[0;34m,\u001b[0m \u001b[0mdae\u001b[0m\u001b[0;34m,\u001b[0m \u001b[0mintegrator_options\u001b[0m\u001b[0;34m)\u001b[0m\u001b[0;34m\u001b[0m\u001b[0;34m\u001b[0m\u001b[0m\n\u001b[0;32m--> 945\u001b[0;31m         \u001b[0msol\u001b[0m \u001b[0;34m=\u001b[0m \u001b[0mF\u001b[0m\u001b[0;34m(\u001b[0m\u001b[0mx0\u001b[0m\u001b[0;34m=\u001b[0m\u001b[0minitcon\u001b[0m\u001b[0;34m)\u001b[0m\u001b[0;34m\u001b[0m\u001b[0;34m\u001b[0m\u001b[0m\n\u001b[0m\u001b[1;32m    946\u001b[0m         \u001b[0mprofile\u001b[0m \u001b[0;34m=\u001b[0m \u001b[0msol\u001b[0m\u001b[0;34m[\u001b[0m\u001b[0;34m'xf'\u001b[0m\u001b[0;34m]\u001b[0m\u001b[0;34m.\u001b[0m\u001b[0mfull\u001b[0m\u001b[0;34m(\u001b[0m\u001b[0;34m)\u001b[0m\u001b[0;34m.\u001b[0m\u001b[0mT\u001b[0m\u001b[0;34m\u001b[0m\u001b[0;34m\u001b[0m\u001b[0m\n\u001b[1;32m    947\u001b[0m \u001b[0;34m\u001b[0m\u001b[0m\n",
      "\u001b[0;32m/usr/local/lib/python3.10/dist-packages/casadi/casadi.py\u001b[0m in \u001b[0;36m__call__\u001b[0;34m(self, *args, **kwargs)\u001b[0m\n\u001b[1;32m  23370\u001b[0m       \u001b[0;32melse\u001b[0m\u001b[0;34m:\u001b[0m\u001b[0;34m\u001b[0m\u001b[0;34m\u001b[0m\u001b[0m\n\u001b[1;32m  23371\u001b[0m     \u001b[0;31m# Named inputs -> return dictionary\u001b[0m\u001b[0;34m\u001b[0m\u001b[0;34m\u001b[0m\u001b[0m\n\u001b[0;32m> 23372\u001b[0;31m         \u001b[0;32mreturn\u001b[0m \u001b[0mself\u001b[0m\u001b[0;34m.\u001b[0m\u001b[0mcall\u001b[0m\u001b[0;34m(\u001b[0m\u001b[0mkwargs\u001b[0m\u001b[0;34m)\u001b[0m\u001b[0;34m\u001b[0m\u001b[0;34m\u001b[0m\u001b[0m\n\u001b[0m\u001b[1;32m  23373\u001b[0m \u001b[0;34m\u001b[0m\u001b[0m\n\u001b[1;32m  23374\u001b[0m     \u001b[0;32mdef\u001b[0m \u001b[0mbuffer\u001b[0m\u001b[0;34m(\u001b[0m\u001b[0mself\u001b[0m\u001b[0;34m)\u001b[0m\u001b[0;34m:\u001b[0m\u001b[0;34m\u001b[0m\u001b[0;34m\u001b[0m\u001b[0m\n",
      "\u001b[0;32m/usr/local/lib/python3.10/dist-packages/casadi/casadi.py\u001b[0m in \u001b[0;36mcall\u001b[0;34m(self, *args)\u001b[0m\n\u001b[1;32m  20019\u001b[0m \u001b[0;34m\u001b[0m\u001b[0m\n\u001b[1;32m  20020\u001b[0m         \"\"\"\n\u001b[0;32m> 20021\u001b[0;31m         \u001b[0;32mreturn\u001b[0m \u001b[0m_casadi\u001b[0m\u001b[0;34m.\u001b[0m\u001b[0mFunction_call\u001b[0m\u001b[0;34m(\u001b[0m\u001b[0mself\u001b[0m\u001b[0;34m,\u001b[0m \u001b[0;34m*\u001b[0m\u001b[0margs\u001b[0m\u001b[0;34m)\u001b[0m\u001b[0;34m\u001b[0m\u001b[0;34m\u001b[0m\u001b[0m\n\u001b[0m\u001b[1;32m  20022\u001b[0m \u001b[0;34m\u001b[0m\u001b[0m\n\u001b[1;32m  20023\u001b[0m \u001b[0;34m\u001b[0m\u001b[0m\n",
      "\u001b[0;31mRuntimeError\u001b[0m: Error in Function::call for 'F' [IdasInterface] at .../casadi/core/function.cpp:1401:\nError in Function::call for 'F' [IdasInterface] at .../casadi/core/function.cpp:330:\n.../casadi/interfaces/sundials/idas_interface.cpp:604: IDACalcIC returned \"IDA_NO_RECOVERY\". Consult IDAS documentation."
     ]
    }
   ],
   "source": [
    "def create_model_index1():\n",
    "    '''\n",
    "    Creates a model to define the Index 1 DAE system.\n",
    "\n",
    "    Output: the model, m\n",
    "    '''\n",
    "\n",
    "    m = pyo.ConcreteModel()\n",
    "\n",
    "    # Declare time\n",
    "    m.t = dae.ContinuousSet(bounds=(0, 5))\n",
    "\n",
    "    # Declare parameter - acceleration due to gravity\n",
    "    m.g = pyo.Param(initialize=9.81) # m/s^2\n",
    "\n",
    "    # Declare variables indexed over time\n",
    "    m.x = pyo.Var(m.t) # horizontal position\n",
    "    m.y = pyo.Var(m.t) # vertical position\n",
    "    m.u = pyo.Var(m.t) # horizontal velocity\n",
    "    m.v = pyo.Var(m.t) # vertical velocity\n",
    "    m.T = pyo.Var(m.t) # tension\n",
    "\n",
    "    # Declare derivative variables\n",
    "    m.dy = dae.DerivativeVar(m.y)\n",
    "    m.dv = dae.DerivativeVar(m.v)\n",
    "\n",
    "    # Declare differential equations\n",
    "    def _dy_eqn(m, t):\n",
    "        return m.dy[t] == m.v[t]\n",
    "    m.dy_eqn = pyo.Constraint(m.t, rule=_dy_eqn)\n",
    "\n",
    "    def _dv_eqn(m, t):\n",
    "        return m.dv[t] == m.g - m.T[t]*m.y[t]\n",
    "    m.dv_eqn = pyo.Constraint(m.t, rule=_dv_eqn)\n",
    "\n",
    "    # Declare algebraic equations\n",
    "    def _alg_eqn1(m, t):\n",
    "        return m.x[t]**2 + m.y[t]**2 == 1\n",
    "    m.alg_eqn1 = pyo.Constraint(m.t, rule=_alg_eqn1)\n",
    "\n",
    "    def _alg_eqn2(m, t):\n",
    "        return m.x[t]*m.u[t] + m.y[t]*m.v[t] == 0\n",
    "    m.alg_eqn2 = pyo.Constraint(m.t, rule=_alg_eqn2)\n",
    "\n",
    "    def _alg_eqn3(m, t):\n",
    "        return m.u[t]**2 + m.v[t]**2 - m.T[t]*(m.x[t]**2 + m.y[t]**2) + m.g*m.y[t] == 0\n",
    "    m.alg_eqn3 = pyo.Constraint(m.t, rule=_alg_eqn3)\n",
    "\n",
    "    # Specify initial conditions\n",
    "    m.x[0] = 0\n",
    "    m.y[0] = 1\n",
    "    m.u[0] = 1\n",
    "    m.v[0] = 0\n",
    "    m.T[0] = 1 + m.g\n",
    "    \n",
    "    return m\n",
    "\n",
    "def index1_check_constraints(m):\n",
    "    \"\"\" Check if the three constraints are feasible.\n",
    "    \"\"\"\n",
    "    \n",
    "    print(\"Constraint 1:\")\n",
    "    r1 = m.x[0]()**2 + m.y[0]()**2 - 1\n",
    "    print(r1)\n",
    "    \n",
    "    print(\"\\nConstraint 2:\")\n",
    "    r2 = m.x[0]()*m.u[0]() + m.y[0]()*m.v[0]()\n",
    "    print(r2)\n",
    "    \n",
    "    print(\"\\nConstraint 3:\")\n",
    "    r3 = m.u[0]()**2 + m.v[0]()**2 - m.T[0]() + m.g*m.y[0]()\n",
    "    print(r3)\n",
    "\n",
    "index1 = create_model_index1()\n",
    "\n",
    "# Check initial condition\n",
    "index1_check_constraints(index1)\n",
    "\n",
    "# Specify integrator options\n",
    "int_ops = {'print_stats':True,\"abstol\":1E-6,\"reltol\":1E-4}\n",
    "\n",
    "# Solve DAEs\n",
    "sim = Simulator(index1, package='casadi')\n",
    "tsim, profiles = sim.simulate(numpoints=100, integrator='idas',integrator_options=int_ops)\n",
    "# tsim, profiles = sim.simulate(numpoints=100, integrator='collocation')"
   ]
  },
  {
   "cell_type": "markdown",
   "metadata": {
    "id": "FNaHYl0aBlHI",
    "nbpages": {
     "level": 3,
     "link": "[2.4.3.3 Formulation 3: Index-1 DAE Model](https://ndcbe.github.io/CBE60499/02.04-DAE-modeling.html#2.4.3.3-Formulation-3:-Index-1-DAE-Model)",
     "section": "2.4.3.3 Formulation 3: Index-1 DAE Model"
    }
   },
   "source": [
    "What happened? [Point singularity](https://sourceforge.net/p/casadi/discussion/1271244/thread/1d895c9e/) at $x=0$.\n",
    "\n",
    "Let's try $x=0.1$ as the initial point."
   ]
  },
  {
   "cell_type": "code",
   "execution_count": null,
   "metadata": {
    "colab": {
     "base_uri": "https://localhost:8080/",
     "height": 537
    },
    "id": "yyi3Xjg8BlHI",
    "nbpages": {
     "level": 3,
     "link": "[2.4.3.3 Formulation 3: Index-1 DAE Model](https://ndcbe.github.io/CBE60499/02.04-DAE-modeling.html#2.4.3.3-Formulation-3:-Index-1-DAE-Model)",
     "section": "2.4.3.3 Formulation 3: Index-1 DAE Model"
    },
    "outputId": "17f5dcf1-c397-41a5-a54a-edf0f3d178e0"
   },
   "outputs": [
    {
     "name": "stdout",
     "output_type": "stream",
     "text": [
      "Constraint 1:\n",
      "0.010000000000000009\n",
      "\n",
      "Constraint 2:\n",
      "0.1\n",
      "\n",
      "Constraint 3:\n",
      "0.0\n"
     ]
    },
    {
     "name": "stderr",
     "output_type": "stream",
     "text": [
      "The residual routine or the linear setup or solve routine had a recoverable error, but IDACalcIC was unable to recover.\n"
     ]
    },
    {
     "ename": "RuntimeError",
     "evalue": "ignored",
     "output_type": "error",
     "traceback": [
      "\u001b[0;31m---------------------------------------------------------------------------\u001b[0m",
      "\u001b[0;31mRuntimeError\u001b[0m                              Traceback (most recent call last)",
      "\u001b[0;32m<ipython-input-6-d7e5a0955a84>\u001b[0m in \u001b[0;36m<cell line: 19>\u001b[0;34m()\u001b[0m\n\u001b[1;32m     17\u001b[0m \u001b[0;34m\u001b[0m\u001b[0m\n\u001b[1;32m     18\u001b[0m \u001b[0;31m# Simulator\u001b[0m\u001b[0;34m\u001b[0m\u001b[0;34m\u001b[0m\u001b[0m\n\u001b[0;32m---> 19\u001b[0;31m \u001b[0mtsim\u001b[0m\u001b[0;34m,\u001b[0m \u001b[0mprofiles\u001b[0m \u001b[0;34m=\u001b[0m \u001b[0msim\u001b[0m\u001b[0;34m.\u001b[0m\u001b[0msimulate\u001b[0m\u001b[0;34m(\u001b[0m\u001b[0mnumpoints\u001b[0m\u001b[0;34m=\u001b[0m\u001b[0;36m100\u001b[0m\u001b[0;34m,\u001b[0m \u001b[0mintegrator\u001b[0m\u001b[0;34m=\u001b[0m\u001b[0;34m'idas'\u001b[0m\u001b[0;34m,\u001b[0m\u001b[0mintegrator_options\u001b[0m\u001b[0;34m=\u001b[0m\u001b[0mint_ops\u001b[0m\u001b[0;34m)\u001b[0m\u001b[0;34m\u001b[0m\u001b[0;34m\u001b[0m\u001b[0m\n\u001b[0m",
      "\u001b[0;32m/usr/local/lib/python3.10/dist-packages/pyomo/dae/simulator.py\u001b[0m in \u001b[0;36msimulate\u001b[0;34m(self, numpoints, tstep, integrator, varying_inputs, initcon, integrator_options)\u001b[0m\n\u001b[1;32m    882\u001b[0m             \u001b[0;32melse\u001b[0m\u001b[0;34m:\u001b[0m\u001b[0;34m\u001b[0m\u001b[0;34m\u001b[0m\u001b[0m\n\u001b[1;32m    883\u001b[0m                 \u001b[0mtsim\u001b[0m\u001b[0;34m,\u001b[0m \u001b[0mprofile\u001b[0m \u001b[0;34m=\u001b[0m\u001b[0;31m \u001b[0m\u001b[0;31m\\\u001b[0m\u001b[0;34m\u001b[0m\u001b[0;34m\u001b[0m\u001b[0m\n\u001b[0;32m--> 884\u001b[0;31m                     self._simulate_with_casadi_no_inputs(initcon, tsim,\n\u001b[0m\u001b[1;32m    885\u001b[0m                                                          \u001b[0mintegrator\u001b[0m\u001b[0;34m,\u001b[0m\u001b[0;34m\u001b[0m\u001b[0;34m\u001b[0m\u001b[0m\n\u001b[1;32m    886\u001b[0m                                                          integrator_options)\n",
      "\u001b[0;32m/usr/local/lib/python3.10/dist-packages/pyomo/dae/simulator.py\u001b[0m in \u001b[0;36m_simulate_with_casadi_no_inputs\u001b[0;34m(self, initcon, tsim, integrator, integrator_options)\u001b[0m\n\u001b[1;32m    943\u001b[0m         \u001b[0mintegrator_options\u001b[0m\u001b[0;34m[\u001b[0m\u001b[0;34m'output_t0'\u001b[0m\u001b[0;34m]\u001b[0m \u001b[0;34m=\u001b[0m \u001b[0;32mTrue\u001b[0m\u001b[0;34m\u001b[0m\u001b[0;34m\u001b[0m\u001b[0m\n\u001b[1;32m    944\u001b[0m         \u001b[0mF\u001b[0m \u001b[0;34m=\u001b[0m \u001b[0mcasadi\u001b[0m\u001b[0;34m.\u001b[0m\u001b[0mintegrator\u001b[0m\u001b[0;34m(\u001b[0m\u001b[0;34m'F'\u001b[0m\u001b[0;34m,\u001b[0m \u001b[0mintegrator\u001b[0m\u001b[0;34m,\u001b[0m \u001b[0mdae\u001b[0m\u001b[0;34m,\u001b[0m \u001b[0mintegrator_options\u001b[0m\u001b[0;34m)\u001b[0m\u001b[0;34m\u001b[0m\u001b[0;34m\u001b[0m\u001b[0m\n\u001b[0;32m--> 945\u001b[0;31m         \u001b[0msol\u001b[0m \u001b[0;34m=\u001b[0m \u001b[0mF\u001b[0m\u001b[0;34m(\u001b[0m\u001b[0mx0\u001b[0m\u001b[0;34m=\u001b[0m\u001b[0minitcon\u001b[0m\u001b[0;34m)\u001b[0m\u001b[0;34m\u001b[0m\u001b[0;34m\u001b[0m\u001b[0m\n\u001b[0m\u001b[1;32m    946\u001b[0m         \u001b[0mprofile\u001b[0m \u001b[0;34m=\u001b[0m \u001b[0msol\u001b[0m\u001b[0;34m[\u001b[0m\u001b[0;34m'xf'\u001b[0m\u001b[0;34m]\u001b[0m\u001b[0;34m.\u001b[0m\u001b[0mfull\u001b[0m\u001b[0;34m(\u001b[0m\u001b[0;34m)\u001b[0m\u001b[0;34m.\u001b[0m\u001b[0mT\u001b[0m\u001b[0;34m\u001b[0m\u001b[0;34m\u001b[0m\u001b[0m\n\u001b[1;32m    947\u001b[0m \u001b[0;34m\u001b[0m\u001b[0m\n",
      "\u001b[0;32m/usr/local/lib/python3.10/dist-packages/casadi/casadi.py\u001b[0m in \u001b[0;36m__call__\u001b[0;34m(self, *args, **kwargs)\u001b[0m\n\u001b[1;32m  23370\u001b[0m       \u001b[0;32melse\u001b[0m\u001b[0;34m:\u001b[0m\u001b[0;34m\u001b[0m\u001b[0;34m\u001b[0m\u001b[0m\n\u001b[1;32m  23371\u001b[0m     \u001b[0;31m# Named inputs -> return dictionary\u001b[0m\u001b[0;34m\u001b[0m\u001b[0;34m\u001b[0m\u001b[0m\n\u001b[0;32m> 23372\u001b[0;31m         \u001b[0;32mreturn\u001b[0m \u001b[0mself\u001b[0m\u001b[0;34m.\u001b[0m\u001b[0mcall\u001b[0m\u001b[0;34m(\u001b[0m\u001b[0mkwargs\u001b[0m\u001b[0;34m)\u001b[0m\u001b[0;34m\u001b[0m\u001b[0;34m\u001b[0m\u001b[0m\n\u001b[0m\u001b[1;32m  23373\u001b[0m \u001b[0;34m\u001b[0m\u001b[0m\n\u001b[1;32m  23374\u001b[0m     \u001b[0;32mdef\u001b[0m \u001b[0mbuffer\u001b[0m\u001b[0;34m(\u001b[0m\u001b[0mself\u001b[0m\u001b[0;34m)\u001b[0m\u001b[0;34m:\u001b[0m\u001b[0;34m\u001b[0m\u001b[0;34m\u001b[0m\u001b[0m\n",
      "\u001b[0;32m/usr/local/lib/python3.10/dist-packages/casadi/casadi.py\u001b[0m in \u001b[0;36mcall\u001b[0;34m(self, *args)\u001b[0m\n\u001b[1;32m  20019\u001b[0m \u001b[0;34m\u001b[0m\u001b[0m\n\u001b[1;32m  20020\u001b[0m         \"\"\"\n\u001b[0;32m> 20021\u001b[0;31m         \u001b[0;32mreturn\u001b[0m \u001b[0m_casadi\u001b[0m\u001b[0;34m.\u001b[0m\u001b[0mFunction_call\u001b[0m\u001b[0;34m(\u001b[0m\u001b[0mself\u001b[0m\u001b[0;34m,\u001b[0m \u001b[0;34m*\u001b[0m\u001b[0margs\u001b[0m\u001b[0;34m)\u001b[0m\u001b[0;34m\u001b[0m\u001b[0;34m\u001b[0m\u001b[0m\n\u001b[0m\u001b[1;32m  20022\u001b[0m \u001b[0;34m\u001b[0m\u001b[0m\n\u001b[1;32m  20023\u001b[0m \u001b[0;34m\u001b[0m\u001b[0m\n",
      "\u001b[0;31mRuntimeError\u001b[0m: Error in Function::call for 'F' [IdasInterface] at .../casadi/core/function.cpp:1401:\nError in Function::call for 'F' [IdasInterface] at .../casadi/core/function.cpp:330:\n.../casadi/interfaces/sundials/idas_interface.cpp:604: IDACalcIC returned \"IDA_NO_RECOVERY\". Consult IDAS documentation."
     ]
    }
   ],
   "source": [
    "index1_again = create_model_index1()\n",
    "\n",
    "# Specify alternative initial conditions\n",
    "small_number = 0.1\n",
    "\n",
    "index1_again.x[0] = small_number\n",
    "index1_again.y[0] = 1\n",
    "index1_again.u[0] = 1\n",
    "index1_again.v[0] = 0\n",
    "index1_again.T[0] = 1 + index1_again.g\n",
    "\n",
    "# Check initial condition\n",
    "index1_check_constraints(index1_again)\n",
    "\n",
    "# Solve DAEs\n",
    "sim = Simulator(index1_again, package='casadi')\n",
    "\n",
    "# Simulator\n",
    "tsim, profiles = sim.simulate(numpoints=100, integrator='idas',integrator_options=int_ops)"
   ]
  },
  {
   "cell_type": "markdown",
   "metadata": {
    "id": "GtGdf1BSBlHI",
    "nbpages": {
     "level": 3,
     "link": "[2.4.3.3 Formulation 3: Index-1 DAE Model](https://ndcbe.github.io/CBE60499/02.04-DAE-modeling.html#2.4.3.3-Formulation-3:-Index-1-DAE-Model)",
     "section": "2.4.3.3 Formulation 3: Index-1 DAE Model"
    }
   },
   "source": [
    "Our initial point does not satisfy the algebraic constraints! We need a consistent initial point."
   ]
  },
  {
   "cell_type": "markdown",
   "metadata": {
    "id": "ZVOeakE8BlHI",
    "nbpages": {
     "level": 3,
     "link": "[2.4.3.3 Formulation 3: Index-1 DAE Model](https://ndcbe.github.io/CBE60499/02.04-DAE-modeling.html#2.4.3.3-Formulation-3:-Index-1-DAE-Model)",
     "section": "2.4.3.3 Formulation 3: Index-1 DAE Model"
    }
   },
   "source": [
    "Given $x = \\epsilon$, solve $x^2 + y^2 = 1$ for $y$:\n",
    "\n",
    "$$ y = \\sqrt{1^2 - \\epsilon^2}$$\n",
    "\n",
    "Then, assume $u = 1$ and solve $2 x u + 2 y v = 0$ for $v$:\n",
    "\n",
    "$$v = \\frac{-x u}{y}$$\n",
    "\n",
    "Finally, we can solve $(u^2 + v^2) - T (x^2 + y^2) + g y = 0$ for $T$:\n",
    "\n",
    "$$\n",
    "T = \\frac{(u^2 + v^2) + gy}{x^2 + y^2} = \\frac{(u^2 + v^2) + gy}{1}\n",
    "$$"
   ]
  },
  {
   "cell_type": "code",
   "execution_count": null,
   "metadata": {
    "colab": {
     "base_uri": "https://localhost:8080/",
     "height": 537
    },
    "id": "klWVZwiPBlHI",
    "nbpages": {
     "level": 3,
     "link": "[2.4.3.3 Formulation 3: Index-1 DAE Model](https://ndcbe.github.io/CBE60499/02.04-DAE-modeling.html#2.4.3.3-Formulation-3:-Index-1-DAE-Model)",
     "section": "2.4.3.3 Formulation 3: Index-1 DAE Model"
    },
    "outputId": "a8079fd1-4678-454f-97f7-2efddc900f28"
   },
   "outputs": [
    {
     "name": "stdout",
     "output_type": "stream",
     "text": [
      "Constraint 1:\n",
      "0.0\n",
      "\n",
      "Constraint 2:\n",
      "0.0\n",
      "\n",
      "Constraint 3:\n",
      "0.0\n"
     ]
    },
    {
     "name": "stderr",
     "output_type": "stream",
     "text": [
      "The residual routine or the linear setup or solve routine had a recoverable error, but IDACalcIC was unable to recover.\n"
     ]
    },
    {
     "ename": "RuntimeError",
     "evalue": "ignored",
     "output_type": "error",
     "traceback": [
      "\u001b[0;31m---------------------------------------------------------------------------\u001b[0m",
      "\u001b[0;31mRuntimeError\u001b[0m                              Traceback (most recent call last)",
      "\u001b[0;32m<ipython-input-7-1f152c98c30e>\u001b[0m in \u001b[0;36m<cell line: 24>\u001b[0;34m()\u001b[0m\n\u001b[1;32m     22\u001b[0m \u001b[0;34m\u001b[0m\u001b[0m\n\u001b[1;32m     23\u001b[0m \u001b[0;31m# Simulator\u001b[0m\u001b[0;34m\u001b[0m\u001b[0;34m\u001b[0m\u001b[0m\n\u001b[0;32m---> 24\u001b[0;31m \u001b[0mtsim\u001b[0m\u001b[0;34m,\u001b[0m \u001b[0mprofiles\u001b[0m \u001b[0;34m=\u001b[0m \u001b[0msim\u001b[0m\u001b[0;34m.\u001b[0m\u001b[0msimulate\u001b[0m\u001b[0;34m(\u001b[0m\u001b[0mnumpoints\u001b[0m\u001b[0;34m=\u001b[0m\u001b[0;36m20\u001b[0m\u001b[0;34m,\u001b[0m \u001b[0mintegrator\u001b[0m\u001b[0;34m=\u001b[0m\u001b[0;34m'idas'\u001b[0m\u001b[0;34m,\u001b[0m\u001b[0mintegrator_options\u001b[0m\u001b[0;34m=\u001b[0m\u001b[0mint_ops2\u001b[0m\u001b[0;34m)\u001b[0m\u001b[0;34m\u001b[0m\u001b[0;34m\u001b[0m\u001b[0m\n\u001b[0m",
      "\u001b[0;32m/usr/local/lib/python3.10/dist-packages/pyomo/dae/simulator.py\u001b[0m in \u001b[0;36msimulate\u001b[0;34m(self, numpoints, tstep, integrator, varying_inputs, initcon, integrator_options)\u001b[0m\n\u001b[1;32m    882\u001b[0m             \u001b[0;32melse\u001b[0m\u001b[0;34m:\u001b[0m\u001b[0;34m\u001b[0m\u001b[0;34m\u001b[0m\u001b[0m\n\u001b[1;32m    883\u001b[0m                 \u001b[0mtsim\u001b[0m\u001b[0;34m,\u001b[0m \u001b[0mprofile\u001b[0m \u001b[0;34m=\u001b[0m\u001b[0;31m \u001b[0m\u001b[0;31m\\\u001b[0m\u001b[0;34m\u001b[0m\u001b[0;34m\u001b[0m\u001b[0m\n\u001b[0;32m--> 884\u001b[0;31m                     self._simulate_with_casadi_no_inputs(initcon, tsim,\n\u001b[0m\u001b[1;32m    885\u001b[0m                                                          \u001b[0mintegrator\u001b[0m\u001b[0;34m,\u001b[0m\u001b[0;34m\u001b[0m\u001b[0;34m\u001b[0m\u001b[0m\n\u001b[1;32m    886\u001b[0m                                                          integrator_options)\n",
      "\u001b[0;32m/usr/local/lib/python3.10/dist-packages/pyomo/dae/simulator.py\u001b[0m in \u001b[0;36m_simulate_with_casadi_no_inputs\u001b[0;34m(self, initcon, tsim, integrator, integrator_options)\u001b[0m\n\u001b[1;32m    943\u001b[0m         \u001b[0mintegrator_options\u001b[0m\u001b[0;34m[\u001b[0m\u001b[0;34m'output_t0'\u001b[0m\u001b[0;34m]\u001b[0m \u001b[0;34m=\u001b[0m \u001b[0;32mTrue\u001b[0m\u001b[0;34m\u001b[0m\u001b[0;34m\u001b[0m\u001b[0m\n\u001b[1;32m    944\u001b[0m         \u001b[0mF\u001b[0m \u001b[0;34m=\u001b[0m \u001b[0mcasadi\u001b[0m\u001b[0;34m.\u001b[0m\u001b[0mintegrator\u001b[0m\u001b[0;34m(\u001b[0m\u001b[0;34m'F'\u001b[0m\u001b[0;34m,\u001b[0m \u001b[0mintegrator\u001b[0m\u001b[0;34m,\u001b[0m \u001b[0mdae\u001b[0m\u001b[0;34m,\u001b[0m \u001b[0mintegrator_options\u001b[0m\u001b[0;34m)\u001b[0m\u001b[0;34m\u001b[0m\u001b[0;34m\u001b[0m\u001b[0m\n\u001b[0;32m--> 945\u001b[0;31m         \u001b[0msol\u001b[0m \u001b[0;34m=\u001b[0m \u001b[0mF\u001b[0m\u001b[0;34m(\u001b[0m\u001b[0mx0\u001b[0m\u001b[0;34m=\u001b[0m\u001b[0minitcon\u001b[0m\u001b[0;34m)\u001b[0m\u001b[0;34m\u001b[0m\u001b[0;34m\u001b[0m\u001b[0m\n\u001b[0m\u001b[1;32m    946\u001b[0m         \u001b[0mprofile\u001b[0m \u001b[0;34m=\u001b[0m \u001b[0msol\u001b[0m\u001b[0;34m[\u001b[0m\u001b[0;34m'xf'\u001b[0m\u001b[0;34m]\u001b[0m\u001b[0;34m.\u001b[0m\u001b[0mfull\u001b[0m\u001b[0;34m(\u001b[0m\u001b[0;34m)\u001b[0m\u001b[0;34m.\u001b[0m\u001b[0mT\u001b[0m\u001b[0;34m\u001b[0m\u001b[0;34m\u001b[0m\u001b[0m\n\u001b[1;32m    947\u001b[0m \u001b[0;34m\u001b[0m\u001b[0m\n",
      "\u001b[0;32m/usr/local/lib/python3.10/dist-packages/casadi/casadi.py\u001b[0m in \u001b[0;36m__call__\u001b[0;34m(self, *args, **kwargs)\u001b[0m\n\u001b[1;32m  23370\u001b[0m       \u001b[0;32melse\u001b[0m\u001b[0;34m:\u001b[0m\u001b[0;34m\u001b[0m\u001b[0;34m\u001b[0m\u001b[0m\n\u001b[1;32m  23371\u001b[0m     \u001b[0;31m# Named inputs -> return dictionary\u001b[0m\u001b[0;34m\u001b[0m\u001b[0;34m\u001b[0m\u001b[0m\n\u001b[0;32m> 23372\u001b[0;31m         \u001b[0;32mreturn\u001b[0m \u001b[0mself\u001b[0m\u001b[0;34m.\u001b[0m\u001b[0mcall\u001b[0m\u001b[0;34m(\u001b[0m\u001b[0mkwargs\u001b[0m\u001b[0;34m)\u001b[0m\u001b[0;34m\u001b[0m\u001b[0;34m\u001b[0m\u001b[0m\n\u001b[0m\u001b[1;32m  23373\u001b[0m \u001b[0;34m\u001b[0m\u001b[0m\n\u001b[1;32m  23374\u001b[0m     \u001b[0;32mdef\u001b[0m \u001b[0mbuffer\u001b[0m\u001b[0;34m(\u001b[0m\u001b[0mself\u001b[0m\u001b[0;34m)\u001b[0m\u001b[0;34m:\u001b[0m\u001b[0;34m\u001b[0m\u001b[0;34m\u001b[0m\u001b[0m\n",
      "\u001b[0;32m/usr/local/lib/python3.10/dist-packages/casadi/casadi.py\u001b[0m in \u001b[0;36mcall\u001b[0;34m(self, *args)\u001b[0m\n\u001b[1;32m  20019\u001b[0m \u001b[0;34m\u001b[0m\u001b[0m\n\u001b[1;32m  20020\u001b[0m         \"\"\"\n\u001b[0;32m> 20021\u001b[0;31m         \u001b[0;32mreturn\u001b[0m \u001b[0m_casadi\u001b[0m\u001b[0;34m.\u001b[0m\u001b[0mFunction_call\u001b[0m\u001b[0;34m(\u001b[0m\u001b[0mself\u001b[0m\u001b[0;34m,\u001b[0m \u001b[0;34m*\u001b[0m\u001b[0margs\u001b[0m\u001b[0;34m)\u001b[0m\u001b[0;34m\u001b[0m\u001b[0;34m\u001b[0m\u001b[0m\n\u001b[0m\u001b[1;32m  20022\u001b[0m \u001b[0;34m\u001b[0m\u001b[0m\n\u001b[1;32m  20023\u001b[0m \u001b[0;34m\u001b[0m\u001b[0m\n",
      "\u001b[0;31mRuntimeError\u001b[0m: Error in Function::call for 'F' [IdasInterface] at .../casadi/core/function.cpp:1401:\nError in Function::call for 'F' [IdasInterface] at .../casadi/core/function.cpp:330:\n.../casadi/interfaces/sundials/idas_interface.cpp:604: IDACalcIC returned \"IDA_NO_RECOVERY\". Consult IDAS documentation."
     ]
    }
   ],
   "source": [
    "index1_take_two = create_model_index1()\n",
    "\n",
    "# Specify alternative initial conditions\n",
    "small_number = 0.1\n",
    "\n",
    "index1_take_two.x[0] = small_number\n",
    "index1_take_two.y[0] = np.sqrt(1 - small_number**2)\n",
    "index1_take_two.u[0] = 1\n",
    "index1_take_two.v[0] = -index1_take_two.x[0]()*index1_take_two.u[0]()/index1_take_two.y[0]()\n",
    "index1_take_two.T[0] = (index1_take_two.u[0]()**2 + index1_take_two.v[0]()**2\n",
    "    + index1_take_two.g*index1_take_two.y[0]())\n",
    "\n",
    "# Check initial condition\n",
    "index1_check_constraints(index1_take_two)\n",
    "\n",
    "# Solve DAEs\n",
    "sim = Simulator(index1_take_two, package='casadi')\n",
    "\n",
    "# Specify integrator options\n",
    "int_ops2 = {'print_stats':True,\"abstol\":1E-6,\"reltol\":1E-4,\n",
    "            \"verbose\":False,\"calc_ic\":True}\n",
    "\n",
    "# Simulator\n",
    "tsim, profiles = sim.simulate(numpoints=20, integrator='idas',integrator_options=int_ops2)"
   ]
  },
  {
   "cell_type": "markdown",
   "metadata": {
    "id": "t5ec78rFBlHI"
   },
   "source": [
    "Hmm, this does not make sense. Perhaps there is something subtle wrong with the model.\n",
    "\n",
    "Let's try solving the model with Ipopt after discretizing with collocation."
   ]
  },
  {
   "cell_type": "code",
   "execution_count": null,
   "metadata": {
    "id": "lqgiN-O3BlHI"
   },
   "outputs": [],
   "source": [
    "# discretize the model\n",
    "index1_take_two.Obj = pyo.Objective(expr=1) # Add a dummy objective\n",
    "discretizer = pyo.TransformationFactory('dae.collocation')\n",
    "discretizer.apply_to(index1_take_two,nfe=15,scheme='LAGRANGE-RADAU',ncp=3)\n",
    "\n",
    "# initialize\n",
    "for t in index1_take_two.t:\n",
    "    index1_take_two.x[t] = small_number\n",
    "    index1_take_two.y[t] = np.sqrt(1 - small_number**2)\n",
    "    index1_take_two.u[t] = 1\n",
    "    index1_take_two.v[t] = -index1_take_two.x[t]()*index1_take_two.u[t]()/index1_take_two.y[t]()\n",
    "    index1_take_two.T[t] = (index1_take_two.u[t]()**2 + index1_take_two.v[t]()**2\n",
    "        + index1_take_two.g*index1_take_two.y[t]())"
   ]
  },
  {
   "cell_type": "code",
   "execution_count": null,
   "metadata": {
    "colab": {
     "base_uri": "https://localhost:8080/",
     "height": 364
    },
    "id": "mqKA8QyiBlHI",
    "outputId": "13cc6ae7-eea4-45ca-f05b-01d087474940"
   },
   "outputs": [
    {
     "name": "stderr",
     "output_type": "stream",
     "text": [
      "WARNING:pyomo.solvers:Could not locate the 'ipopt' executable, which is required for solver ipopt\n"
     ]
    },
    {
     "ename": "ApplicationError",
     "evalue": "ignored",
     "output_type": "error",
     "traceback": [
      "\u001b[0;31m---------------------------------------------------------------------------\u001b[0m",
      "\u001b[0;31mApplicationError\u001b[0m                          Traceback (most recent call last)",
      "\u001b[0;32m<ipython-input-9-7a0dd00b6a7d>\u001b[0m in \u001b[0;36m<cell line: 4>\u001b[0;34m()\u001b[0m\n\u001b[1;32m      2\u001b[0m \u001b[0msolver\u001b[0m \u001b[0;34m=\u001b[0m \u001b[0mpyo\u001b[0m\u001b[0;34m.\u001b[0m\u001b[0mSolverFactory\u001b[0m\u001b[0;34m(\u001b[0m\u001b[0;34m'ipopt'\u001b[0m\u001b[0;34m)\u001b[0m\u001b[0;34m\u001b[0m\u001b[0;34m\u001b[0m\u001b[0m\n\u001b[1;32m      3\u001b[0m \u001b[0msolver\u001b[0m\u001b[0;34m.\u001b[0m\u001b[0moptions\u001b[0m\u001b[0;34m[\u001b[0m\u001b[0;34m'max_iter'\u001b[0m\u001b[0;34m]\u001b[0m \u001b[0;34m=\u001b[0m \u001b[0;36m300\u001b[0m\u001b[0;34m\u001b[0m\u001b[0;34m\u001b[0m\u001b[0m\n\u001b[0;32m----> 4\u001b[0;31m \u001b[0msolver\u001b[0m\u001b[0;34m.\u001b[0m\u001b[0msolve\u001b[0m\u001b[0;34m(\u001b[0m\u001b[0mindex1_take_two\u001b[0m\u001b[0;34m,\u001b[0m\u001b[0mtee\u001b[0m\u001b[0;34m=\u001b[0m\u001b[0;32mTrue\u001b[0m\u001b[0;34m)\u001b[0m\u001b[0;34m\u001b[0m\u001b[0;34m\u001b[0m\u001b[0m\n\u001b[0m",
      "\u001b[0;32m/usr/local/lib/python3.10/dist-packages/pyomo/opt/base/solvers.py\u001b[0m in \u001b[0;36msolve\u001b[0;34m(self, *args, **kwds)\u001b[0m\n\u001b[1;32m    511\u001b[0m         \u001b[0;34m\"\"\" Solve the problem \"\"\"\u001b[0m\u001b[0;34m\u001b[0m\u001b[0;34m\u001b[0m\u001b[0m\n\u001b[1;32m    512\u001b[0m \u001b[0;34m\u001b[0m\u001b[0m\n\u001b[0;32m--> 513\u001b[0;31m         \u001b[0mself\u001b[0m\u001b[0;34m.\u001b[0m\u001b[0mavailable\u001b[0m\u001b[0;34m(\u001b[0m\u001b[0mexception_flag\u001b[0m\u001b[0;34m=\u001b[0m\u001b[0;32mTrue\u001b[0m\u001b[0;34m)\u001b[0m\u001b[0;34m\u001b[0m\u001b[0;34m\u001b[0m\u001b[0m\n\u001b[0m\u001b[1;32m    514\u001b[0m         \u001b[0;31m#\u001b[0m\u001b[0;34m\u001b[0m\u001b[0;34m\u001b[0m\u001b[0m\n\u001b[1;32m    515\u001b[0m         \u001b[0;31m# If the inputs are models, then validate that they have been\u001b[0m\u001b[0;34m\u001b[0m\u001b[0;34m\u001b[0m\u001b[0m\n",
      "\u001b[0;32m/usr/local/lib/python3.10/dist-packages/pyomo/opt/solver/shellcmd.py\u001b[0m in \u001b[0;36mavailable\u001b[0;34m(self, exception_flag)\u001b[0m\n\u001b[1;32m    137\u001b[0m             \u001b[0;32mif\u001b[0m \u001b[0mexception_flag\u001b[0m\u001b[0;34m:\u001b[0m\u001b[0;34m\u001b[0m\u001b[0;34m\u001b[0m\u001b[0m\n\u001b[1;32m    138\u001b[0m                 \u001b[0mmsg\u001b[0m \u001b[0;34m=\u001b[0m \u001b[0;34m\"No executable found for solver '%s'\"\u001b[0m\u001b[0;34m\u001b[0m\u001b[0;34m\u001b[0m\u001b[0m\n\u001b[0;32m--> 139\u001b[0;31m                 \u001b[0;32mraise\u001b[0m \u001b[0mApplicationError\u001b[0m\u001b[0;34m(\u001b[0m\u001b[0mmsg\u001b[0m \u001b[0;34m%\u001b[0m \u001b[0mself\u001b[0m\u001b[0;34m.\u001b[0m\u001b[0mname\u001b[0m\u001b[0;34m)\u001b[0m\u001b[0;34m\u001b[0m\u001b[0;34m\u001b[0m\u001b[0m\n\u001b[0m\u001b[1;32m    140\u001b[0m             \u001b[0;32mreturn\u001b[0m \u001b[0;32mFalse\u001b[0m\u001b[0;34m\u001b[0m\u001b[0;34m\u001b[0m\u001b[0m\n\u001b[1;32m    141\u001b[0m         \u001b[0;32mreturn\u001b[0m \u001b[0;32mTrue\u001b[0m\u001b[0;34m\u001b[0m\u001b[0;34m\u001b[0m\u001b[0m\n",
      "\u001b[0;31mApplicationError\u001b[0m: No executable found for solver 'ipopt'"
     ]
    }
   ],
   "source": [
    "# solve the discretized model\n",
    "solver = pyo.SolverFactory('ipopt')\n",
    "solver.options['max_iter'] = 300\n",
    "solver.solve(index1_take_two,tee=True)"
   ]
  },
  {
   "cell_type": "markdown",
   "metadata": {
    "id": "pY54hFHLBlHI"
   },
   "source": [
    "Take away: There is something strange with formulation 3 that is causing the numeric integrator to fail. We can still solve this problem after discretizing."
   ]
  },
  {
   "cell_type": "markdown",
   "metadata": {
    "id": "TQCVYvQSBlHI",
    "nbpages": {
     "level": 3,
     "link": "[2.4.3.4 Formulation 4: Index-1 DAE Model](https://ndcbe.github.io/CBE60499/02.04-DAE-modeling.html#2.4.3.4-Formulation-4:-Index-1-DAE-Model)",
     "section": "2.4.3.4 Formulation 4: Index-1 DAE Model"
    }
   },
   "source": [
    "### Formulation 4: Index-1 DAE Model\n",
    "\n",
    "$$\\begin{align}\n",
    "\\frac{d x}{dt} &= u \\\\\n",
    "\\frac{d y}{dt} &= v \\\\\n",
    "\\frac{d u}{dt} &= -T x \\\\\n",
    "\\frac{d v}{dt} &= g - Ty \\\\\n",
    "0 &= (u^2 + v^2) - T (x^2 + y^2) + g y\n",
    "\\end{align}$$\n",
    "\n",
    "Consistent initial conditions:\n",
    "1. Specify $x(0)$, $u(0)$, $y(0)$, and $v(0)$.\n",
    "2. Solve for $T(0)$"
   ]
  },
  {
   "cell_type": "code",
   "execution_count": null,
   "metadata": {
    "id": "r-sjp3RgBlHI",
    "nbpages": {
     "level": 3,
     "link": "[2.4.3.4 Formulation 4: Index-1 DAE Model](https://ndcbe.github.io/CBE60499/02.04-DAE-modeling.html#2.4.3.4-Formulation-4:-Index-1-DAE-Model)",
     "section": "2.4.3.4 Formulation 4: Index-1 DAE Model"
    }
   },
   "outputs": [],
   "source": [
    "def create_model_index1_b():\n",
    "    '''\n",
    "    Creates a model to define the Index 1 DAE system.\n",
    "\n",
    "    Output: the model, m\n",
    "    '''\n",
    "\n",
    "    m = pyo.ConcreteModel()\n",
    "    \n",
    "    # Declare time\n",
    "    m.t = dae.ContinuousSet(bounds=(0.0, 5))\n",
    "\n",
    "    # Declare parameter - acceleration due to gravity\n",
    "    m.g = pyo.Param(initialize=9.81) # m/s^2\n",
    "\n",
    "    # Declare variables indexed over time\n",
    "    m.x = pyo.Var(m.t) # horizontal position\n",
    "    m.y = pyo.Var(m.t) # vertical position\n",
    "    m.u = pyo.Var(m.t) # horizontal velocity\n",
    "    m.v = pyo.Var(m.t) # vertical velocity\n",
    "    m.T = pyo.Var(m.t) # tension\n",
    "\n",
    "    # Declare derivative variables\n",
    "    m.dx = dae.DerivativeVar(m.x) # with respect to t is implied\n",
    "    m.dy = dae.DerivativeVar(m.y)\n",
    "    m.du = dae.DerivativeVar(m.u)\n",
    "    m.dv = dae.DerivativeVar(m.v)\n",
    "\n",
    "    # Declare differential equations\n",
    "    def _dx_eqn(m, t):\n",
    "        return m.dx[t] == m.u[t]\n",
    "    m.dx_eqn = pyo.Constraint(m.t, rule=_dx_eqn)\n",
    "\n",
    "    def _dy_eqn(m, t):\n",
    "        return m.dy[t] == m.v[t]\n",
    "    m.dy_eqn = pyo.Constraint(m.t, rule=_dy_eqn)\n",
    "\n",
    "    def _du_eqn(m, t):\n",
    "        return m.du[t] == -m.T[t]*m.x[t]\n",
    "    m.du_eqn = pyo.Constraint(m.t, rule=_du_eqn)\n",
    "\n",
    "    def _dv_eqn(m, t):\n",
    "        return m.dv[t] == m.g -m.T[t]*m.y[t]\n",
    "    m.dv_eqn = pyo.Constraint(m.t, rule=_dv_eqn)\n",
    "\n",
    "    def _alg_eqn3(m, t):\n",
    "        return m.u[t]**2 + m.v[t]**2 - m.T[t]*(m.x[t]**2 + m.y[t]**2) + m.g*m.y[t] == 0\n",
    "    m.alg_eqn3 = pyo.Constraint(m.t, rule=_alg_eqn3)\n",
    "\n",
    "    # Specify initial conditions\n",
    "    m.x[0] = 0\n",
    "    m.y[0] = 1\n",
    "    m.u[0] = 1\n",
    "    m.v[0] = 0\n",
    "    m.T[0] = 1 + m.g\n",
    "    \n",
    "    return m"
   ]
  },
  {
   "cell_type": "code",
   "execution_count": null,
   "metadata": {
    "colab": {
     "base_uri": "https://localhost:8080/",
     "height": 1000
    },
    "id": "u4wnBzdqBlHI",
    "nbpages": {
     "level": 3,
     "link": "[2.4.3.4 Formulation 4: Index-1 DAE Model](https://ndcbe.github.io/CBE60499/02.04-DAE-modeling.html#2.4.3.4-Formulation-4:-Index-1-DAE-Model)",
     "section": "2.4.3.4 Formulation 4: Index-1 DAE Model"
    },
    "outputId": "6f74546a-c13f-430a-a134-c44593cfe3c8"
   },
   "outputs": [
    {
     "name": "stdout",
     "output_type": "stream",
     "text": [
      "FORWARD INTEGRATION:\n",
      "Number of steps taken by SUNDIALS: 379\n",
      "Number of calls to the user's f function: 485\n",
      "Number of calls made to the linear solver setup function: 31\n",
      "Number of error test failures: 3\n",
      "Method order used on the last internal step: 5\n",
      "Method order to be used on the next internal step: 5\n",
      "Actual value of initial step size: 7.90569e-09\n",
      "Step size taken on the last internal step: 0.0120795\n",
      "Step size to be attempted on the next internal step: 0.0120795\n",
      "Current internal time reached: 5\n",
      "Number of nonlinear iterations performed: 483\n",
      "Number of nonlinear convergence failures: 0\n",
      "\n"
     ]
    },
    {
     "data": {
      "image/png": "[encoded data removed]",
      "text/plain": [
       "<Figure size 400x400 with 1 Axes>"
      ]
     },
     "metadata": {},
     "output_type": "display_data"
    },
    {
     "data": {
      "image/png": "[encoded data removed]",
      "text/plain": [
       "<Figure size 400x400 with 1 Axes>"
      ]
     },
     "metadata": {},
     "output_type": "display_data"
    }
   ],
   "source": [
    "index1_b = create_model_index1_b()\n",
    "\n",
    "# Specify integrator options\n",
    "int_ops = {'print_stats':True,\"abstol\":1E-8,\"reltol\":1E-6}\n",
    "\n",
    "# Solve DAEs\n",
    "sim = Simulator(index1_b, package='casadi')\n",
    "tsim, profiles = sim.simulate(numpoints=100, integrator='idas',integrator_options=int_ops)\n",
    "\n",
    "# Plot solution\n",
    "plot_results(sim, tsim, profiles)"
   ]
  },
  {
   "cell_type": "markdown",
   "metadata": {
    "id": "WpFBNXFTBlHJ",
    "nbpages": {
     "level": 2,
     "link": "[2.4.4 Take Away Messages](https://ndcbe.github.io/CBE60499/02.04-DAE-modeling.html#2.4.4-Take-Away-Messages)",
     "section": "2.4.4 Take Away Messages"
    }
   },
   "source": [
    "## 2.4.4 Take Away Messages\n",
    "1. Differential algebriac equations (DAEs) are really powerful modeling tools.\n",
    "2. Integrating DAEs requires special care. Make sure your model is index 1.\n",
    "3. Often there are many ways to reformulate the DAE model. But the numeric integrator only enforces error tolerances on the equations that are explicitly modeled. If an algebriac constraint must be satified to a specific tolerance, include it in the DAE model (as long as it is not high index!).\n",
    "\n",
    "## Important Topics from the Textbook\n",
    "**Chapter 8: Dynamic Optimization Introduction** (Biegler, 2010)\n",
    "-\tChemical engineering examples\n",
    "-\tClassical (variational) approaches including Hamiltonian and Euler-Lagrange equations\n",
    "\n",
    "<center>\n",
    "<div> \n",
    "<img src = \"https://ndcbe.github.io/optimization/_images/dynamic_optimization_strategies.png\", width = \"500\"/>\n",
    "</div>\n",
    "</center>\n",
    "\n",
    "**Chapter 9: Sequential Methods** (Biegler, 2010)\n",
    "-\tDAE integration \n",
    "-\tSingle Shooting\n",
    "-\tMultiple Shooting\n",
    "\n",
    "<center>\n",
    "<div> \n",
    "<img src = \"https://ndcbe.github.io/optimization/_images/sequential_dae_optimization.png\", width = \"500\"/>\n",
    "</div>\n",
    "</center>\n",
    "\n",
    "\n",
    "**Chapter 10: Simultaneous Methods** (Biegler, 2010)\n",
    "-\tGauss quadrature\n",
    "-\tOrthogonal collocation on finite elements\n",
    "-\tExamples, benchmarks, and large-scale extensions"
   ]
  }
 ],
 "metadata": {
  "colab": {
   "provenance": []
  },
  "kernelspec": {
   "display_name": "Python 3 (ipykernel)",
   "language": "python",
   "name": "python3"
  },
  "language_info": {
   "codemirror_mode": {
    "name": "ipython",
    "version": 3
   },
   "file_extension": ".py",
   "mimetype": "text/x-python",
   "name": "python",
   "nbconvert_exporter": "python",
   "pygments_lexer": "ipython3",
   "version": "3.10.8"
  },
  "vscode": {
   "interpreter": {
    "hash": "31f2aee4e71d21fbe5cf8b01ff0e069b9275f58929596ceb00d14d90e3e16cd6"
   }
  }
 },
 "nbformat": 4,
 "nbformat_minor": 0
}
