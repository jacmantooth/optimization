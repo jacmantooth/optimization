{
 "cells": [
  {
   "cell_type": "markdown",
   "metadata": {
    "nbpages": {
     "level": 1,
     "link": "[2.4 Dynamic Optimization: Differential Algebraic Equations (DAEs)](https://ndcbe.github.io/CBE60499/02.04-DAE-modeling.html#2.4-Dynamic-Optimization:-Differential-Algebraic-Equations-(DAEs))",
     "section": "2.4 Dynamic Optimization: Differential Algebraic Equations (DAEs)"
    }
   },
   "source": [
    "# Dynamic Optimization: Differential Algebraic Equations (DAEs)"
   ]
  },
  {
   "cell_type": "code",
   "execution_count": 1,
   "metadata": {
    "nbpages": {
     "level": 1,
     "link": "[2.4 Dynamic Optimization: Differential Algebraic Equations (DAEs)](https://ndcbe.github.io/CBE60499/02.04-DAE-modeling.html#2.4-Dynamic-Optimization:-Differential-Algebraic-Equations-(DAEs))",
     "section": "2.4 Dynamic Optimization: Differential Algebraic Equations (DAEs)"
    }
   },
   "outputs": [],
   "source": [
    "import sys\n",
    "if \"google.colab\" in sys.modules:\n",
    "    !wget \"https://raw.githubusercontent.com/ndcbe/CBE60499/main/notebooks/helper.py\"\n",
    "    import helper\n",
    "    !pip install casadi\n",
    "    helper.install_idaes()\n",
    "    #helper.install_ipopt()\n",
    "else:\n",
    "    import idaes # loads Ipopt with HSL\n"
   ]
  },
  {
   "cell_type": "markdown",
   "metadata": {
    "nbpages": {
     "level": 2,
     "link": "[2.4.1 Dynamic Optimization Overview](https://ndcbe.github.io/CBE60499/02.04-DAE-modeling.html#2.4.1-Dynamic-Optimization-Overview)",
     "section": "2.4.1 Dynamic Optimization Overview"
    }
   },
   "source": [
    "## Dynamic Optimization Overview"
   ]
  },
  {
   "cell_type": "markdown",
   "metadata": {
    "nbpages": {
     "level": 2,
     "link": "[2.4.1 Dynamic Optimization Overview](https://ndcbe.github.io/CBE60499/02.04-DAE-modeling.html#2.4.1-Dynamic-Optimization-Overview)",
     "section": "2.4.1 Dynamic Optimization Overview"
    }
   },
   "source": [
    "**Chapter 8: Dynamic Optimization Introduction** (Biegler, 2010)\n",
    "-\tChemical engineering examples\n",
    "-\tClassical (variational) approaches including Hamiltonian and Euler-Lagrange equations\n",
    "-\tDAE background (this notebook)\n",
    "\n",
    "**Chapter 9: Sequential Methods** (Biegler, 2010)\n",
    "-\tDAE integration (this notebook, next notebook)\n",
    "-\tSingle Shooting\n",
    "-\tMultiple Shooting\n",
    "\n",
    "**Chapter 10: Simultaneous Methods** (Biegler, 2010)\n",
    "-\tGauss quadrature (next notebook)\n",
    "-\tOrthogonal collocation on finite elements (next notebook, next next notebook)\n",
    "-\tExamples, benchmarks, and large-scale extensions"
   ]
  },
  {
   "cell_type": "markdown",
   "metadata": {
    "nbpages": {
     "level": 2,
     "link": "[2.4.1 Dynamic Optimization Overview](https://ndcbe.github.io/CBE60499/02.04-DAE-modeling.html#2.4.1-Dynamic-Optimization-Overview)",
     "section": "2.4.1 Dynamic Optimization Overview"
    }
   },
   "source": [
    "![dynamic-optimization-strategies](../../media/dynamic_optimization_strategies.png)"
   ]
  },
  {
   "cell_type": "markdown",
   "metadata": {
    "nbpages": {
     "level": 2,
     "link": "[2.4.1 Dynamic Optimization Overview](https://ndcbe.github.io/CBE60499/02.04-DAE-modeling.html#2.4.1-Dynamic-Optimization-Overview)",
     "section": "2.4.1 Dynamic Optimization Overview"
    }
   },
   "source": [
    "![sequential_dae_optimization](../../media/sequential_dae_optimization.png)"
   ]
  },
  {
   "cell_type": "markdown",
   "metadata": {
    "nbpages": {
     "level": 2,
     "link": "[2.4.2 DAE Index Reduction](https://ndcbe.github.io/CBE60499/02.04-DAE-modeling.html#2.4.2-DAE-Index-Reduction)",
     "section": "2.4.2 DAE Index Reduction"
    }
   },
   "source": [
    "## DAE and DAE Index Reduction"
   ]
  },
  {
   "cell_type": "markdown",
   "metadata": {
    "nbpages": {
     "level": 2,
     "link": "[2.4.2 DAE Index Reduction](https://ndcbe.github.io/CBE60499/02.04-DAE-modeling.html#2.4.2-DAE-Index-Reduction)",
     "section": "2.4.2 DAE Index Reduction"
    }
   },
   "source": [
    "Excerpts from Chapter 8 of Biegler (2010)."
   ]
  },
  {
   "cell_type": "markdown",
   "metadata": {
    "nbpages": {
     "level": 2,
     "link": "[2.4.2 DAE Index Reduction](https://ndcbe.github.io/CBE60499/02.04-DAE-modeling.html#2.4.2-DAE-Index-Reduction)",
     "section": "2.4.2 DAE Index Reduction"
    }
   },
   "source": [
    "![dae-form1](../../media/dae_form1.png)\n",
    "![dae-form2](../../media/dae_form2.png)"
   ]
  },
  {
   "cell_type": "markdown",
   "metadata": {
    "nbpages": {
     "level": 2,
     "link": "[2.4.2 DAE Index Reduction](https://ndcbe.github.io/CBE60499/02.04-DAE-modeling.html#2.4.2-DAE-Index-Reduction)",
     "section": "2.4.2 DAE Index Reduction"
    }
   },
   "source": [
    "![dae-reduction](../../media/dae_reduction.png)"
   ]
  },
  {
   "cell_type": "markdown",
   "metadata": {},
   "source": [
    "### Classical DAE form interpretation\n",
    "\n",
    "A classical fully implicit set of DAE form is: \n",
    "\n",
    "![dae](../../media/dae-form3.png)\n",
    "\n",
    "They are expressed with respect to an independnet variable, $t$, which usually is time or distance. Other variables include:\n",
    "\n",
    "$x(t)$: state variables, functions of time \n",
    "\n",
    "$u(t)$: control variables, functions of time\n",
    "\n",
    "$p$: variables, independent of $t$\n",
    "\n",
    "This fully implicit DAE is more difficult to analyze, we can partition the state variables $x(t)$ into differential variables $z(t)$ and algebraic variables $y(t)$, leading to the semiexplicit form: \n",
    "\n",
    "![dae](../../media/dae-form4.png)\n",
    "\n",
    "where: \n",
    "\n",
    "$f$: diffenrential equations\n",
    "\n",
    "$g$: algebraic equations \n",
    "\n",
    "$y(t)$ can be solved uniquely from algebraic equations. It can be implicitly eliminated, so that the DAE can have the same solution as the related ordinary differential equation (ODE): \n",
    "\n",
    "\n",
    "\n",
    "![dae](../../media/dae-form5.png)\n"
   ]
  },
  {
   "cell_type": "markdown",
   "metadata": {
    "nbpages": {
     "level": 2,
     "link": "[2.4.3 DAE Formulations for Simple Pendulum Example](https://ndcbe.github.io/CBE60499/02.04-DAE-modeling.html#2.4.3-DAE-Formulations-for-Simple-Pendulum-Example)",
     "section": "2.4.3 DAE Formulations for Simple Pendulum Example"
    }
   },
   "source": [
    "## DAE Formulations for Simple Pendulum Example\n",
    "\n",
    "\n",
    "Pyomo.dae documentation:\n",
    "* https://pyomo.readthedocs.io/en/latest/modeling_extensions/dae.html\n",
    "\n",
    "Pendulum example:\n",
    "* http://apmonitor.com/wiki/index.php/Apps/PendulumMotion\n",
    "* https://www.lehigh.edu/~wes1/apci/11may00.pdf\n",
    "\n",
    "CasADi (need to integrate DAEs):\n",
    "* https://web.casadi.org/get/\n",
    "* For local installation: ```pip install casadi```. Warning: installing `CasADi` with `conda` will install an \"okay\" version of Ipopt. If you really want to install `CasADi` with `conda`, you'll likely need to add `import idaes` to your notebook to load the \"good\" version of Ipopt (Linux and Windows users).\n",
    "\n",
    "DAE simulation example:\n",
    "* https://github.com/Pyomo/pyomo/blob/master/examples/dae/simulator_dae_example.py"
   ]
  },
  {
   "cell_type": "markdown",
   "metadata": {},
   "source": [
    "### Pendulum model and index reduction\n",
    "\n",
    "![dae-reduction](../../media/pend1.png)\n",
    "\n",
    "Following Algorithm 8.1, reduce the index of this problem: \n",
    "\n",
    "![dae-reduction](../../media/pend2.png)\n",
    "![dae-reduction](../../media/pend3.png)"
   ]
  },
  {
   "cell_type": "code",
   "execution_count": 2,
   "metadata": {
    "nbpages": {
     "level": 2,
     "link": "[2.4.3 DAE Formulations for Simple Pendulum Example](https://ndcbe.github.io/CBE60499/02.04-DAE-modeling.html#2.4.3-DAE-Formulations-for-Simple-Pendulum-Example)",
     "section": "2.4.3 DAE Formulations for Simple Pendulum Example"
    }
   },
   "outputs": [],
   "source": [
    "## Load libraries\n",
    "from pyomo.environ import *\n",
    "from pyomo.dae import *\n",
    "from pyomo.dae.simulator import Simulator\n",
    "import matplotlib.pyplot as plt\n",
    "import numpy as np\n",
    "\n",
    "## Define function for plotting results\n",
    "def plot_results(sim, tsim, profiles):\n",
    "\n",
    "    '''\n",
    "    time = list(m.t)\n",
    "    x = [value(m.x[t]) for t in m.t]\n",
    "    y = [value(m.y[t]) for t in m.t]\n",
    "\n",
    "    plt.plot(time, x, '-b', label='x')\n",
    "    plt.plot(time, y, '-r', label='y')\n",
    "    plt.xlabel('Time')\n",
    "    plt.ylabel('Position')\n",
    "    plt.legend(loc='best')\n",
    "    plt.show()\n",
    "    '''\n",
    "    \n",
    "    plt.figure(1)\n",
    "    varorder = sim.get_variable_order()\n",
    "    algorder = sim.get_variable_order(vartype='algebraic')\n",
    "\n",
    "    # Create empty dictionary\n",
    "    results = {}\n",
    "    \n",
    "    for idx1, v in enumerate(varorder):\n",
    "        i = idx1\n",
    "        v_ = str(v)\n",
    "        results[v_] = profiles[:, i]\n",
    "        plt.plot(tsim, results[v_], label=v)\n",
    "\n",
    "    for idx2, v in enumerate(algorder):\n",
    "        i = len(varorder) + idx2\n",
    "        v_ = str(v)\n",
    "        results[v_] = profiles[:, i]\n",
    "        plt.plot(tsim, results[v_], label=v)\n",
    "    \n",
    "    plt.xlabel('t')\n",
    "    plt.legend(loc='best')\n",
    "    \n",
    "    plt.show()\n",
    "    \n",
    "    plt.figure(2)\n",
    "    x_ = results['x[{t}]']\n",
    "    y_ = results['y[{t}]']\n",
    "    plt.plot(tsim, np.sqrt(x_**2 + y_**2), '-b', label='length')\n",
    "    plt.xlabel('t')\n",
    "    plt.ylabel('$\\sqrt{x^2 + y^2}$')\n",
    "    plt.show()\n",
    "    \n",
    "    #return results"
   ]
  },
  {
   "cell_type": "markdown",
   "metadata": {
    "nbpages": {
     "level": 3,
     "link": "[2.4.3.1 Formulation 1: Index-3 DAE](https://ndcbe.github.io/CBE60499/02.04-DAE-modeling.html#2.4.3.1-Formulation-1:-Index-3-DAE)",
     "section": "2.4.3.1 Formulation 1: Index-3 DAE"
    }
   },
   "source": [
    "### Formulation 1: Index-3 DAE\n",
    "\n",
    "Consider the following model:\n",
    "\n",
    "$$\\begin{align}\n",
    "\\frac{d x}{dt} &= u \\\\\n",
    "\\frac{d y}{dt} &= v \\\\\n",
    "\\frac{d u}{dt} &= -T x \\\\\n",
    "\\frac{d v}{dt} &= g - Ty \\\\\n",
    "& x^2 + y^2 = 1\n",
    "\\end{align}$$\n",
    "\n",
    "This assumes mass and length of unity."
   ]
  },
  {
   "cell_type": "code",
   "execution_count": 3,
   "metadata": {
    "nbpages": {
     "level": 3,
     "link": "[2.4.3.1 Formulation 1: Index-3 DAE](https://ndcbe.github.io/CBE60499/02.04-DAE-modeling.html#2.4.3.1-Formulation-1:-Index-3-DAE)",
     "section": "2.4.3.1 Formulation 1: Index-3 DAE"
    }
   },
   "outputs": [
    {
     "name": "stderr",
     "output_type": "stream",
     "text": [
      "psetup failed: .../casadi/interfaces/sundials/idas_interface.cpp:852: Linear solve failed\n",
      "psetup failed: .../casadi/interfaces/sundials/idas_interface.cpp:852: Linear solve failed\n",
      "psetup failed: .../casadi/interfaces/sundials/idas_interface.cpp:852: Linear solve failed\n",
      "psetup failed: .../casadi/interfaces/sundials/idas_interface.cpp:852: Linear solve failed\n",
      "psetup failed: .../casadi/interfaces/sundials/idas_interface.cpp:852: Linear solve failed\n",
      "psetup failed: .../casadi/interfaces/sundials/idas_interface.cpp:852: Linear solve failed\n",
      "psetup failed: .../casadi/interfaces/sundials/idas_interface.cpp:852: Linear solve failed\n",
      "psetup failed: .../casadi/interfaces/sundials/idas_interface.cpp:852: Linear solve failed\n",
      "psetup failed: .../casadi/interfaces/sundials/idas_interface.cpp:852: Linear solve failed\n",
      "psetup failed: .../casadi/interfaces/sundials/idas_interface.cpp:852: Linear solve failed\n",
      "At t = 0 and h = 1.06624e-14, the corrector convergence failed repeatedly or with |h| = hmin.\n"
     ]
    },
    {
     "ename": "RuntimeError",
     "evalue": ".../casadi/interfaces/sundials/idas_interface.cpp:591: IDASolve returned \"IDA_CONV_FAIL\". Consult IDAS documentation.",
     "output_type": "error",
     "traceback": [
      "\u001b[0;31m---------------------------------------------------------------------------\u001b[0m",
      "\u001b[0;31mRuntimeError\u001b[0m                              Traceback (most recent call last)",
      "Cell \u001b[0;32mIn [3], line 62\u001b[0m\n\u001b[1;32m     60\u001b[0m \u001b[38;5;66;03m# Solve DAEs\u001b[39;00m\n\u001b[1;32m     61\u001b[0m sim \u001b[38;5;241m=\u001b[39m Simulator(index3, package\u001b[38;5;241m=\u001b[39m\u001b[38;5;124m'\u001b[39m\u001b[38;5;124mcasadi\u001b[39m\u001b[38;5;124m'\u001b[39m)\n\u001b[0;32m---> 62\u001b[0m tsim, profiles \u001b[38;5;241m=\u001b[39m \u001b[43msim\u001b[49m\u001b[38;5;241;43m.\u001b[39;49m\u001b[43msimulate\u001b[49m\u001b[43m(\u001b[49m\u001b[43mnumpoints\u001b[49m\u001b[38;5;241;43m=\u001b[39;49m\u001b[38;5;241;43m100\u001b[39;49m\u001b[43m,\u001b[49m\u001b[43m \u001b[49m\u001b[43mintegrator\u001b[49m\u001b[38;5;241;43m=\u001b[39;49m\u001b[38;5;124;43m'\u001b[39;49m\u001b[38;5;124;43midas\u001b[39;49m\u001b[38;5;124;43m'\u001b[39;49m\u001b[43m,\u001b[49m\u001b[43mintegrator_options\u001b[49m\u001b[38;5;241;43m=\u001b[39;49m\u001b[43mint_ops\u001b[49m\u001b[43m)\u001b[49m\n\u001b[1;32m     64\u001b[0m \u001b[38;5;66;03m# Plot solution\u001b[39;00m\n\u001b[1;32m     65\u001b[0m plot_results(sim, tsim, profiles)\n",
      "File \u001b[0;32m~/opt/anaconda3/envs/idaes/lib/python3.10/site-packages/pyomo/dae/simulator.py:884\u001b[0m, in \u001b[0;36mSimulator.simulate\u001b[0;34m(self, numpoints, tstep, integrator, varying_inputs, initcon, integrator_options)\u001b[0m\n\u001b[1;32m    877\u001b[0m         tsim, profile \u001b[38;5;241m=\u001b[39m \\\n\u001b[1;32m    878\u001b[0m             \u001b[38;5;28mself\u001b[39m\u001b[38;5;241m.\u001b[39m_simulate_with_casadi_with_inputs(initcon, tsim,\n\u001b[1;32m    879\u001b[0m                                                    varying_inputs,\n\u001b[1;32m    880\u001b[0m                                                    integrator,\n\u001b[1;32m    881\u001b[0m                                                    integrator_options)\n\u001b[1;32m    882\u001b[0m     \u001b[38;5;28;01melse\u001b[39;00m:\n\u001b[1;32m    883\u001b[0m         tsim, profile \u001b[38;5;241m=\u001b[39m \\\n\u001b[0;32m--> 884\u001b[0m             \u001b[38;5;28;43mself\u001b[39;49m\u001b[38;5;241;43m.\u001b[39;49m\u001b[43m_simulate_with_casadi_no_inputs\u001b[49m\u001b[43m(\u001b[49m\u001b[43minitcon\u001b[49m\u001b[43m,\u001b[49m\u001b[43m \u001b[49m\u001b[43mtsim\u001b[49m\u001b[43m,\u001b[49m\n\u001b[1;32m    885\u001b[0m \u001b[43m                                                 \u001b[49m\u001b[43mintegrator\u001b[49m\u001b[43m,\u001b[49m\n\u001b[1;32m    886\u001b[0m \u001b[43m                                                 \u001b[49m\u001b[43mintegrator_options\u001b[49m\u001b[43m)\u001b[49m\n\u001b[1;32m    888\u001b[0m \u001b[38;5;28mself\u001b[39m\u001b[38;5;241m.\u001b[39m_tsim \u001b[38;5;241m=\u001b[39m tsim\n\u001b[1;32m    889\u001b[0m \u001b[38;5;28mself\u001b[39m\u001b[38;5;241m.\u001b[39m_simsolution \u001b[38;5;241m=\u001b[39m profile\n",
      "File \u001b[0;32m~/opt/anaconda3/envs/idaes/lib/python3.10/site-packages/pyomo/dae/simulator.py:945\u001b[0m, in \u001b[0;36mSimulator._simulate_with_casadi_no_inputs\u001b[0;34m(self, initcon, tsim, integrator, integrator_options)\u001b[0m\n\u001b[1;32m    943\u001b[0m integrator_options[\u001b[38;5;124m'\u001b[39m\u001b[38;5;124moutput_t0\u001b[39m\u001b[38;5;124m'\u001b[39m] \u001b[38;5;241m=\u001b[39m \u001b[38;5;28;01mTrue\u001b[39;00m\n\u001b[1;32m    944\u001b[0m F \u001b[38;5;241m=\u001b[39m casadi\u001b[38;5;241m.\u001b[39mintegrator(\u001b[38;5;124m'\u001b[39m\u001b[38;5;124mF\u001b[39m\u001b[38;5;124m'\u001b[39m, integrator, dae, integrator_options)\n\u001b[0;32m--> 945\u001b[0m sol \u001b[38;5;241m=\u001b[39m \u001b[43mF\u001b[49m\u001b[43m(\u001b[49m\u001b[43mx0\u001b[49m\u001b[38;5;241;43m=\u001b[39;49m\u001b[43minitcon\u001b[49m\u001b[43m)\u001b[49m\n\u001b[1;32m    946\u001b[0m profile \u001b[38;5;241m=\u001b[39m sol[\u001b[38;5;124m'\u001b[39m\u001b[38;5;124mxf\u001b[39m\u001b[38;5;124m'\u001b[39m]\u001b[38;5;241m.\u001b[39mfull()\u001b[38;5;241m.\u001b[39mT\n\u001b[1;32m    948\u001b[0m \u001b[38;5;28;01mif\u001b[39;00m \u001b[38;5;28mlen\u001b[39m(\u001b[38;5;28mself\u001b[39m\u001b[38;5;241m.\u001b[39m_algvars) \u001b[38;5;241m!=\u001b[39m \u001b[38;5;241m0\u001b[39m:\n",
      "File \u001b[0;32m~/opt/anaconda3/envs/idaes/lib/python3.10/site-packages/casadi/casadi.py:7772\u001b[0m, in \u001b[0;36mFunction.__call__\u001b[0;34m(self, *args, **kwargs)\u001b[0m\n\u001b[1;32m   7769\u001b[0m       \u001b[38;5;28;01mreturn\u001b[39;00m \u001b[38;5;28mtuple\u001b[39m(ret)\n\u001b[1;32m   7770\u001b[0m   \u001b[38;5;28;01melse\u001b[39;00m:\n\u001b[1;32m   7771\u001b[0m \u001b[38;5;66;03m# Named inputs -> return dictionary\u001b[39;00m\n\u001b[0;32m-> 7772\u001b[0m     \u001b[38;5;28;01mreturn\u001b[39;00m \u001b[38;5;28;43mself\u001b[39;49m\u001b[38;5;241;43m.\u001b[39;49m\u001b[43mcall\u001b[49m\u001b[43m(\u001b[49m\u001b[43mkwargs\u001b[49m\u001b[43m)\u001b[49m\n",
      "File \u001b[0;32m~/opt/anaconda3/envs/idaes/lib/python3.10/site-packages/casadi/casadi.py:6945\u001b[0m, in \u001b[0;36mFunction.call\u001b[0;34m(self, *args)\u001b[0m\n\u001b[1;32m   6922\u001b[0m \u001b[38;5;28;01mdef\u001b[39;00m \u001b[38;5;21mcall\u001b[39m(\u001b[38;5;28mself\u001b[39m, \u001b[38;5;241m*\u001b[39margs):\n\u001b[1;32m   6923\u001b[0m     \u001b[38;5;124mr\u001b[39m\u001b[38;5;124;03m\"\"\"\u001b[39;00m\n\u001b[1;32m   6924\u001b[0m \u001b[38;5;124;03m    call(Function self, std::vector< casadi::DM,std::allocator< casadi::DM > > const & arg, bool always_inline=False, bool never_inline=False)\u001b[39;00m\n\u001b[1;32m   6925\u001b[0m \u001b[38;5;124;03m    call(Function self, std::vector< casadi::SX,std::allocator< casadi::SX > > const & arg, bool always_inline=False, bool never_inline=False)\u001b[39;00m\n\u001b[0;32m   (...)\u001b[0m\n\u001b[1;32m   6943\u001b[0m \n\u001b[1;32m   6944\u001b[0m \u001b[38;5;124;03m    \"\"\"\u001b[39;00m\n\u001b[0;32m-> 6945\u001b[0m     \u001b[38;5;28;01mreturn\u001b[39;00m \u001b[43m_casadi\u001b[49m\u001b[38;5;241;43m.\u001b[39;49m\u001b[43mFunction_call\u001b[49m\u001b[43m(\u001b[49m\u001b[38;5;28;43mself\u001b[39;49m\u001b[43m,\u001b[49m\u001b[43m \u001b[49m\u001b[38;5;241;43m*\u001b[39;49m\u001b[43margs\u001b[49m\u001b[43m)\u001b[49m\n",
      "\u001b[0;31mRuntimeError\u001b[0m: .../casadi/interfaces/sundials/idas_interface.cpp:591: IDASolve returned \"IDA_CONV_FAIL\". Consult IDAS documentation."
     ]
    }
   ],
   "source": [
    "def create_model_index3():\n",
    "\n",
    "    m = ConcreteModel()\n",
    "\n",
    "    # Declare time\n",
    "    m.t = ContinuousSet(bounds=(0.0, 1))\n",
    "\n",
    "    # Declare parameter - acceleration due to gravity\n",
    "    m.g = Param(initialize=9.81) # m/s^2\n",
    "\n",
    "    # Declare variables indexed over time\n",
    "    m.x = Var(m.t) # horizontal position\n",
    "    m.y = Var(m.t) # vertical position\n",
    "    m.u = Var(m.t) # horizontal velocity\n",
    "    m.v = Var(m.t) # vertical velocity\n",
    "    m.T = Var(m.t) # tension\n",
    "\n",
    "    # Declare derivative variables\n",
    "    m.dx = DerivativeVar(m.x) # with respect to t is implied\n",
    "    m.dy = DerivativeVar(m.y)\n",
    "    m.du = DerivativeVar(m.u)\n",
    "    m.dv = DerivativeVar(m.v)\n",
    "\n",
    "    # Declare differential equations\n",
    "    def _dx_eqn(m, t):\n",
    "        return m.dx[t] == m.u[t]\n",
    "    m.dx_eqn = Constraint(m.t, rule=_dx_eqn)\n",
    "\n",
    "    def _dy_eqn(m, t):\n",
    "        return m.dy[t] == m.v[t]\n",
    "    m.dy_eqn = Constraint(m.t, rule=_dy_eqn)\n",
    "\n",
    "    def _du_eqn(m, t):\n",
    "        return m.du[t] == -m.T[t]*m.x[t]\n",
    "    m.du_eqn = Constraint(m.t, rule=_du_eqn)\n",
    "\n",
    "    def _dv_eqn(m, t):\n",
    "        return m.dv[t] == m.g -m.T[t]*m.y[t]\n",
    "    m.dv_eqn = Constraint(m.t, rule=_dv_eqn)\n",
    "\n",
    "    # Declare algebraic equation\n",
    "    def _alg_eqn(m, t):\n",
    "        return m.x[t]**2 + m.y[t]**2 == 1\n",
    "    m.alg_eqn = Constraint(m.t, rule=_alg_eqn)\n",
    "\n",
    "    # Specify initial conditions\n",
    "    m.x[0] = 0\n",
    "    m.y[0] = 1\n",
    "    m.u[0] = 1\n",
    "    m.v[0] = 0\n",
    "    m.T[0] = 1 + m.g\n",
    "    \n",
    "    return m\n",
    "\n",
    "index3 = create_model_index3()\n",
    "\n",
    "# Specify integrator options\n",
    "int_ops = {'print_stats':True,\"abstol\":1E-8,\"reltol\":1E-6}\n",
    "\n",
    "# Solve DAEs\n",
    "sim = Simulator(index3, package='casadi')\n",
    "tsim, profiles = sim.simulate(numpoints=100, integrator='idas',integrator_options=int_ops)\n",
    "\n",
    "# Plot solution\n",
    "plot_results(sim, tsim, profiles)"
   ]
  },
  {
   "cell_type": "markdown",
   "metadata": {
    "nbpages": {
     "level": 3,
     "link": "[2.4.3.1 Formulation 1: Index-3 DAE](https://ndcbe.github.io/CBE60499/02.04-DAE-modeling.html#2.4.3.1-Formulation-1:-Index-3-DAE)",
     "section": "2.4.3.1 Formulation 1: Index-3 DAE"
    }
   },
   "source": [
    "**Warning**: If you run this notebook in Colab, you may get the following runtime error and your kernel may crash:\n",
    "\n",
    "![casadi-error-1](../../media/casadi-error1.png)\n",
    "\n",
    "![casadi-error-2](../../media/casadi-error2.png)"
   ]
  },
  {
   "cell_type": "markdown",
   "metadata": {
    "nbpages": {
     "level": 3,
     "link": "[2.4.3.1 Formulation 1: Index-3 DAE](https://ndcbe.github.io/CBE60499/02.04-DAE-modeling.html#2.4.3.1-Formulation-1:-Index-3-DAE)",
     "section": "2.4.3.1 Formulation 1: Index-3 DAE"
    }
   },
   "source": [
    "Why did the `IDAS` integrator in `SUNDIALS` fail? It is [only meant for index 0 or 1 DAEs](https://groups.google.com/g/casadi-users/c/E02-X6nGVFs)! Integrating high index DAEs is really hard!"
   ]
  },
  {
   "cell_type": "markdown",
   "metadata": {
    "nbpages": {
     "level": 3,
     "link": "[2.4.3.2 Formulation 2: Pure ODE Model](https://ndcbe.github.io/CBE60499/02.04-DAE-modeling.html#2.4.3.2-Formulation-2:-Pure-ODE-Model)",
     "section": "2.4.3.2 Formulation 2: Pure ODE Model"
    }
   },
   "source": [
    "### Formulation 2: Pure ODE Model\n",
    "\n",
    "$$\\begin{align}\n",
    "\\frac{d x}{dt} &= u \\\\\n",
    "\\frac{d y}{dt} &= v \\\\\n",
    "\\frac{d u}{dt} &= -T x \\\\\n",
    "\\frac{d v}{dt} &= g - Ty \\\\\n",
    "\\frac{d T}{dt} &= 4 T (x u + y v) + 3 g v\n",
    "\\end{align}$$\n"
   ]
  },
  {
   "cell_type": "code",
   "execution_count": 4,
   "metadata": {
    "nbpages": {
     "level": 3,
     "link": "[2.4.3.2 Formulation 2: Pure ODE Model](https://ndcbe.github.io/CBE60499/02.04-DAE-modeling.html#2.4.3.2-Formulation-2:-Pure-ODE-Model)",
     "section": "2.4.3.2 Formulation 2: Pure ODE Model"
    }
   },
   "outputs": [
    {
     "name": "stdout",
     "output_type": "stream",
     "text": [
      "FORWARD INTEGRATION:\n",
      "Number of steps taken by SUNDIALS: 167\n",
      "Number of calls to the user’s f function: 242\n",
      "Number of calls made to the linear solver setup function: 31\n",
      "Number of error test failures: 7\n",
      "Method order used on the last internal step: 5\n",
      "Method order to be used on the next internal step: 5\n",
      "Actual value of initial step size: 7.90569e-07\n",
      "Step size taken on the last internal step: 0.00246466\n",
      "Step size to be attempted on the next internal step: 0.00492933\n",
      "Current internal time reached: 0.00492933\n",
      "Number of nonlinear iterations performed: 240\n",
      "Number of nonlinear convergence failures: 0\n",
      "\n"
     ]
    },
    {
     "data": {
      "image/png": "[encoded data removed]",
      "text/plain": [
       "<Figure size 640x480 with 1 Axes>"
      ]
     },
     "metadata": {},
     "output_type": "display_data"
    },
    {
     "data": {
      "image/png": "[encoded data removed]",
      "text/plain": [
       "<Figure size 640x480 with 1 Axes>"
      ]
     },
     "metadata": {},
     "output_type": "display_data"
    }
   ],
   "source": [
    "def create_model_ode():\n",
    "\n",
    "    m = ConcreteModel()\n",
    "\n",
    "    # Declare time\n",
    "    m.t = ContinuousSet(bounds=(0.0, 5.0))\n",
    "\n",
    "    # Declare parameter - acceleration due to gravity\n",
    "    m.g = Param(initialize=9.81) # m/s^2\n",
    "\n",
    "    # Declare variables indexed over time\n",
    "    m.x = Var(m.t) # horizontal position\n",
    "    m.y = Var(m.t) # vertical position\n",
    "    m.u = Var(m.t) # horizontal velocity\n",
    "    m.v = Var(m.t) # vertical velocity\n",
    "    m.T = Var(m.t) # tension\n",
    "\n",
    "    # Declare derivative variables\n",
    "    m.dx = DerivativeVar(m.x) # with respect to t is implied\n",
    "    m.dy = DerivativeVar(m.y)\n",
    "    m.du = DerivativeVar(m.u)\n",
    "    m.dv = DerivativeVar(m.v)\n",
    "    m.dT = DerivativeVar(m.T)\n",
    "\n",
    "    # Declare differential equations\n",
    "    def _dx_eqn(m, t):\n",
    "        return m.dx[t] == m.u[t]\n",
    "    m.dx_eqn = Constraint(m.t, rule=_dx_eqn)\n",
    "\n",
    "    def _dy_eqn(m, t):\n",
    "        return m.dy[t] == m.v[t]\n",
    "    m.dy_eqn = Constraint(m.t, rule=_dy_eqn)\n",
    "\n",
    "    def _du_eqn(m, t):\n",
    "        return m.du[t] == -m.T[t]*m.x[t]\n",
    "    m.du_eqn = Constraint(m.t, rule=_du_eqn)\n",
    "\n",
    "    def _dv_eqn(m, t):\n",
    "        return m.dv[t] == m.g -m.T[t]*m.y[t]\n",
    "    m.dv_eqn = Constraint(m.t, rule=_dv_eqn)\n",
    "\n",
    "    def _dT_eqn(m, t):\n",
    "        return m.dT[t] == 4*m.T[t]*(m.x[t]*m.u[t] + m.y[t]*m.v[t]) + 3*m.g*m.v[t]\n",
    "    m.dT_eqn = Constraint(m.t, rule=_dT_eqn)\n",
    "\n",
    "    # Specify initial conditions\n",
    "    m.x[0] = 0\n",
    "    m.y[0] = 1\n",
    "    m.u[0] = 1\n",
    "    m.v[0] = 0\n",
    "    m.T[0] = 1 + m.g\n",
    "    \n",
    "    return m\n",
    "\n",
    "ode = create_model_ode()\n",
    "\n",
    "# Specify integrator options\n",
    "int_ops = {'print_stats':True,\"abstol\":1E-6,\"reltol\":1E-4}\n",
    "\n",
    "# Solve DAEs\n",
    "sim = Simulator(ode, package='casadi')\n",
    "tsim, profiles = sim.simulate(numpoints=100, integrator='idas',integrator_options=int_ops)\n",
    "\n",
    "# Plot solution\n",
    "results = plot_results(sim, tsim, profiles)"
   ]
  },
  {
   "cell_type": "markdown",
   "metadata": {
    "nbpages": {
     "level": 3,
     "link": "[2.4.3.2 Formulation 2: Pure ODE Model](https://ndcbe.github.io/CBE60499/02.04-DAE-modeling.html#2.4.3.2-Formulation-2:-Pure-ODE-Model)",
     "section": "2.4.3.2 Formulation 2: Pure ODE Model"
    }
   },
   "source": [
    "**Discussion**\n",
    "* Are all of the algebraic constraints in the original formulation satisfied?"
   ]
  },
  {
   "cell_type": "markdown",
   "metadata": {
    "nbpages": {
     "level": 3,
     "link": "[2.4.3.3 Formulation 3: Index-1 DAE Model](https://ndcbe.github.io/CBE60499/02.04-DAE-modeling.html#2.4.3.3-Formulation-3:-Index-1-DAE-Model)",
     "section": "2.4.3.3 Formulation 3: Index-1 DAE Model"
    }
   },
   "source": [
    "### Formulation 3: Index-1 DAE Model\n",
    "\n",
    "$$\\begin{align}\n",
    "\\frac{d y}{dt} &= v \\\\\n",
    "\\frac{d v}{dt} &= g - Ty \\\\\n",
    " & x^2 + y^2 = 1 \\\\\n",
    " & 2 x u + 2 y v = 0 \\\\\n",
    " & (u^2 + v^2) - T (x^2 + y^2) + g y = 0\n",
    "\\end{align}$$\n",
    "\n",
    "(This reformulation is NOT unique... could have written $\\frac{dx}{dt}$ and $\\frac{du}{dt}$ instead.)\n",
    "\n",
    "Consistent initial conditions:\n",
    "1. Specify $y(0)$ and $v(0)$.\n",
    "2. Solve for $x(0)$, $u(0)$, and $T(0)$"
   ]
  },
  {
   "cell_type": "code",
   "execution_count": 5,
   "metadata": {
    "nbpages": {
     "level": 3,
     "link": "[2.4.3.3 Formulation 3: Index-1 DAE Model](https://ndcbe.github.io/CBE60499/02.04-DAE-modeling.html#2.4.3.3-Formulation-3:-Index-1-DAE-Model)",
     "section": "2.4.3.3 Formulation 3: Index-1 DAE Model"
    }
   },
   "outputs": [
    {
     "name": "stdout",
     "output_type": "stream",
     "text": [
      "Constraint 1:\n",
      "0\n",
      "\n",
      "Constraint 2:\n",
      "0\n",
      "\n",
      "Constraint 3:\n",
      "0.0\n"
     ]
    },
    {
     "name": "stderr",
     "output_type": "stream",
     "text": [
      "psetup failed: .../casadi/interfaces/sundials/idas_interface.cpp:852: Linear solve failed\n",
      "psetup failed: .../casadi/interfaces/sundials/idas_interface.cpp:852: Linear solve failed\n",
      "psetup failed: .../casadi/interfaces/sundials/idas_interface.cpp:852: Linear solve failed\n",
      "psetup failed: .../casadi/interfaces/sundials/idas_interface.cpp:852: Linear solve failed\n",
      "psetup failed: .../casadi/interfaces/sundials/idas_interface.cpp:852: Linear solve failed\n",
      "The residual routine or the linear setup or solve routine had a recoverable error, but IDACalcIC was unable to recover.\n"
     ]
    },
    {
     "ename": "RuntimeError",
     "evalue": ".../casadi/interfaces/sundials/idas_interface.cpp:591: IDACalcIC returned \"IDA_NO_RECOVERY\". Consult IDAS documentation.",
     "output_type": "error",
     "traceback": [
      "\u001b[0;31m---------------------------------------------------------------------------\u001b[0m",
      "\u001b[0;31mRuntimeError\u001b[0m                              Traceback (most recent call last)",
      "Cell \u001b[0;32mIn [5], line 79\u001b[0m\n\u001b[1;32m     77\u001b[0m \u001b[38;5;66;03m# Solve DAEs\u001b[39;00m\n\u001b[1;32m     78\u001b[0m sim \u001b[38;5;241m=\u001b[39m Simulator(index1, package\u001b[38;5;241m=\u001b[39m\u001b[38;5;124m'\u001b[39m\u001b[38;5;124mcasadi\u001b[39m\u001b[38;5;124m'\u001b[39m)\n\u001b[0;32m---> 79\u001b[0m tsim, profiles \u001b[38;5;241m=\u001b[39m \u001b[43msim\u001b[49m\u001b[38;5;241;43m.\u001b[39;49m\u001b[43msimulate\u001b[49m\u001b[43m(\u001b[49m\u001b[43mnumpoints\u001b[49m\u001b[38;5;241;43m=\u001b[39;49m\u001b[38;5;241;43m100\u001b[39;49m\u001b[43m,\u001b[49m\u001b[43m \u001b[49m\u001b[43mintegrator\u001b[49m\u001b[38;5;241;43m=\u001b[39;49m\u001b[38;5;124;43m'\u001b[39;49m\u001b[38;5;124;43midas\u001b[39;49m\u001b[38;5;124;43m'\u001b[39;49m\u001b[43m,\u001b[49m\u001b[43mintegrator_options\u001b[49m\u001b[38;5;241;43m=\u001b[39;49m\u001b[43mint_ops\u001b[49m\u001b[43m)\u001b[49m\n",
      "File \u001b[0;32m~/opt/anaconda3/envs/idaes/lib/python3.10/site-packages/pyomo/dae/simulator.py:884\u001b[0m, in \u001b[0;36mSimulator.simulate\u001b[0;34m(self, numpoints, tstep, integrator, varying_inputs, initcon, integrator_options)\u001b[0m\n\u001b[1;32m    877\u001b[0m         tsim, profile \u001b[38;5;241m=\u001b[39m \\\n\u001b[1;32m    878\u001b[0m             \u001b[38;5;28mself\u001b[39m\u001b[38;5;241m.\u001b[39m_simulate_with_casadi_with_inputs(initcon, tsim,\n\u001b[1;32m    879\u001b[0m                                                    varying_inputs,\n\u001b[1;32m    880\u001b[0m                                                    integrator,\n\u001b[1;32m    881\u001b[0m                                                    integrator_options)\n\u001b[1;32m    882\u001b[0m     \u001b[38;5;28;01melse\u001b[39;00m:\n\u001b[1;32m    883\u001b[0m         tsim, profile \u001b[38;5;241m=\u001b[39m \\\n\u001b[0;32m--> 884\u001b[0m             \u001b[38;5;28;43mself\u001b[39;49m\u001b[38;5;241;43m.\u001b[39;49m\u001b[43m_simulate_with_casadi_no_inputs\u001b[49m\u001b[43m(\u001b[49m\u001b[43minitcon\u001b[49m\u001b[43m,\u001b[49m\u001b[43m \u001b[49m\u001b[43mtsim\u001b[49m\u001b[43m,\u001b[49m\n\u001b[1;32m    885\u001b[0m \u001b[43m                                                 \u001b[49m\u001b[43mintegrator\u001b[49m\u001b[43m,\u001b[49m\n\u001b[1;32m    886\u001b[0m \u001b[43m                                                 \u001b[49m\u001b[43mintegrator_options\u001b[49m\u001b[43m)\u001b[49m\n\u001b[1;32m    888\u001b[0m \u001b[38;5;28mself\u001b[39m\u001b[38;5;241m.\u001b[39m_tsim \u001b[38;5;241m=\u001b[39m tsim\n\u001b[1;32m    889\u001b[0m \u001b[38;5;28mself\u001b[39m\u001b[38;5;241m.\u001b[39m_simsolution \u001b[38;5;241m=\u001b[39m profile\n",
      "File \u001b[0;32m~/opt/anaconda3/envs/idaes/lib/python3.10/site-packages/pyomo/dae/simulator.py:945\u001b[0m, in \u001b[0;36mSimulator._simulate_with_casadi_no_inputs\u001b[0;34m(self, initcon, tsim, integrator, integrator_options)\u001b[0m\n\u001b[1;32m    943\u001b[0m integrator_options[\u001b[38;5;124m'\u001b[39m\u001b[38;5;124moutput_t0\u001b[39m\u001b[38;5;124m'\u001b[39m] \u001b[38;5;241m=\u001b[39m \u001b[38;5;28;01mTrue\u001b[39;00m\n\u001b[1;32m    944\u001b[0m F \u001b[38;5;241m=\u001b[39m casadi\u001b[38;5;241m.\u001b[39mintegrator(\u001b[38;5;124m'\u001b[39m\u001b[38;5;124mF\u001b[39m\u001b[38;5;124m'\u001b[39m, integrator, dae, integrator_options)\n\u001b[0;32m--> 945\u001b[0m sol \u001b[38;5;241m=\u001b[39m \u001b[43mF\u001b[49m\u001b[43m(\u001b[49m\u001b[43mx0\u001b[49m\u001b[38;5;241;43m=\u001b[39;49m\u001b[43minitcon\u001b[49m\u001b[43m)\u001b[49m\n\u001b[1;32m    946\u001b[0m profile \u001b[38;5;241m=\u001b[39m sol[\u001b[38;5;124m'\u001b[39m\u001b[38;5;124mxf\u001b[39m\u001b[38;5;124m'\u001b[39m]\u001b[38;5;241m.\u001b[39mfull()\u001b[38;5;241m.\u001b[39mT\n\u001b[1;32m    948\u001b[0m \u001b[38;5;28;01mif\u001b[39;00m \u001b[38;5;28mlen\u001b[39m(\u001b[38;5;28mself\u001b[39m\u001b[38;5;241m.\u001b[39m_algvars) \u001b[38;5;241m!=\u001b[39m \u001b[38;5;241m0\u001b[39m:\n",
      "File \u001b[0;32m~/opt/anaconda3/envs/idaes/lib/python3.10/site-packages/casadi/casadi.py:7772\u001b[0m, in \u001b[0;36mFunction.__call__\u001b[0;34m(self, *args, **kwargs)\u001b[0m\n\u001b[1;32m   7769\u001b[0m       \u001b[38;5;28;01mreturn\u001b[39;00m \u001b[38;5;28mtuple\u001b[39m(ret)\n\u001b[1;32m   7770\u001b[0m   \u001b[38;5;28;01melse\u001b[39;00m:\n\u001b[1;32m   7771\u001b[0m \u001b[38;5;66;03m# Named inputs -> return dictionary\u001b[39;00m\n\u001b[0;32m-> 7772\u001b[0m     \u001b[38;5;28;01mreturn\u001b[39;00m \u001b[38;5;28;43mself\u001b[39;49m\u001b[38;5;241;43m.\u001b[39;49m\u001b[43mcall\u001b[49m\u001b[43m(\u001b[49m\u001b[43mkwargs\u001b[49m\u001b[43m)\u001b[49m\n",
      "File \u001b[0;32m~/opt/anaconda3/envs/idaes/lib/python3.10/site-packages/casadi/casadi.py:6945\u001b[0m, in \u001b[0;36mFunction.call\u001b[0;34m(self, *args)\u001b[0m\n\u001b[1;32m   6922\u001b[0m \u001b[38;5;28;01mdef\u001b[39;00m \u001b[38;5;21mcall\u001b[39m(\u001b[38;5;28mself\u001b[39m, \u001b[38;5;241m*\u001b[39margs):\n\u001b[1;32m   6923\u001b[0m     \u001b[38;5;124mr\u001b[39m\u001b[38;5;124;03m\"\"\"\u001b[39;00m\n\u001b[1;32m   6924\u001b[0m \u001b[38;5;124;03m    call(Function self, std::vector< casadi::DM,std::allocator< casadi::DM > > const & arg, bool always_inline=False, bool never_inline=False)\u001b[39;00m\n\u001b[1;32m   6925\u001b[0m \u001b[38;5;124;03m    call(Function self, std::vector< casadi::SX,std::allocator< casadi::SX > > const & arg, bool always_inline=False, bool never_inline=False)\u001b[39;00m\n\u001b[0;32m   (...)\u001b[0m\n\u001b[1;32m   6943\u001b[0m \n\u001b[1;32m   6944\u001b[0m \u001b[38;5;124;03m    \"\"\"\u001b[39;00m\n\u001b[0;32m-> 6945\u001b[0m     \u001b[38;5;28;01mreturn\u001b[39;00m \u001b[43m_casadi\u001b[49m\u001b[38;5;241;43m.\u001b[39;49m\u001b[43mFunction_call\u001b[49m\u001b[43m(\u001b[49m\u001b[38;5;28;43mself\u001b[39;49m\u001b[43m,\u001b[49m\u001b[43m \u001b[49m\u001b[38;5;241;43m*\u001b[39;49m\u001b[43margs\u001b[49m\u001b[43m)\u001b[49m\n",
      "\u001b[0;31mRuntimeError\u001b[0m: .../casadi/interfaces/sundials/idas_interface.cpp:591: IDACalcIC returned \"IDA_NO_RECOVERY\". Consult IDAS documentation."
     ]
    }
   ],
   "source": [
    "def create_model_index1():\n",
    "\n",
    "    m = ConcreteModel()\n",
    "\n",
    "    # Declare time\n",
    "    m.t = ContinuousSet(bounds=(0, 5))\n",
    "\n",
    "    # Declare parameter - acceleration due to gravity\n",
    "    m.g = Param(initialize=9.81) # m/s^2\n",
    "\n",
    "    # Declare variables indexed over time\n",
    "    m.x = Var(m.t) # horizontal position\n",
    "    m.y = Var(m.t) # vertical position\n",
    "    m.u = Var(m.t) # horizontal velocity\n",
    "    m.v = Var(m.t) # vertical velocity\n",
    "    m.T = Var(m.t) # tension\n",
    "\n",
    "    # Declare derivative variables\n",
    "    m.dy = DerivativeVar(m.y)\n",
    "    m.dv = DerivativeVar(m.v)\n",
    "\n",
    "    # Declare differential equations\n",
    "    def _dy_eqn(m, t):\n",
    "        return m.dy[t] == m.v[t]\n",
    "    m.dy_eqn = Constraint(m.t, rule=_dy_eqn)\n",
    "\n",
    "    def _dv_eqn(m, t):\n",
    "        return m.dv[t] == m.g - m.T[t]*m.y[t]\n",
    "    m.dv_eqn = Constraint(m.t, rule=_dv_eqn)\n",
    "\n",
    "    # Declare algebraic equations\n",
    "    def _alg_eqn1(m, t):\n",
    "        return m.x[t]**2 + m.y[t]**2 == 1\n",
    "    m.alg_eqn1 = Constraint(m.t, rule=_alg_eqn1)\n",
    "\n",
    "    def _alg_eqn2(m, t):\n",
    "        return m.x[t]*m.u[t] + m.y[t]*m.v[t] == 0\n",
    "    m.alg_eqn2 = Constraint(m.t, rule=_alg_eqn2)\n",
    "\n",
    "    def _alg_eqn3(m, t):\n",
    "        return m.u[t]**2 + m.v[t]**2 - m.T[t]*(m.x[t]**2 + m.y[t]**2) + m.g*m.y[t] == 0\n",
    "    m.alg_eqn3 = Constraint(m.t, rule=_alg_eqn3)\n",
    "\n",
    "    # Specify initial conditions\n",
    "    m.x[0] = 0\n",
    "    m.y[0] = 1\n",
    "    m.u[0] = 1\n",
    "    m.v[0] = 0\n",
    "    m.T[0] = 1 + m.g\n",
    "    \n",
    "    return m\n",
    "\n",
    "def index1_check_constraints(m):\n",
    "    \"\"\" Check if the three constraints are feasible.\n",
    "    \"\"\"\n",
    "    \n",
    "    print(\"Constraint 1:\")\n",
    "    r1 = m.x[0]()**2 + m.y[0]()**2 - 1\n",
    "    print(r1)\n",
    "    \n",
    "    print(\"\\nConstraint 2:\")\n",
    "    r2 = m.x[0]()*m.u[0]() + m.y[0]()*m.v[0]()\n",
    "    print(r2)\n",
    "    \n",
    "    print(\"\\nConstraint 3:\")\n",
    "    r3 = m.u[0]()**2 + m.v[0]()**2 - m.T[0]() + m.g*m.y[0]()\n",
    "    print(r3)\n",
    "\n",
    "index1 = create_model_index1()\n",
    "\n",
    "# Check initial condition\n",
    "index1_check_constraints(index1)\n",
    "\n",
    "# Specify integrator options\n",
    "int_ops = {'print_stats':True,\"abstol\":1E-6,\"reltol\":1E-4}\n",
    "\n",
    "# Solve DAEs\n",
    "sim = Simulator(index1, package='casadi')\n",
    "tsim, profiles = sim.simulate(numpoints=100, integrator='idas',integrator_options=int_ops)\n",
    "# tsim, profiles = sim.simulate(numpoints=100, integrator='collocation')"
   ]
  },
  {
   "cell_type": "markdown",
   "metadata": {
    "nbpages": {
     "level": 3,
     "link": "[2.4.3.3 Formulation 3: Index-1 DAE Model](https://ndcbe.github.io/CBE60499/02.04-DAE-modeling.html#2.4.3.3-Formulation-3:-Index-1-DAE-Model)",
     "section": "2.4.3.3 Formulation 3: Index-1 DAE Model"
    }
   },
   "source": [
    "What happened? [Point singularity](https://sourceforge.net/p/casadi/discussion/1271244/thread/1d895c9e/) at $x=0$.\n",
    "\n",
    "Let's try $x=0.1$ as the initial point."
   ]
  },
  {
   "cell_type": "code",
   "execution_count": 6,
   "metadata": {
    "nbpages": {
     "level": 3,
     "link": "[2.4.3.3 Formulation 3: Index-1 DAE Model](https://ndcbe.github.io/CBE60499/02.04-DAE-modeling.html#2.4.3.3-Formulation-3:-Index-1-DAE-Model)",
     "section": "2.4.3.3 Formulation 3: Index-1 DAE Model"
    }
   },
   "outputs": [
    {
     "name": "stdout",
     "output_type": "stream",
     "text": [
      "Constraint 1:\n",
      "0.010000000000000009\n",
      "\n",
      "Constraint 2:\n",
      "0.1\n",
      "\n",
      "Constraint 3:\n",
      "0.0\n"
     ]
    },
    {
     "name": "stderr",
     "output_type": "stream",
     "text": [
      "psetup failed: .../casadi/interfaces/sundials/idas_interface.cpp:852: Linear solve failed\n",
      "psetup failed: .../casadi/interfaces/sundials/idas_interface.cpp:852: Linear solve failed\n",
      "psetup failed: .../casadi/interfaces/sundials/idas_interface.cpp:852: Linear solve failed\n",
      "psetup failed: .../casadi/interfaces/sundials/idas_interface.cpp:852: Linear solve failed\n",
      "psetup failed: .../casadi/interfaces/sundials/idas_interface.cpp:852: Linear solve failed\n",
      "The residual routine or the linear setup or solve routine had a recoverable error, but IDACalcIC was unable to recover.\n"
     ]
    },
    {
     "ename": "RuntimeError",
     "evalue": ".../casadi/interfaces/sundials/idas_interface.cpp:591: IDACalcIC returned \"IDA_NO_RECOVERY\". Consult IDAS documentation.",
     "output_type": "error",
     "traceback": [
      "\u001b[0;31m---------------------------------------------------------------------------\u001b[0m",
      "\u001b[0;31mRuntimeError\u001b[0m                              Traceback (most recent call last)",
      "Cell \u001b[0;32mIn [6], line 19\u001b[0m\n\u001b[1;32m     16\u001b[0m sim \u001b[38;5;241m=\u001b[39m Simulator(index1_again, package\u001b[38;5;241m=\u001b[39m\u001b[38;5;124m'\u001b[39m\u001b[38;5;124mcasadi\u001b[39m\u001b[38;5;124m'\u001b[39m)\n\u001b[1;32m     18\u001b[0m \u001b[38;5;66;03m# Simulator\u001b[39;00m\n\u001b[0;32m---> 19\u001b[0m tsim, profiles \u001b[38;5;241m=\u001b[39m \u001b[43msim\u001b[49m\u001b[38;5;241;43m.\u001b[39;49m\u001b[43msimulate\u001b[49m\u001b[43m(\u001b[49m\u001b[43mnumpoints\u001b[49m\u001b[38;5;241;43m=\u001b[39;49m\u001b[38;5;241;43m100\u001b[39;49m\u001b[43m,\u001b[49m\u001b[43m \u001b[49m\u001b[43mintegrator\u001b[49m\u001b[38;5;241;43m=\u001b[39;49m\u001b[38;5;124;43m'\u001b[39;49m\u001b[38;5;124;43midas\u001b[39;49m\u001b[38;5;124;43m'\u001b[39;49m\u001b[43m,\u001b[49m\u001b[43mintegrator_options\u001b[49m\u001b[38;5;241;43m=\u001b[39;49m\u001b[43mint_ops\u001b[49m\u001b[43m)\u001b[49m\n",
      "File \u001b[0;32m~/opt/anaconda3/envs/idaes/lib/python3.10/site-packages/pyomo/dae/simulator.py:884\u001b[0m, in \u001b[0;36mSimulator.simulate\u001b[0;34m(self, numpoints, tstep, integrator, varying_inputs, initcon, integrator_options)\u001b[0m\n\u001b[1;32m    877\u001b[0m         tsim, profile \u001b[38;5;241m=\u001b[39m \\\n\u001b[1;32m    878\u001b[0m             \u001b[38;5;28mself\u001b[39m\u001b[38;5;241m.\u001b[39m_simulate_with_casadi_with_inputs(initcon, tsim,\n\u001b[1;32m    879\u001b[0m                                                    varying_inputs,\n\u001b[1;32m    880\u001b[0m                                                    integrator,\n\u001b[1;32m    881\u001b[0m                                                    integrator_options)\n\u001b[1;32m    882\u001b[0m     \u001b[38;5;28;01melse\u001b[39;00m:\n\u001b[1;32m    883\u001b[0m         tsim, profile \u001b[38;5;241m=\u001b[39m \\\n\u001b[0;32m--> 884\u001b[0m             \u001b[38;5;28;43mself\u001b[39;49m\u001b[38;5;241;43m.\u001b[39;49m\u001b[43m_simulate_with_casadi_no_inputs\u001b[49m\u001b[43m(\u001b[49m\u001b[43minitcon\u001b[49m\u001b[43m,\u001b[49m\u001b[43m \u001b[49m\u001b[43mtsim\u001b[49m\u001b[43m,\u001b[49m\n\u001b[1;32m    885\u001b[0m \u001b[43m                                                 \u001b[49m\u001b[43mintegrator\u001b[49m\u001b[43m,\u001b[49m\n\u001b[1;32m    886\u001b[0m \u001b[43m                                                 \u001b[49m\u001b[43mintegrator_options\u001b[49m\u001b[43m)\u001b[49m\n\u001b[1;32m    888\u001b[0m \u001b[38;5;28mself\u001b[39m\u001b[38;5;241m.\u001b[39m_tsim \u001b[38;5;241m=\u001b[39m tsim\n\u001b[1;32m    889\u001b[0m \u001b[38;5;28mself\u001b[39m\u001b[38;5;241m.\u001b[39m_simsolution \u001b[38;5;241m=\u001b[39m profile\n",
      "File \u001b[0;32m~/opt/anaconda3/envs/idaes/lib/python3.10/site-packages/pyomo/dae/simulator.py:945\u001b[0m, in \u001b[0;36mSimulator._simulate_with_casadi_no_inputs\u001b[0;34m(self, initcon, tsim, integrator, integrator_options)\u001b[0m\n\u001b[1;32m    943\u001b[0m integrator_options[\u001b[38;5;124m'\u001b[39m\u001b[38;5;124moutput_t0\u001b[39m\u001b[38;5;124m'\u001b[39m] \u001b[38;5;241m=\u001b[39m \u001b[38;5;28;01mTrue\u001b[39;00m\n\u001b[1;32m    944\u001b[0m F \u001b[38;5;241m=\u001b[39m casadi\u001b[38;5;241m.\u001b[39mintegrator(\u001b[38;5;124m'\u001b[39m\u001b[38;5;124mF\u001b[39m\u001b[38;5;124m'\u001b[39m, integrator, dae, integrator_options)\n\u001b[0;32m--> 945\u001b[0m sol \u001b[38;5;241m=\u001b[39m \u001b[43mF\u001b[49m\u001b[43m(\u001b[49m\u001b[43mx0\u001b[49m\u001b[38;5;241;43m=\u001b[39;49m\u001b[43minitcon\u001b[49m\u001b[43m)\u001b[49m\n\u001b[1;32m    946\u001b[0m profile \u001b[38;5;241m=\u001b[39m sol[\u001b[38;5;124m'\u001b[39m\u001b[38;5;124mxf\u001b[39m\u001b[38;5;124m'\u001b[39m]\u001b[38;5;241m.\u001b[39mfull()\u001b[38;5;241m.\u001b[39mT\n\u001b[1;32m    948\u001b[0m \u001b[38;5;28;01mif\u001b[39;00m \u001b[38;5;28mlen\u001b[39m(\u001b[38;5;28mself\u001b[39m\u001b[38;5;241m.\u001b[39m_algvars) \u001b[38;5;241m!=\u001b[39m \u001b[38;5;241m0\u001b[39m:\n",
      "File \u001b[0;32m~/opt/anaconda3/envs/idaes/lib/python3.10/site-packages/casadi/casadi.py:7772\u001b[0m, in \u001b[0;36mFunction.__call__\u001b[0;34m(self, *args, **kwargs)\u001b[0m\n\u001b[1;32m   7769\u001b[0m       \u001b[38;5;28;01mreturn\u001b[39;00m \u001b[38;5;28mtuple\u001b[39m(ret)\n\u001b[1;32m   7770\u001b[0m   \u001b[38;5;28;01melse\u001b[39;00m:\n\u001b[1;32m   7771\u001b[0m \u001b[38;5;66;03m# Named inputs -> return dictionary\u001b[39;00m\n\u001b[0;32m-> 7772\u001b[0m     \u001b[38;5;28;01mreturn\u001b[39;00m \u001b[38;5;28;43mself\u001b[39;49m\u001b[38;5;241;43m.\u001b[39;49m\u001b[43mcall\u001b[49m\u001b[43m(\u001b[49m\u001b[43mkwargs\u001b[49m\u001b[43m)\u001b[49m\n",
      "File \u001b[0;32m~/opt/anaconda3/envs/idaes/lib/python3.10/site-packages/casadi/casadi.py:6945\u001b[0m, in \u001b[0;36mFunction.call\u001b[0;34m(self, *args)\u001b[0m\n\u001b[1;32m   6922\u001b[0m \u001b[38;5;28;01mdef\u001b[39;00m \u001b[38;5;21mcall\u001b[39m(\u001b[38;5;28mself\u001b[39m, \u001b[38;5;241m*\u001b[39margs):\n\u001b[1;32m   6923\u001b[0m     \u001b[38;5;124mr\u001b[39m\u001b[38;5;124;03m\"\"\"\u001b[39;00m\n\u001b[1;32m   6924\u001b[0m \u001b[38;5;124;03m    call(Function self, std::vector< casadi::DM,std::allocator< casadi::DM > > const & arg, bool always_inline=False, bool never_inline=False)\u001b[39;00m\n\u001b[1;32m   6925\u001b[0m \u001b[38;5;124;03m    call(Function self, std::vector< casadi::SX,std::allocator< casadi::SX > > const & arg, bool always_inline=False, bool never_inline=False)\u001b[39;00m\n\u001b[0;32m   (...)\u001b[0m\n\u001b[1;32m   6943\u001b[0m \n\u001b[1;32m   6944\u001b[0m \u001b[38;5;124;03m    \"\"\"\u001b[39;00m\n\u001b[0;32m-> 6945\u001b[0m     \u001b[38;5;28;01mreturn\u001b[39;00m \u001b[43m_casadi\u001b[49m\u001b[38;5;241;43m.\u001b[39;49m\u001b[43mFunction_call\u001b[49m\u001b[43m(\u001b[49m\u001b[38;5;28;43mself\u001b[39;49m\u001b[43m,\u001b[49m\u001b[43m \u001b[49m\u001b[38;5;241;43m*\u001b[39;49m\u001b[43margs\u001b[49m\u001b[43m)\u001b[49m\n",
      "\u001b[0;31mRuntimeError\u001b[0m: .../casadi/interfaces/sundials/idas_interface.cpp:591: IDACalcIC returned \"IDA_NO_RECOVERY\". Consult IDAS documentation."
     ]
    }
   ],
   "source": [
    "index1_again = create_model_index1()\n",
    "\n",
    "# Specify alternative initial conditions\n",
    "small_number = 0.1\n",
    "\n",
    "index1_again.x[0] = small_number\n",
    "index1_again.y[0] = 1\n",
    "index1_again.u[0] = 1\n",
    "index1_again.v[0] = 0\n",
    "index1_again.T[0] = 1 + index1_again.g\n",
    "\n",
    "# Check initial condition\n",
    "index1_check_constraints(index1_again)\n",
    "\n",
    "# Solve DAEs\n",
    "sim = Simulator(index1_again, package='casadi')\n",
    "\n",
    "# Simulator\n",
    "tsim, profiles = sim.simulate(numpoints=100, integrator='idas',integrator_options=int_ops)"
   ]
  },
  {
   "cell_type": "markdown",
   "metadata": {
    "nbpages": {
     "level": 3,
     "link": "[2.4.3.3 Formulation 3: Index-1 DAE Model](https://ndcbe.github.io/CBE60499/02.04-DAE-modeling.html#2.4.3.3-Formulation-3:-Index-1-DAE-Model)",
     "section": "2.4.3.3 Formulation 3: Index-1 DAE Model"
    }
   },
   "source": [
    "Our initial point does not satisfy the algebraic constraints! We need a consistent initial point."
   ]
  },
  {
   "cell_type": "markdown",
   "metadata": {
    "nbpages": {
     "level": 3,
     "link": "[2.4.3.3 Formulation 3: Index-1 DAE Model](https://ndcbe.github.io/CBE60499/02.04-DAE-modeling.html#2.4.3.3-Formulation-3:-Index-1-DAE-Model)",
     "section": "2.4.3.3 Formulation 3: Index-1 DAE Model"
    }
   },
   "source": [
    "Given $x = \\epsilon$, solve $x^2 + y^2 = 1$ for $y$:\n",
    "\n",
    "$$ y = \\sqrt{1^2 - \\epsilon^2}$$\n",
    "\n",
    "Then, assume $u = 1$ and solve $2 x u + 2 y v = 0$ for $v$:\n",
    "\n",
    "$$v = \\frac{-x u}{y}$$\n",
    "\n",
    "Finally, we can solve $(u^2 + v^2) - T (x^2 + y^2) + g y = 0$ for $T$:\n",
    "\n",
    "$$\n",
    "T = \\frac{(u^2 + v^2) + gy}{x^2 + y^2} = \\frac{(u^2 + v^2) + gy}{1}\n",
    "$$"
   ]
  },
  {
   "cell_type": "code",
   "execution_count": 7,
   "metadata": {
    "nbpages": {
     "level": 3,
     "link": "[2.4.3.3 Formulation 3: Index-1 DAE Model](https://ndcbe.github.io/CBE60499/02.04-DAE-modeling.html#2.4.3.3-Formulation-3:-Index-1-DAE-Model)",
     "section": "2.4.3.3 Formulation 3: Index-1 DAE Model"
    }
   },
   "outputs": [
    {
     "name": "stdout",
     "output_type": "stream",
     "text": [
      "Constraint 1:\n",
      "0.0\n",
      "\n",
      "Constraint 2:\n",
      "0.0\n",
      "\n",
      "Constraint 3:\n",
      "0.0\n"
     ]
    },
    {
     "name": "stderr",
     "output_type": "stream",
     "text": [
      "psetup failed: .../casadi/interfaces/sundials/idas_interface.cpp:852: Linear solve failed\n",
      "psetup failed: .../casadi/interfaces/sundials/idas_interface.cpp:852: Linear solve failed\n",
      "psetup failed: .../casadi/interfaces/sundials/idas_interface.cpp:852: Linear solve failed\n",
      "psetup failed: .../casadi/interfaces/sundials/idas_interface.cpp:852: Linear solve failed\n",
      "psetup failed: .../casadi/interfaces/sundials/idas_interface.cpp:852: Linear solve failed\n",
      "The residual routine or the linear setup or solve routine had a recoverable error, but IDACalcIC was unable to recover.\n"
     ]
    },
    {
     "ename": "RuntimeError",
     "evalue": ".../casadi/interfaces/sundials/idas_interface.cpp:591: IDACalcIC returned \"IDA_NO_RECOVERY\". Consult IDAS documentation.",
     "output_type": "error",
     "traceback": [
      "\u001b[0;31m---------------------------------------------------------------------------\u001b[0m",
      "\u001b[0;31mRuntimeError\u001b[0m                              Traceback (most recent call last)",
      "Cell \u001b[0;32mIn [7], line 24\u001b[0m\n\u001b[1;32m     20\u001b[0m int_ops2 \u001b[38;5;241m=\u001b[39m {\u001b[38;5;124m'\u001b[39m\u001b[38;5;124mprint_stats\u001b[39m\u001b[38;5;124m'\u001b[39m:\u001b[38;5;28;01mTrue\u001b[39;00m,\u001b[38;5;124m\"\u001b[39m\u001b[38;5;124mabstol\u001b[39m\u001b[38;5;124m\"\u001b[39m:\u001b[38;5;241m1E-6\u001b[39m,\u001b[38;5;124m\"\u001b[39m\u001b[38;5;124mreltol\u001b[39m\u001b[38;5;124m\"\u001b[39m:\u001b[38;5;241m1E-4\u001b[39m,\n\u001b[1;32m     21\u001b[0m             \u001b[38;5;124m\"\u001b[39m\u001b[38;5;124mverbose\u001b[39m\u001b[38;5;124m\"\u001b[39m:\u001b[38;5;28;01mFalse\u001b[39;00m,\u001b[38;5;124m\"\u001b[39m\u001b[38;5;124mcalc_ic\u001b[39m\u001b[38;5;124m\"\u001b[39m:\u001b[38;5;28;01mTrue\u001b[39;00m}\n\u001b[1;32m     23\u001b[0m \u001b[38;5;66;03m# Simulator\u001b[39;00m\n\u001b[0;32m---> 24\u001b[0m tsim, profiles \u001b[38;5;241m=\u001b[39m \u001b[43msim\u001b[49m\u001b[38;5;241;43m.\u001b[39;49m\u001b[43msimulate\u001b[49m\u001b[43m(\u001b[49m\u001b[43mnumpoints\u001b[49m\u001b[38;5;241;43m=\u001b[39;49m\u001b[38;5;241;43m20\u001b[39;49m\u001b[43m,\u001b[49m\u001b[43m \u001b[49m\u001b[43mintegrator\u001b[49m\u001b[38;5;241;43m=\u001b[39;49m\u001b[38;5;124;43m'\u001b[39;49m\u001b[38;5;124;43midas\u001b[39;49m\u001b[38;5;124;43m'\u001b[39;49m\u001b[43m,\u001b[49m\u001b[43mintegrator_options\u001b[49m\u001b[38;5;241;43m=\u001b[39;49m\u001b[43mint_ops2\u001b[49m\u001b[43m)\u001b[49m\n",
      "File \u001b[0;32m~/opt/anaconda3/envs/idaes/lib/python3.10/site-packages/pyomo/dae/simulator.py:884\u001b[0m, in \u001b[0;36mSimulator.simulate\u001b[0;34m(self, numpoints, tstep, integrator, varying_inputs, initcon, integrator_options)\u001b[0m\n\u001b[1;32m    877\u001b[0m         tsim, profile \u001b[38;5;241m=\u001b[39m \\\n\u001b[1;32m    878\u001b[0m             \u001b[38;5;28mself\u001b[39m\u001b[38;5;241m.\u001b[39m_simulate_with_casadi_with_inputs(initcon, tsim,\n\u001b[1;32m    879\u001b[0m                                                    varying_inputs,\n\u001b[1;32m    880\u001b[0m                                                    integrator,\n\u001b[1;32m    881\u001b[0m                                                    integrator_options)\n\u001b[1;32m    882\u001b[0m     \u001b[38;5;28;01melse\u001b[39;00m:\n\u001b[1;32m    883\u001b[0m         tsim, profile \u001b[38;5;241m=\u001b[39m \\\n\u001b[0;32m--> 884\u001b[0m             \u001b[38;5;28;43mself\u001b[39;49m\u001b[38;5;241;43m.\u001b[39;49m\u001b[43m_simulate_with_casadi_no_inputs\u001b[49m\u001b[43m(\u001b[49m\u001b[43minitcon\u001b[49m\u001b[43m,\u001b[49m\u001b[43m \u001b[49m\u001b[43mtsim\u001b[49m\u001b[43m,\u001b[49m\n\u001b[1;32m    885\u001b[0m \u001b[43m                                                 \u001b[49m\u001b[43mintegrator\u001b[49m\u001b[43m,\u001b[49m\n\u001b[1;32m    886\u001b[0m \u001b[43m                                                 \u001b[49m\u001b[43mintegrator_options\u001b[49m\u001b[43m)\u001b[49m\n\u001b[1;32m    888\u001b[0m \u001b[38;5;28mself\u001b[39m\u001b[38;5;241m.\u001b[39m_tsim \u001b[38;5;241m=\u001b[39m tsim\n\u001b[1;32m    889\u001b[0m \u001b[38;5;28mself\u001b[39m\u001b[38;5;241m.\u001b[39m_simsolution \u001b[38;5;241m=\u001b[39m profile\n",
      "File \u001b[0;32m~/opt/anaconda3/envs/idaes/lib/python3.10/site-packages/pyomo/dae/simulator.py:945\u001b[0m, in \u001b[0;36mSimulator._simulate_with_casadi_no_inputs\u001b[0;34m(self, initcon, tsim, integrator, integrator_options)\u001b[0m\n\u001b[1;32m    943\u001b[0m integrator_options[\u001b[38;5;124m'\u001b[39m\u001b[38;5;124moutput_t0\u001b[39m\u001b[38;5;124m'\u001b[39m] \u001b[38;5;241m=\u001b[39m \u001b[38;5;28;01mTrue\u001b[39;00m\n\u001b[1;32m    944\u001b[0m F \u001b[38;5;241m=\u001b[39m casadi\u001b[38;5;241m.\u001b[39mintegrator(\u001b[38;5;124m'\u001b[39m\u001b[38;5;124mF\u001b[39m\u001b[38;5;124m'\u001b[39m, integrator, dae, integrator_options)\n\u001b[0;32m--> 945\u001b[0m sol \u001b[38;5;241m=\u001b[39m \u001b[43mF\u001b[49m\u001b[43m(\u001b[49m\u001b[43mx0\u001b[49m\u001b[38;5;241;43m=\u001b[39;49m\u001b[43minitcon\u001b[49m\u001b[43m)\u001b[49m\n\u001b[1;32m    946\u001b[0m profile \u001b[38;5;241m=\u001b[39m sol[\u001b[38;5;124m'\u001b[39m\u001b[38;5;124mxf\u001b[39m\u001b[38;5;124m'\u001b[39m]\u001b[38;5;241m.\u001b[39mfull()\u001b[38;5;241m.\u001b[39mT\n\u001b[1;32m    948\u001b[0m \u001b[38;5;28;01mif\u001b[39;00m \u001b[38;5;28mlen\u001b[39m(\u001b[38;5;28mself\u001b[39m\u001b[38;5;241m.\u001b[39m_algvars) \u001b[38;5;241m!=\u001b[39m \u001b[38;5;241m0\u001b[39m:\n",
      "File \u001b[0;32m~/opt/anaconda3/envs/idaes/lib/python3.10/site-packages/casadi/casadi.py:7772\u001b[0m, in \u001b[0;36mFunction.__call__\u001b[0;34m(self, *args, **kwargs)\u001b[0m\n\u001b[1;32m   7769\u001b[0m       \u001b[38;5;28;01mreturn\u001b[39;00m \u001b[38;5;28mtuple\u001b[39m(ret)\n\u001b[1;32m   7770\u001b[0m   \u001b[38;5;28;01melse\u001b[39;00m:\n\u001b[1;32m   7771\u001b[0m \u001b[38;5;66;03m# Named inputs -> return dictionary\u001b[39;00m\n\u001b[0;32m-> 7772\u001b[0m     \u001b[38;5;28;01mreturn\u001b[39;00m \u001b[38;5;28;43mself\u001b[39;49m\u001b[38;5;241;43m.\u001b[39;49m\u001b[43mcall\u001b[49m\u001b[43m(\u001b[49m\u001b[43mkwargs\u001b[49m\u001b[43m)\u001b[49m\n",
      "File \u001b[0;32m~/opt/anaconda3/envs/idaes/lib/python3.10/site-packages/casadi/casadi.py:6945\u001b[0m, in \u001b[0;36mFunction.call\u001b[0;34m(self, *args)\u001b[0m\n\u001b[1;32m   6922\u001b[0m \u001b[38;5;28;01mdef\u001b[39;00m \u001b[38;5;21mcall\u001b[39m(\u001b[38;5;28mself\u001b[39m, \u001b[38;5;241m*\u001b[39margs):\n\u001b[1;32m   6923\u001b[0m     \u001b[38;5;124mr\u001b[39m\u001b[38;5;124;03m\"\"\"\u001b[39;00m\n\u001b[1;32m   6924\u001b[0m \u001b[38;5;124;03m    call(Function self, std::vector< casadi::DM,std::allocator< casadi::DM > > const & arg, bool always_inline=False, bool never_inline=False)\u001b[39;00m\n\u001b[1;32m   6925\u001b[0m \u001b[38;5;124;03m    call(Function self, std::vector< casadi::SX,std::allocator< casadi::SX > > const & arg, bool always_inline=False, bool never_inline=False)\u001b[39;00m\n\u001b[0;32m   (...)\u001b[0m\n\u001b[1;32m   6943\u001b[0m \n\u001b[1;32m   6944\u001b[0m \u001b[38;5;124;03m    \"\"\"\u001b[39;00m\n\u001b[0;32m-> 6945\u001b[0m     \u001b[38;5;28;01mreturn\u001b[39;00m \u001b[43m_casadi\u001b[49m\u001b[38;5;241;43m.\u001b[39;49m\u001b[43mFunction_call\u001b[49m\u001b[43m(\u001b[49m\u001b[38;5;28;43mself\u001b[39;49m\u001b[43m,\u001b[49m\u001b[43m \u001b[49m\u001b[38;5;241;43m*\u001b[39;49m\u001b[43margs\u001b[49m\u001b[43m)\u001b[49m\n",
      "\u001b[0;31mRuntimeError\u001b[0m: .../casadi/interfaces/sundials/idas_interface.cpp:591: IDACalcIC returned \"IDA_NO_RECOVERY\". Consult IDAS documentation."
     ]
    }
   ],
   "source": [
    "index1_take_two = create_model_index1()\n",
    "\n",
    "# Specify alternative initial conditions\n",
    "small_number = 0.1\n",
    "\n",
    "index1_take_two.x[0] = small_number\n",
    "index1_take_two.y[0] = np.sqrt(1 - small_number**2)\n",
    "index1_take_two.u[0] = 1\n",
    "index1_take_two.v[0] = -index1_take_two.x[0]()*index1_take_two.u[0]()/index1_take_two.y[0]()\n",
    "index1_take_two.T[0] = (index1_take_two.u[0]()**2 + index1_take_two.v[0]()**2\n",
    "    + index1_take_two.g*index1_take_two.y[0]())\n",
    "\n",
    "# Check initial condition\n",
    "index1_check_constraints(index1_take_two)\n",
    "\n",
    "# Solve DAEs\n",
    "sim = Simulator(index1_take_two, package='casadi')\n",
    "\n",
    "# Specify integrator options\n",
    "int_ops2 = {'print_stats':True,\"abstol\":1E-6,\"reltol\":1E-4,\n",
    "            \"verbose\":False,\"calc_ic\":True}\n",
    "\n",
    "# Simulator\n",
    "tsim, profiles = sim.simulate(numpoints=20, integrator='idas',integrator_options=int_ops2)"
   ]
  },
  {
   "cell_type": "markdown",
   "metadata": {},
   "source": [
    "Hmm, this does not make sense. Perhaps there is something subtle wrong with the model.\n",
    "\n",
    "Let's try solving the model with Ipopt after discretizing with collocation."
   ]
  },
  {
   "cell_type": "code",
   "execution_count": 8,
   "metadata": {},
   "outputs": [],
   "source": [
    "# discretize the model\n",
    "index1_take_two.Obj = Objective(expr=1) # Add a dummy objective\n",
    "discretizer = TransformationFactory('dae.collocation')\n",
    "discretizer.apply_to(index1_take_two,nfe=15,scheme='LAGRANGE-RADAU',ncp=3)\n",
    "\n",
    "# initialize\n",
    "for t in index1_take_two.t:\n",
    "    index1_take_two.x[t] = small_number\n",
    "    index1_take_two.y[t] = np.sqrt(1 - small_number**2)\n",
    "    index1_take_two.u[t] = 1\n",
    "    index1_take_two.v[t] = -index1_take_two.x[t]()*index1_take_two.u[t]()/index1_take_two.y[t]()\n",
    "    index1_take_two.T[t] = (index1_take_two.u[t]()**2 + index1_take_two.v[t]()**2\n",
    "        + index1_take_two.g*index1_take_two.y[t]())"
   ]
  },
  {
   "cell_type": "code",
   "execution_count": 9,
   "metadata": {},
   "outputs": [
    {
     "name": "stdout",
     "output_type": "stream",
     "text": [
      "Ipopt 3.13.2: max_iter=300\n",
      "\n",
      "\n",
      "******************************************************************************\n",
      "This program contains Ipopt, a library for large-scale nonlinear optimization.\n",
      " Ipopt is released as open source code under the Eclipse Public License (EPL).\n",
      "         For more information visit http://projects.coin-or.org/Ipopt\n",
      "\n",
      "This version of Ipopt was compiled from source code available at\n",
      "    https://github.com/IDAES/Ipopt as part of the Institute for the Design of\n",
      "    Advanced Energy Systems Process Systems Engineering Framework (IDAES PSE\n",
      "    Framework) Copyright (c) 2018-2019. See https://github.com/IDAES/idaes-pse.\n",
      "\n",
      "This version of Ipopt was compiled using HSL, a collection of Fortran codes\n",
      "    for large-scale scientific computation.  All technical papers, sales and\n",
      "    publicity material resulting from use of the HSL codes within IPOPT must\n",
      "    contain the following acknowledgement:\n",
      "        HSL, a collection of Fortran codes for large-scale scientific\n",
      "        computation. See http://www.hsl.rl.ac.uk.\n",
      "******************************************************************************\n",
      "\n",
      "This is Ipopt version 3.13.2, running with linear solver ma27.\n",
      "\n",
      "Number of nonzeros in equality constraint Jacobian...:     1186\n",
      "Number of nonzeros in inequality constraint Jacobian.:        0\n",
      "Number of nonzeros in Lagrangian Hessian.............:      368\n",
      "\n",
      "Total number of variables............................:      322\n",
      "                     variables with only lower bounds:        0\n",
      "                variables with lower and upper bounds:        0\n",
      "                     variables with only upper bounds:        0\n",
      "Total number of equality constraints.................:      320\n",
      "Total number of inequality constraints...............:        0\n",
      "        inequality constraints with only lower bounds:        0\n",
      "   inequality constraints with lower and upper bounds:        0\n",
      "        inequality constraints with only upper bounds:        0\n",
      "\n",
      "iter    objective    inf_pr   inf_du lg(mu)  ||d||  lg(rg) alpha_du alpha_pr  ls\n",
      "   0  1.0000000e+00 9.07e-01 0.00e+00  -1.0 0.00e+00    -  0.00e+00 0.00e+00   0\n",
      "   1  1.0000000e+00 3.29e-01 1.89e-04  -1.7 1.14e+00  -4.0 1.00e+00 1.00e+00h  1\n",
      "   2  1.0000000e+00 1.72e-01 8.57e-04  -1.7 4.16e-01  -3.6 1.00e+00 1.00e+00h  1\n",
      "   3  1.0000000e+00 1.72e-01 8.43e-04  -2.5 2.05e+02  -4.1 1.00e+00 2.44e-04h 13\n",
      "   4  1.0000000e+00 8.00e-02 3.19e-04  -2.5 3.03e-01  -3.6 1.00e+00 1.00e+00h  1\n",
      "   5  1.0000000e+00 1.50e-01 1.98e-04  -2.5 6.09e-01    -  1.00e+00 1.00e+00h  1\n",
      "   6  1.0000000e+00 3.53e-02 4.96e-05  -2.5 1.88e-01    -  1.00e+00 1.00e+00h  1\n",
      "   7  1.0000000e+00 8.82e-03 1.24e-05  -2.5 9.41e-02    -  1.00e+00 1.00e+00h  1\n",
      "   8  1.0000000e+00 2.20e-03 3.10e-06  -3.8 4.70e-02    -  1.00e+00 1.00e+00h  1\n",
      "   9  1.0000000e+00 5.51e-04 7.74e-07  -3.8 2.35e-02    -  1.00e+00 1.00e+00h  1\n",
      "iter    objective    inf_pr   inf_du lg(mu)  ||d||  lg(rg) alpha_du alpha_pr  ls\n",
      "  10  1.0000000e+00 1.38e-04 1.94e-07  -5.7 1.18e-02    -  1.00e+00 1.00e+00h  1\n",
      "  11  1.0000000e+00 3.45e-05 4.84e-08  -5.7 5.88e-03    -  1.00e+00 1.00e+00h  1\n",
      "  12  1.0000000e+00 8.61e-06 1.21e-08  -5.7 2.94e-03    -  1.00e+00 1.00e+00h  1\n",
      "  13  1.0000000e+00 2.15e-06 3.02e-09  -8.6 1.47e-03    -  1.00e+00 1.00e+00h  1\n",
      "  14  1.0000000e+00 5.38e-07 7.56e-10  -8.6 7.35e-04    -  1.00e+00 1.00e+00h  1\n",
      "  15  1.0000000e+00 1.35e-07 1.89e-10  -8.6 3.67e-04    -  1.00e+00 1.00e+00h  1\n",
      "  16  1.0000000e+00 3.36e-08 4.73e-11  -8.6 1.84e-04    -  1.00e+00 1.00e+00h  1\n",
      "  17  1.0000000e+00 8.41e-09 1.18e-11  -8.6 9.19e-05    -  1.00e+00 1.00e+00h  1\n",
      "\n",
      "Number of Iterations....: 17\n",
      "\n",
      "                                   (scaled)                 (unscaled)\n",
      "Objective...............:   1.0000000000000000e+00    1.0000000000000000e+00\n",
      "Dual infeasibility......:   1.1815139891865322e-11    1.1815139891865322e-11\n",
      "Constraint violation....:   8.4114327569828617e-09    8.4114327569828617e-09\n",
      "Complementarity.........:   0.0000000000000000e+00    0.0000000000000000e+00\n",
      "Overall NLP error.......:   8.4114327569828617e-09    8.4114327569828617e-09\n",
      "\n",
      "\n",
      "Number of objective function evaluations             = 30\n",
      "Number of objective gradient evaluations             = 18\n",
      "Number of equality constraint evaluations            = 31\n",
      "Number of inequality constraint evaluations          = 0\n",
      "Number of equality constraint Jacobian evaluations   = 18\n",
      "Number of inequality constraint Jacobian evaluations = 0\n",
      "Number of Lagrangian Hessian evaluations             = 17\n",
      "Total CPU secs in IPOPT (w/o function evaluations)   =      0.012\n",
      "Total CPU secs in NLP function evaluations           =      0.001\n",
      "\n",
      "EXIT: Optimal Solution Found.\n"
     ]
    },
    {
     "data": {
      "text/plain": [
       "{'Problem': [{'Lower bound': -inf, 'Upper bound': inf, 'Number of objectives': 1, 'Number of constraints': 320, 'Number of variables': 322, 'Sense': 'unknown'}], 'Solver': [{'Status': 'ok', 'Message': 'Ipopt 3.13.2\\\\x3a Optimal Solution Found', 'Termination condition': 'optimal', 'Id': 0, 'Error rc': 0, 'Time': 0.03801298141479492}], 'Solution': [OrderedDict([('number of solutions', 0), ('number of solutions displayed', 0)])]}"
      ]
     },
     "execution_count": 9,
     "metadata": {},
     "output_type": "execute_result"
    }
   ],
   "source": [
    "# solve the discretized model\n",
    "solver = SolverFactory('ipopt')\n",
    "solver.options['max_iter'] = 300\n",
    "solver.solve(index1_take_two,tee=True)"
   ]
  },
  {
   "cell_type": "markdown",
   "metadata": {},
   "source": [
    "Take away: There is something strange with formulation 3 that is causing the numeric integrator to fail. We can still solve this problem after discretizing."
   ]
  },
  {
   "cell_type": "markdown",
   "metadata": {
    "nbpages": {
     "level": 3,
     "link": "[2.4.3.4 Formulation 4: Index-1 DAE Model](https://ndcbe.github.io/CBE60499/02.04-DAE-modeling.html#2.4.3.4-Formulation-4:-Index-1-DAE-Model)",
     "section": "2.4.3.4 Formulation 4: Index-1 DAE Model"
    }
   },
   "source": [
    "### Formulation 4: Index-1 DAE Model\n",
    "\n",
    "$$\\begin{align}\n",
    "\\frac{d x}{dt} &= u \\\\\n",
    "\\frac{d y}{dt} &= v \\\\\n",
    "\\frac{d u}{dt} &= -T x \\\\\n",
    "\\frac{d v}{dt} &= g - Ty \\\\\n",
    "0 &= (u^2 + v^2) - T (x^2 + y^2) + g y\n",
    "\\end{align}$$\n",
    "\n",
    "Consistent initial conditions:\n",
    "1. Specify $x(0)$, $u(0)$, $y(0)$, and $v(0)$.\n",
    "2. Solve for $T(0)$"
   ]
  },
  {
   "cell_type": "code",
   "execution_count": 10,
   "metadata": {
    "nbpages": {
     "level": 3,
     "link": "[2.4.3.4 Formulation 4: Index-1 DAE Model](https://ndcbe.github.io/CBE60499/02.04-DAE-modeling.html#2.4.3.4-Formulation-4:-Index-1-DAE-Model)",
     "section": "2.4.3.4 Formulation 4: Index-1 DAE Model"
    }
   },
   "outputs": [],
   "source": [
    "def create_model_index1_b():\n",
    "\n",
    "    m = ConcreteModel()\n",
    "    \n",
    "    # Declare time\n",
    "    m.t = ContinuousSet(bounds=(0.0, 5))\n",
    "\n",
    "    # Declare parameter - acceleration due to gravity\n",
    "    m.g = Param(initialize=9.81) # m/s^2\n",
    "\n",
    "    # Declare variables indexed over time\n",
    "    m.x = Var(m.t) # horizontal position\n",
    "    m.y = Var(m.t) # vertical position\n",
    "    m.u = Var(m.t) # horizontal velocity\n",
    "    m.v = Var(m.t) # vertical velocity\n",
    "    m.T = Var(m.t) # tension\n",
    "\n",
    "    # Declare derivative variables\n",
    "    m.dx = DerivativeVar(m.x) # with respect to t is implied\n",
    "    m.dy = DerivativeVar(m.y)\n",
    "    m.du = DerivativeVar(m.u)\n",
    "    m.dv = DerivativeVar(m.v)\n",
    "\n",
    "    # Declare differential equations\n",
    "    def _dx_eqn(m, t):\n",
    "        return m.dx[t] == m.u[t]\n",
    "    m.dx_eqn = Constraint(m.t, rule=_dx_eqn)\n",
    "\n",
    "    def _dy_eqn(m, t):\n",
    "        return m.dy[t] == m.v[t]\n",
    "    m.dy_eqn = Constraint(m.t, rule=_dy_eqn)\n",
    "\n",
    "    def _du_eqn(m, t):\n",
    "        return m.du[t] == -m.T[t]*m.x[t]\n",
    "    m.du_eqn = Constraint(m.t, rule=_du_eqn)\n",
    "\n",
    "    def _dv_eqn(m, t):\n",
    "        return m.dv[t] == m.g -m.T[t]*m.y[t]\n",
    "    m.dv_eqn = Constraint(m.t, rule=_dv_eqn)\n",
    "\n",
    "    def _alg_eqn3(m, t):\n",
    "        return m.u[t]**2 + m.v[t]**2 - m.T[t]*(m.x[t]**2 + m.y[t]**2) + m.g*m.y[t] == 0\n",
    "    m.alg_eqn3 = Constraint(m.t, rule=_alg_eqn3)\n",
    "\n",
    "    # Specify initial conditions\n",
    "    m.x[0] = 0\n",
    "    m.y[0] = 1\n",
    "    m.u[0] = 1\n",
    "    m.v[0] = 0\n",
    "    m.T[0] = 1 + m.g\n",
    "    \n",
    "    return m"
   ]
  },
  {
   "cell_type": "code",
   "execution_count": 11,
   "metadata": {
    "nbpages": {
     "level": 3,
     "link": "[2.4.3.4 Formulation 4: Index-1 DAE Model](https://ndcbe.github.io/CBE60499/02.04-DAE-modeling.html#2.4.3.4-Formulation-4:-Index-1-DAE-Model)",
     "section": "2.4.3.4 Formulation 4: Index-1 DAE Model"
    }
   },
   "outputs": [
    {
     "name": "stdout",
     "output_type": "stream",
     "text": [
      "FORWARD INTEGRATION:\n",
      "Number of steps taken by SUNDIALS: 379\n",
      "Number of calls to the user’s f function: 485\n",
      "Number of calls made to the linear solver setup function: 31\n",
      "Number of error test failures: 3\n",
      "Method order used on the last internal step: 5\n",
      "Method order to be used on the next internal step: 5\n",
      "Actual value of initial step size: 7.90569e-09\n",
      "Step size taken on the last internal step: 0.0120796\n",
      "Step size to be attempted on the next internal step: 0.0120796\n",
      "Current internal time reached: 0.0120796\n",
      "Number of nonlinear iterations performed: 483\n",
      "Number of nonlinear convergence failures: 0\n",
      "\n"
     ]
    },
    {
     "data": {
      "image/png": "[encoded data removed]",
      "text/plain": [
       "<Figure size 640x480 with 1 Axes>"
      ]
     },
     "metadata": {},
     "output_type": "display_data"
    },
    {
     "data": {
      "image/png": "[encoded data removed]",
      "text/plain": [
       "<Figure size 640x480 with 1 Axes>"
      ]
     },
     "metadata": {},
     "output_type": "display_data"
    }
   ],
   "source": [
    "index1_b = create_model_index1_b()\n",
    "\n",
    "# Specify integrator options\n",
    "int_ops = {'print_stats':True,\"abstol\":1E-8,\"reltol\":1E-6}\n",
    "\n",
    "# Solve DAEs\n",
    "sim = Simulator(index1_b, package='casadi')\n",
    "tsim, profiles = sim.simulate(numpoints=100, integrator='idas',integrator_options=int_ops)\n",
    "\n",
    "# Plot solution\n",
    "plot_results(sim, tsim, profiles)"
   ]
  },
  {
   "cell_type": "markdown",
   "metadata": {
    "nbpages": {
     "level": 2,
     "link": "[2.4.4 Take Away Messages](https://ndcbe.github.io/CBE60499/02.04-DAE-modeling.html#2.4.4-Take-Away-Messages)",
     "section": "2.4.4 Take Away Messages"
    }
   },
   "source": [
    "## 2.4.4 Take Away Messages\n",
    "1. Differential algebriac equations (DAEs) are really powerful modeling tools.\n",
    "2. Integrating DAEs requires special care. Make sure your model is index 1.\n",
    "3. Often there are many ways to reformulate the DAE model. But the numeric integrator only enforces error tolerances on the equations that are explicitly modeled. If an algebriac constraint must be satified to a specific tolerance, include it in the DAE model (as long as it is not high index!)."
   ]
  },
  {
   "cell_type": "code",
   "execution_count": null,
   "metadata": {},
   "outputs": [],
   "source": []
  }
 ],
 "metadata": {
  "kernelspec": {
   "display_name": "Python 3 (ipykernel)",
   "language": "python",
   "name": "python3"
  },
  "language_info": {
   "codemirror_mode": {
    "name": "ipython",
    "version": 3
   },
   "file_extension": ".py",
   "mimetype": "text/x-python",
   "name": "python",
   "nbconvert_exporter": "python",
   "pygments_lexer": "ipython3",
   "version": "3.10.8"
  },
  "vscode": {
   "interpreter": {
    "hash": "31f2aee4e71d21fbe5cf8b01ff0e069b9275f58929596ceb00d14d90e3e16cd6"
   }
  }
 },
 "nbformat": 4,
 "nbformat_minor": 4
}
