{
  "nbformat": 4,
  "nbformat_minor": 0,
  "metadata": {
    "colab": {
      "provenance": [],
      "collapsed_sections": [
        "KiyIg2gl-6QV",
        "GHMeIa-YhCdC"
      ]
    },
    "kernelspec": {
      "name": "python3",
      "display_name": "Python 3"
    },
    "language_info": {
      "name": "python"
    }
  },
  "cells": [
    {
      "cell_type": "markdown",
      "source": [
        "#Imports"
      ],
      "metadata": {
        "id": "rB65I0oGay4g"
      }
    },
    {
      "cell_type": "code",
      "source": [
        "# Imports\n",
        "import sys\n",
        "if \"google.colab\" in sys.modules:\n",
        "    !wget \"https://raw.githubusercontent.com/ndcbe/optimization/main/notebooks/helper.py\"\n",
        "    import helper\n",
        "    helper.easy_install()\n",
        "else:\n",
        "    sys.path.insert(0, '../')\n",
        "    import helper\n",
        "helper.set_plotting_style()"
      ],
      "metadata": {
        "colab": {
          "base_uri": "https://localhost:8080/"
        },
        "id": "8fXRj3X_PaCT",
        "outputId": "890e03ae-5bb7-4780-d66c-1bffece767c8"
      },
      "execution_count": 1,
      "outputs": [
        {
          "output_type": "stream",
          "name": "stdout",
          "text": [
            "--2024-12-14 17:41:31--  https://raw.githubusercontent.com/ndcbe/optimization/main/notebooks/helper.py\n",
            "Resolving raw.githubusercontent.com (raw.githubusercontent.com)... 185.199.108.133, 185.199.109.133, 185.199.110.133, ...\n",
            "Connecting to raw.githubusercontent.com (raw.githubusercontent.com)|185.199.108.133|:443... connected.\n",
            "HTTP request sent, awaiting response... 200 OK\n",
            "Length: 6493 (6.3K) [text/plain]\n",
            "Saving to: ‘helper.py.11’\n",
            "\n",
            "\rhelper.py.11          0%[                    ]       0  --.-KB/s               \rhelper.py.11        100%[===================>]   6.34K  --.-KB/s    in 0s      \n",
            "\n",
            "2024-12-14 17:41:31 (64.4 MB/s) - ‘helper.py.11’ saved [6493/6493]\n",
            "\n",
            "idaes was found! No need to install.\n"
          ]
        }
      ]
    },
    {
      "cell_type": "code",
      "source": [
        "from pyomo.environ import (\n",
        "    ConcreteModel, Var, Objective, ConstraintList, summation, NonNegativeReals, minimize\n",
        ")\n",
        "from pyomo.core.base.numvalue import value\n",
        "from pyomo.common.collections import ComponentMap\n",
        "import numpy as np\n",
        "from itertools import product,combinations,combinations_with_replacement\n",
        "import numpy as np\n",
        "from pyomo.environ import *\n",
        "import pandas as pd\n",
        "import matplotlib.pyplot as plt\n"
      ],
      "metadata": {
        "id": "GoQ8jdlkCyF5",
        "colab": {
          "base_uri": "https://localhost:8080/",
          "height": 344
        },
        "outputId": "96d03e46-9ffc-426e-ac01-f98e98540e48"
      },
      "execution_count": 49,
      "outputs": [
        {
          "output_type": "error",
          "ename": "ModuleNotFoundError",
          "evalue": "No module named 'Tasmanian'",
          "traceback": [
            "\u001b[0;31m---------------------------------------------------------------------------\u001b[0m",
            "\u001b[0;31mModuleNotFoundError\u001b[0m                       Traceback (most recent call last)",
            "\u001b[0;32m<ipython-input-49-96e18f1fc139>\u001b[0m in \u001b[0;36m<cell line: 13>\u001b[0;34m()\u001b[0m\n\u001b[1;32m     11\u001b[0m \u001b[0;32mimport\u001b[0m \u001b[0mmatplotlib\u001b[0m\u001b[0;34m.\u001b[0m\u001b[0mpyplot\u001b[0m \u001b[0;32mas\u001b[0m \u001b[0mplt\u001b[0m\u001b[0;34m\u001b[0m\u001b[0;34m\u001b[0m\u001b[0m\n\u001b[1;32m     12\u001b[0m \u001b[0;34m\u001b[0m\u001b[0m\n\u001b[0;32m---> 13\u001b[0;31m \u001b[0;32mimport\u001b[0m \u001b[0mTasmanian\u001b[0m\u001b[0;34m\u001b[0m\u001b[0;34m\u001b[0m\u001b[0m\n\u001b[0m",
            "\u001b[0;31mModuleNotFoundError\u001b[0m: No module named 'Tasmanian'",
            "",
            "\u001b[0;31m---------------------------------------------------------------------------\u001b[0;32m\nNOTE: If your import is failing due to a missing package, you can\nmanually install dependencies using either !pip or !apt.\n\nTo view examples of installing some common dependencies, click the\n\"Open Examples\" button below.\n\u001b[0;31m---------------------------------------------------------------------------\u001b[0m\n"
          ],
          "errorDetails": {
            "actions": [
              {
                "action": "open_url",
                "actionText": "Open Examples",
                "url": "/notebooks/snippets/importing_libraries.ipynb"
              }
            ]
          }
        }
      ]
    },
    {
      "cell_type": "markdown",
      "source": [
        "#Expanding the Farming Example"
      ],
      "metadata": {
        "id": "rK8XXDr08RF1"
      }
    },
    {
      "cell_type": "markdown",
      "source": [
        "The farmer problem is a classic optimization challenge that highlights the complexities of resource allocation in agricultural decision-making. Traditionally, this problem assumes deterministic crop yields, allowing for straightforward mathematical modeling and solution using conventional methods. However, real-world agricultural systems are inherently subject to uncertainty, influenced by factors such as weather, soil quality, and other environmental conditions. These uncertainties necessitate a more sophisticated approach to accurately capture and address the variability in crop yields.\n",
        "\n",
        "In this project, we extend the traditional farmer problem by incorporating a stochastic framework where crop yields are modeled as random variables following a normal distribution. This extension introduces the need for efficient evaluation of high-dimensional integrals, which we address using advanced numerical techniques such as sparse grids and Gaussian quadrature. These methods allow for greater computational efficiency and precision in solving the problem.\n",
        "\n",
        "Additionally, we explore alternative modeling assumptions, including treating crop yields as independent random variables. This approach enables a richer representation of the problem as a continuous random vector, facilitating the formulation of a two-stage stochastic programming model. Through these expansions, our work seeks to bridge the gap between theoretical optimization models and the dynamic realities of agricultural decision-making.\n",
        "\n",
        "\n",
        "1.   **Background**: An overview of the farmer problem and its relevance\n",
        "2.   **Classic Example**: A detailed explanation of the classic farmer problem, including its mathematical formulation and solution using traditional methods.\n",
        "\n",
        "3. **Proposed Expansion**: We propose extending the problem to incorporate a stochastic framework where crop yields are modeled as random variables following a normal distribution, capturing the inherent variability due to environmental factors such as weather, soil conditions, and other uncertainties. This representation necessitates efficient evaluation of multi-dimensional integrals, for which we will explore advanced numerical techniques, including sparse grids and Gaussian quadrature, to achieve computational efficiency and precision in integration. Additionally, we aim to investigate alternative assumptions in the model, such as treating the yields of different crops as independent random variables. Under this assumption, yields can be represented as components of a continuous random vector, enabling the formulation of a two-stage stochastic programming model\n",
        "\n",
        "\n",
        "\n"
      ],
      "metadata": {
        "id": "2iSnCoGs8Clg"
      }
    },
    {
      "cell_type": "markdown",
      "source": [
        "#Background"
      ],
      "metadata": {
        "id": "i0pZN9s89LMP"
      }
    },
    {
      "cell_type": "markdown",
      "source": [
        "The classic farmer problem is a cornerstone example in applied mathematics and numerical analysis, showcasing the interplay between optimization, resource management, and decision making under constraints. At its core, the problem involves determining how to allocate finite resources to maximize outcomes like crop yield or profit, while meeting various constraints imposed by environmental, economic, and operational factors. These constraints often reflect real world complexities, such as limited water supply, variable soil conditions, or fluctuating market demands.\n",
        "\n",
        "While in its traditional deterministic form, the farmer problem has far-reaching implications, serving as a foundational model for more sophisticated studies in agricultural planning, resource optimization, and risk management. Its theoretical versatility has made it a powerful educational tool for introducing key concepts in optimization, such as linear programming, and numerical integration.\n",
        "\n",
        "However, the deterministic assumptions underlying the classic problem fall short of capturing the unpredictable realities faced by farmers. In practice, agricultural systems are subject to inherent uncertainties driven by dynamic and often uncontrollable factors. Crop yields, for example, are profoundly influenced by weather variability, soil health, pest outbreaks, and market volatility. These unpredictable elements create significant challenges, as farmers must navigate decision-making in environments characterized by incomplete or stochastic information.\n",
        "\n",
        "The growing need to address these uncertainties has propelled the development of stochastic extensions to the farmer problem. By introducing probabilistic models, researchers can account for the variability in key factors, offering more realistic and actionable insights for agricultural decision-making. Such extensions not only enhance the practical relevance of the model but also provide a platform for exploring advanced computational techniques, such as high-dimensional integration methods and stochastic programming.\n",
        "\n",
        "In this context, the farmer problem becomes a dynamic framework for bridging theoretical optimization with real-world agricultural challenges, paving the way for robust decision-making tools in the face of uncertainty.\n"
      ],
      "metadata": {
        "id": "WYXlVZnT8IPM"
      }
    },
    {
      "cell_type": "markdown",
      "source": [
        "#Classic Example"
      ],
      "metadata": {
        "id": "KiyIg2gl-6QV"
      }
    },
    {
      "cell_type": "markdown",
      "source": [
        "\n",
        "Using the [handout from the lecture](../../handouts/Farmers.pdf)\n",
        "\n",
        "Consider a European farmer who specializes in cultivating wheat, corn, and sugar beets on a 500-acre farm. During the winter, the farmer plans to decide how much land to allocate to each crop.\n",
        "\n",
        "The farmer knows that at least 200 tons (T) of wheat and 240 T of corn are required for cattle feed. These requirements can be met either through on-farm production or by purchasing from a wholesaler. Any surplus production beyond the feeding requirements can be sold. Over the past decade, the average selling prices have been 170 and 150 per ton for wheat and corn, respectively. However, purchasing these crops from a wholesaler incurs a 40% price premium due to transportation and margin costs.\n",
        "\n",
        "In addition to wheat and corn, sugar beet is another profitable crop. The farmer expects to sell sugar beets at 36 per ton. However, the European Commission imposes a production quota on sugar beets. Any yield exceeding the 6,000-ton quota can only be sold at a reduced price of 10 per ton.\n",
        "\n",
        "Based on historical data, the farmer estimates average yields of 2.5 T per acre for wheat, 3 T per acre for corn, and 20 T per acre for sugar beets.\n",
        "\n",
        "\n",
        "$$\n",
        "\\begin{align*}\n",
        "\\min \\quad & \\underbrace{150x_1 + 230x_2 + 260x_3}_{\\text{planting costs}} \\underbrace{+ 238y_1 - 170w_1}_{\\text{wheat purchases less sales}} \\\\\n",
        "       \t& \\underbrace{+ 210y_2 - 150w_2}_\\text{corn purchases less sales} ~\n",
        "\t\t\\underbrace{- 36w_3 - 10w_4}_{\\text{sugar beet sales}} \\\\\n",
        "\\text{s.t.} \\quad & x_1 + x_2 + x_3 \\leq 500, \\quad \\text{(plant up to 500 acres)} \\\\\n",
        "       \t& 2.5x_1 + y_1 - w_1 \\geq 200, \\quad \\text{(satisfy wheat demand)}\\\\\n",
        "       \t& 3x_2 + y_2 - w_2 \\geq 240, \\quad \\text{(satisfy corn demand)}\\\\\n",
        "       \t& w_3 + w_4 \\leq 20x_3, \\quad \\text{(beet sales cannot exceed production)}\\\\\n",
        "       \t& w_3 \\leq 6000, \\quad \\text{(cap beet sales at favorable price)}\\\\\n",
        "       \t& x_1, x_2, x_3, y_1, y_2, w_1, w_2, w_3, w_4 \\geq 0.\n",
        "\\end{align*}\n",
        "$$"
      ],
      "metadata": {
        "id": "omMtx-mgBIsV"
      }
    },
    {
      "cell_type": "code",
      "source": [
        "from pyomo.environ import (ConcreteModel, Var, NonNegativeReals, Objective, minimize, ConstraintList,\n",
        "                           summation, SolverFactory, value)\n",
        "\n",
        "### Create a function to build a pyomo model for the farmer's problem with crop yeilds as an input\n",
        "\n",
        "def build_model(yields):\n",
        "    '''\n",
        "    Code adapted from https://mpi-sppy.readthedocs.io/en/latest/examples.html#examples\n",
        "\n",
        "    Arguments:\n",
        "        yields: Yield information as a list, following the rank [wheat, corn, beets]\n",
        "\n",
        "    Return:\n",
        "        model: farmer problem model\n",
        "    '''\n",
        "    model = ConcreteModel()\n",
        "\n",
        "    # Define sets\n",
        "    all_crops = [\"WHEAT\", \"CORN\", \"BEETS\"]\n",
        "    purchase_crops = [\"WHEAT\", \"CORN\"]\n",
        "    sell_crops = [\"WHEAT\", \"CORN\", \"BEETS_FAVORABLE\", \"BEETS_UNFAVORABLE\"]\n",
        "\n",
        "    # Crops field allocation\n",
        "    model.X = Var(all_crops, within=NonNegativeReals)\n",
        "    # How many tons of crops to purchase\n",
        "    model.Y = Var(purchase_crops, within=NonNegativeReals)\n",
        "    # How many tons of crops to sell\n",
        "    model.W = Var(sell_crops,within=NonNegativeReals)\n",
        "\n",
        "    # Objective function\n",
        "    model.PLANTING_COST = 150 * model.X[\"WHEAT\"] + 230 * model.X[\"CORN\"] + 260 * model.X[\"BEETS\"]\n",
        "    model.PURCHASE_COST = 238 * model.Y[\"WHEAT\"] + 210 * model.Y[\"CORN\"]\n",
        "    model.SALES_REVENUE = (\n",
        "        170 * model.W[\"WHEAT\"] + 150 * model.W[\"CORN\"]\n",
        "        + 36 * model.W[\"BEETS_FAVORABLE\"] + 10 * model.W[\"BEETS_UNFAVORABLE\"]\n",
        "    )\n",
        "    # Maximize the Obj is to minimize the negative of the Obj\n",
        "    model.OBJ = Objective(\n",
        "        expr=model.PLANTING_COST + model.PURCHASE_COST - model.SALES_REVENUE,\n",
        "        sense=minimize\n",
        "    )\n",
        "\n",
        "    # Constraints\n",
        "    model.CONSTR= ConstraintList()\n",
        "\n",
        "    model.CONSTR.add(summation(model.X) <= 500)\n",
        "    model.CONSTR.add(\n",
        "        yields[0] * model.X[\"WHEAT\"] + model.Y[\"WHEAT\"] - model.W[\"WHEAT\"] >= 200\n",
        "    )\n",
        "    model.CONSTR.add(\n",
        "        yields[1] * model.X[\"CORN\"] + model.Y[\"CORN\"] - model.W[\"CORN\"] >= 240\n",
        "    )\n",
        "    model.CONSTR.add(\n",
        "        yields[2] * model.X[\"BEETS\"] - model.W[\"BEETS_FAVORABLE\"] - model.W[\"BEETS_UNFAVORABLE\"] >= 0\n",
        "    )\n",
        "    model.W[\"BEETS_FAVORABLE\"].setub(6000)\n",
        "\n",
        "    return model"
      ],
      "metadata": {
        "id": "Uec5YwRF9Mpu"
      },
      "execution_count": 3,
      "outputs": []
    },
    {
      "cell_type": "code",
      "source": [
        "#Solve the Optimimization Problem with Perfect yields\n",
        "yields_perfect = [2.5, 3, 20]\n",
        "model = build_model(yields_perfect)\n",
        "solver = SolverFactory(\"ipopt\")\n",
        "solver.solve(model)\n",
        "\n",
        "#Define a function for printing the optimal solution\n",
        "\n",
        "def print_opt_sol(model):\n",
        "    '''\n",
        "    Arguments:\n",
        "        model: solved farmer problem model\n",
        "\n",
        "    Return:\n",
        "        Prints the optimal solution\n",
        "    '''\n",
        "    print(\"===Optimal solutions based on perfect information===\")\n",
        "\n",
        "    print('Culture.         | ', 'Wheat |', 'Corn  |', 'Sugar Beets |')\n",
        "    print('Surface (acres)  | ', f'{value(model.X[\"WHEAT\"]):.1f}', '|',\n",
        "          f'{value(model.X[\"CORN\"]):.1f}', ' |',\n",
        "          f'{value(model.X[\"BEETS\"]):.1f}',' |')\n",
        "    print('Yield (T)        | ', f'{value(model.X[\"WHEAT\"])*yields_perfect[0]:.1f}', '|',\n",
        "          f'{value(model.X[\"CORN\"])*yields_perfect[1]:.1f}', '|',\n",
        "          f'{value(model.X[\"BEETS\"])*yields_perfect[2]:.1f}','|')\n",
        "    print('Sales (T)        | ', f'{value(model.W[\"WHEAT\"]):.1f}', '|',\n",
        "          f'{value(model.W[\"CORN\"]):.1f}', '  |',\n",
        "          f'{value(model.W[\"BEETS_FAVORABLE\"]) + value(model.W[\"BEETS_UNFAVORABLE\"]):.1f}','|')\n",
        "    print('Purchases (T)    | ', f'{value(model.Y[\"WHEAT\"]):.1f}', '  |',\n",
        "          f'{value(model.Y[\"CORN\"]):.1f}', '  |',\n",
        "          '-','     |')\n",
        "\n",
        "    profit = -value(model.OBJ)\n",
        "    print('Overall profit: $',f\"{profit:.1f}\")\n",
        "\n",
        "    return profit\n",
        "\n",
        "profit_perfect = print_opt_sol(model)\n"
      ],
      "metadata": {
        "colab": {
          "base_uri": "https://localhost:8080/"
        },
        "id": "z9KJGHazC33i",
        "outputId": "7df7d190-34d9-4a8c-8876-e3ee010a7c35"
      },
      "execution_count": 4,
      "outputs": [
        {
          "output_type": "stream",
          "name": "stdout",
          "text": [
            "===Optimal solutions based on perfect information===\n",
            "Culture.         |  Wheat | Corn  | Sugar Beets |\n",
            "Surface (acres)  |  120.0 | 80.0  | 300.0  |\n",
            "Yield (T)        |  300.0 | 240.0 | 6000.0 |\n",
            "Sales (T)        |  100.0 | 0.0   | 6000.0 |\n",
            "Purchases (T)    |  0.0   | 0.0   | -      |\n",
            "Overall profit: $ 118600.0\n"
          ]
        }
      ]
    },
    {
      "cell_type": "markdown",
      "source": [
        "The solution is straightforward and can be summarized as follows:\n",
        "\n",
        "\n",
        "\n",
        "\n",
        "1.   **Prioritize Sugar Beets**: Allocate enough land to sugar beet cultivation to produce exactly 6,000 tons, meeting the quota imposed by the European Commission. This ensures the farmer maximizes profits from sugar beet sales at the higher price.\n",
        "2.   **Meet Feeding Requirements**: Dedicate sufficient land to wheat and corn to fulfill the minimum feeding requirements of 200 tons and 240 tons, respectively. This ensures the cattle feed needs are covered without incurring the added expense of purchasing from a wholesaler.\n",
        "3.  **Optimize Remaining Land**: Use any remaining acreage for wheat production. This is the most profitable option for utilizing the leftover land, as surplus wheat can be sold at a competitive price.\n",
        "By following this strategy, the farmer maximizes the efficiency of land use while adhering to the constraints and optimizing profits."
      ],
      "metadata": {
        "id": "N5br177GC-jj"
      }
    },
    {
      "cell_type": "markdown",
      "source": [
        "#Proposed Expansion"
      ],
      "metadata": {
        "id": "hirK13qG_Fbt"
      }
    },
    {
      "cell_type": "markdown",
      "source": [
        "We aim to enhance this project by addressing the inherent uncertainty in crop yields more comprehensively, empowering farmers to make more robust and realistic decisions. To capture this uncertainty, we model crop yields as random variables following a normal distribution, reflecting variability driven by factors such as weather, soil conditions, and other environmental influences. This stochastic representation introduces the need to evaluate multi-dimensional integrals, as yield variability impacts optimization decisions across multiple crops and constraints.\n",
        "\n",
        "To efficiently compute these integrals, we utilize two advanced numerical techniques: full grids and sparse grids, both of which leverage Gaussian quadrature to achieve high-accuracy integration. Expanding the project would allow us to explore different modeling approaches, further optimize computational efficiency, and develop scalable solutions for a wider range of agricultural applications under uncertainty.\n",
        "\n",
        "An alternate approach involves assuming that crop yields across different crops are independent, allowing us to represent them as components of a continuous random vector. Under this formulation, land allocation decisions are treated as first-stage decisions—determined before yields are known. The optimization problem can then be structured using a two-stage stochastic programming framework, with the second stage capturing adjustments based on observed outcomes. Mathematically, the objective is expressed as:\n",
        "$$\\begin{equation}\n",
        "\\min_x \\quad c^T x + E_{\\xi}Q(x,\\xi),\n",
        "\\end{equation}$$\n",
        "where $c$ is the cost of initial planting, and $\\xi = (\\xi_1,\\xi_2,\\xi_3)$ is the scenario.\n",
        "\n",
        "To solve this stochastic optimization problem efficiently, we employ Sample Average Approximation (SAA), a widely used statistical method in stochastic programming. SAA replaces the expected value in the stochastic objective function,$ E_{\\xi}Q(x,\\xi),$ with a sample average computed from a finite set of scenarios. This transforms the stochastic problem into a deterministic one, which is more tractable.\n",
        "\n",
        "Looking ahead, we plan to extend the project by assuming that it is  a constraint convex problem, which is related to the second part of this class\n",
        "  "
      ],
      "metadata": {
        "id": "qN59v8luEYtP"
      }
    },
    {
      "cell_type": "markdown",
      "source": [
        "## Numerical Back Ground"
      ],
      "metadata": {
        "id": "GHMeIa-YhCdC"
      }
    },
    {
      "cell_type": "markdown",
      "source": [
        "**Full grid**\n",
        "\n",
        "Full grid methods are a classical approach to numerical integration, where the computational domain is discretized into a Cartesian product of points. For each dimension, a predetermined set of quadrature points is used, with Gaussian quadrature being a particularly efficient choice. Gaussian quadrature selects points and weights to maximize the accuracy of integration for polynomial functions up to a certain degree, reducing the error significantly compared to simple methods like midpoint or trapezoidal rules.\n",
        "For one-dimensional integration, Gaussian quadrature efficiently computes:\n",
        "$$ \\int^b_a f(x)dx ≈ \\sum^n_{i=1} w_i f(x_i) $$\n",
        "\n",
        "where $x_i$ are the quadrature points and $w_i$ are the corresponding weights. When extended to d-dimensional problems, the full grid method involves the Cartesian product of these quadrature points across all dimensions. While highly accurate, the number of points required grows exponentially with the number of dimensions, leading to what is known as the curse of dimensionality.Specifically, the total number of points for d dimensions and\n",
        "n quadrature points per dimension is $n^d$\n",
        " , making this approach computationally infeasible for high-dimensional problems.\n",
        "\n",
        " **Sparse Grid**\n",
        "\n",
        " Sparse grids address the limitations of full grids by significantly reducing the number of points while maintaining comparable accuracy. The key idea is to focus on the most \"informative\" points in the integration domain, based on the hierarchical structure of the quadrature. Sparse grids achieve this by combining lower-dimensional full grids in a systematic way, effectively excluding redundant points.\n",
        "\n",
        "The foundation of sparse grids lies in the Smolyak algorithm, which constructs a sparse grid approximation for a d-dimensional integral as:\n",
        "$$ \\int_{[a,b]^d} f(x)dx ≈ \\sum_{|i|<m} c_i \\prod^d_{k=1} \\int^{b_k}_{a_k} f(x_k)dx_k $$\n",
        "where $c_i$  are coefficients determined by the hierarchical structure. By selectively including quadrature points based on their contribution to the approximation accuracy, sparse grids avoid the exponential growth in points observed with full grids.One of the primary advantages of sparse grids is their efficiency in handling high-dimensional integrals.  However, sparse grids may exhibit slightly higher errors for functions with highly localized or non-smooth behavior due to the reduced number of points."
      ],
      "metadata": {
        "id": "Pc1MovB6_RF7"
      }
    },
    {
      "cell_type": "markdown",
      "source": [
        "## Full Grid"
      ],
      "metadata": {
        "id": "Z1H_EMVKas85"
      }
    },
    {
      "cell_type": "markdown",
      "source": [
        "Unlike the classical deterministic farmer problem, where crop yields are assumed to be known with certainty, real-world scenarios often involve significant uncertainty. In this model, we account for this uncertainty by assuming that the yields of crops (WHEAT, CORN, and BEETS) follow a normal distribution characterized by a mean and standard deviation. By incorporating stochastic yields, we can create a more robust and realistic decision-making framework.\n",
        "\n",
        "To solve this problem, we employ a Full Grid Method using Gaussian quadrature to approximate the random variables. Gaussian quadrature allows us to efficiently represent the uncertainty in yields by selecting representative points (quadrature points) and associated weights, which capture the variability and likelihood of different yield outcomes. These points are combined to create scenarios that represent all possible combinations of crop yields, and scenario weights are calculated to reflect their probabilities.\n",
        "\n",
        "This approach ensures that the model captures the complexity and uncertainty of agricultural planning while leveraging stochastic programming techniques to optimize planting decisions, purchasing strategies, and sales, given the variability in crop yields."
      ],
      "metadata": {
        "id": "Caj0Ompdab3P"
      }
    },
    {
      "cell_type": "markdown",
      "source": [
        "The choice to model crop yields with a normal distribution is grounded in practical and theoretical considerations. Crop yields are influenced by a multitude of factors, such as weather, soil quality, and pest outbreaks, many of which exhibit random variation around a central tendency. Using a normal distribution to represent these uncertainties provides several advantages:\n",
        "\n",
        "\n",
        "1.  Central Limit Theorem (CLT): The CLT suggests that when many independent random variables (e.g., weather patterns, soil conditions) contribute to an outcome like crop yield, the aggregate distribution of that outcome often approximates a normal distribution. This makes the normal distribution a reasonable model for yields.\n",
        "2.   Simplicity and Analytical Convenience:\n",
        "The normal distribution is well understood and widely used in stochastic modeling\n",
        "\n",
        "3. Tools like Gaussian quadrature can efficiently approximate expected values under normality, as was applied here using Hermite polynomials to generate points and weights.\n",
        "\n",
        "4. Practicality: Many agricultural studies and datasets report crop yields in terms of means and standard deviations, aligning naturally with normal distribution assumptions."
      ],
      "metadata": {
        "id": "f5XjUfbccM2R"
      }
    },
    {
      "cell_type": "markdown",
      "source": [
        "**Reformation**\n",
        "By incorporating uncertainty into the optimization model, the problem evolves from a deterministic planning task into a stochastic optimization problem. Here is how this transformation occurs and why it is significant:\n",
        "\n",
        "\n",
        "1.   Scenarios Representing Uncertainty:\n",
        "Each scenario in the model represents a possible realization of crop yields, determined by sampling from the normal distribution using Gaussian quadrature.\n",
        "2.   Expected Value Objective:\n",
        "The objective function minimizes the expected cost (planting and purchasing) minus the expected revenue (crop sales). This accounts for both the likelihood of each scenario (weights) and its economic impact, ensuring robust decision-making under uncertainty.\n",
        "\n",
        "3. Constraints are formulated for each scenario, linking the stochastic yields to decision variables (e.g., land allocation, crop purchases, and sales).\n",
        "\n"
      ],
      "metadata": {
        "id": "KJDmly2Qci2R"
      }
    },
    {
      "cell_type": "code",
      "execution_count": 74,
      "metadata": {
        "id": "Vl_6-7C77vNu"
      },
      "outputs": [],
      "source": [
        "\n",
        "\n",
        "def build_model():\n",
        "    model = ConcreteModel()\n",
        "\n",
        "    # Define sets\n",
        "    all_crops = [\"WHEAT\", \"CORN\", \"BEETS\"]\n",
        "    purchase_crops = [\"WHEAT\", \"CORN\"]\n",
        "    sell_crops = [\"WHEAT\", \"CORN\", \"BEETS_FAVORABLE\", \"BEETS_UNFAVORABLE\"]\n",
        "\n",
        "    # Define random variables (mean and standard deviation for yields)\n",
        "    yield_means = {\"WHEAT\": 3.0, \"CORN\": 3.6, \"BEETS\": 20.0}  # Mean yields\n",
        "    yield_stds = {\"WHEAT\": 0.5, \"CORN\": 0.4, \"BEETS\": 3.0}    # Standard deviations\n",
        "\n",
        "    # Use Gaussian quadrature points and weights\n",
        "    gauss_points, gauss_weights = {}, {}\n",
        "    num_points = 3  # Number of points for quadrature\n",
        "    for crop in all_crops:\n",
        "        points, weights = np.polynomial.hermite.hermgauss(num_points)\n",
        "        gauss_points[crop] = points * np.sqrt(2) * yield_stds[crop] + yield_means[crop]\n",
        "        gauss_weights[crop] = weights / np.sqrt(np.pi)\n",
        "\n",
        "    # Generate scenarios (Full Grid using product of points)\n",
        "    scenarios = list(product(*[gauss_points[crop] for crop in all_crops]))\n",
        "    scenario_weights = list(product(*[gauss_weights[crop] for crop in all_crops]))\n",
        "    scenario_weights = [np.prod(weights) for weights in scenario_weights]\n",
        "\n",
        "    # Define variables\n",
        "    model.X = Var(all_crops, within=NonNegativeReals)  # Crops field allocation\n",
        "    model.Y = Var(purchase_crops, within=NonNegativeReals)  # Tons of crops to purchase\n",
        "    model.W = Var(sell_crops, within=NonNegativeReals)  # Tons of crops to sell\n",
        "\n",
        "    # Placeholder for scenario-based costs and revenues\n",
        "    model.ScenarioCosts = ComponentMap()\n",
        "    model.ScenarioRevenues = ComponentMap()\n",
        "\n",
        "    # Constraints for each scenario\n",
        "    model.CONSTR = ConstraintList()\n",
        "    for idx, scenario in enumerate(scenarios):\n",
        "        scenario_yields = {crop: scenario[i] for i, crop in enumerate(all_crops)}\n",
        "        scenario_weight = scenario_weights[idx]\n",
        "\n",
        "        # Calculate costs and revenues for this scenario\n",
        "        planting_cost = (\n",
        "            150 * model.X[\"WHEAT\"] + 230 * model.X[\"CORN\"] + 260 * model.X[\"BEETS\"]\n",
        "        )\n",
        "        purchase_cost = 238 * model.Y[\"WHEAT\"] + 210 * model.Y[\"CORN\"]\n",
        "        sales_revenue = (\n",
        "            170 * model.W[\"WHEAT\"] + 150 * model.W[\"CORN\"]\n",
        "            + 36 * model.W[\"BEETS_FAVORABLE\"] + 10 * model.W[\"BEETS_UNFAVORABLE\"]\n",
        "        )\n",
        "\n",
        "        # Store scenario contributions\n",
        "        model.ScenarioCosts[idx] = scenario_weight * (planting_cost + purchase_cost)\n",
        "        model.ScenarioRevenues[idx] = scenario_weight * sales_revenue\n",
        "\n",
        "        # Add constraints for this scenario\n",
        "        model.CONSTR.add(summation(model.X) <= 500)\n",
        "        model.CONSTR.add(\n",
        "            scenario_yields[\"WHEAT\"] * model.X[\"WHEAT\"] + model.Y[\"WHEAT\"] - model.W[\"WHEAT\"] >= 200\n",
        "        )\n",
        "        model.CONSTR.add(\n",
        "            scenario_yields[\"CORN\"] * model.X[\"CORN\"] + model.Y[\"CORN\"] - model.W[\"CORN\"] >= 240\n",
        "        )\n",
        "        model.CONSTR.add(\n",
        "            scenario_yields[\"BEETS\"] * model.X[\"BEETS\"] - model.W[\"BEETS_FAVORABLE\"] - model.W[\"BEETS_UNFAVORABLE\"] >= 0\n",
        "        )\n",
        "\n",
        "    # Set upper bound for BEETS_FAVORABLE\n",
        "    model.W[\"BEETS_FAVORABLE\"].setub(6000)\n",
        "\n",
        "    # Objective function: Weighted expected cost minus revenue\n",
        "    model.OBJ = Objective(\n",
        "        expr=sum(model.ScenarioCosts[idx] - model.ScenarioRevenues[idx] for idx in range(len(scenarios))),\n",
        "        sense=minimize\n",
        "    )\n",
        "\n",
        "    return model\n"
      ]
    },
    {
      "cell_type": "code",
      "source": [
        "model = build_model()\n",
        "solver = SolverFactory(\"ipopt\")\n",
        "solver.solve(model)\n",
        "def print_opt_sol(model):\n",
        "\n",
        "    print(\"=== Optimal solutions ===\")\n",
        "    print()\n",
        "\n",
        "    # Table header\n",
        "    print(\"{:<15} | {:>8} | {:>8} | {:>12}\".format(\"Culture\", \"Wheat\", \"Corn\", \"Sugar Beets\"))\n",
        "    print(\"-\" * 50)\n",
        "\n",
        "    # Surface (acres)\n",
        "    print(\"{:<15} | {:>8.1f} | {:>8.1f} | {:>12.1f}\".format(\n",
        "        \"Surface (acres)\",\n",
        "        value(model.X[\"WHEAT\"]),\n",
        "        value(model.X[\"CORN\"]),\n",
        "        value(model.X[\"BEETS\"])\n",
        "    ))\n",
        "\n",
        "    # Yield (T)\n",
        "    print(\"{:<15} | {:>8.1f} | {:>8.1f} | {:>12.1f}\".format(\n",
        "        \"Yield (T)\",\n",
        "        value(model.X[\"WHEAT\"]) * yields_perfect[0],\n",
        "        value(model.X[\"CORN\"]) * yields_perfect[1],\n",
        "        value(model.X[\"BEETS\"]) * yields_perfect[2]\n",
        "    ))\n",
        "\n",
        "    # Sales (T)\n",
        "    print(\"{:<15} | {:>8.1f} | {:>8.1f} | {:>12.1f}\".format(\n",
        "        \"Sales (T)\",\n",
        "        value(model.W[\"WHEAT\"]),\n",
        "        value(model.W[\"CORN\"]),\n",
        "        value(model.W[\"BEETS_FAVORABLE\"]) + value(model.W[\"BEETS_UNFAVORABLE\"])\n",
        "    ))\n",
        "\n",
        "    # Purchases (T)\n",
        "    print(\"{:<15} | {:>8.1f} | {:>8.1f} | {:>12}\".format(\n",
        "        \"Purchases (T)\",\n",
        "        value(model.Y[\"WHEAT\"]),\n",
        "        value(model.Y[\"CORN\"]),\n",
        "        \"-\"\n",
        "    ))\n",
        "\n",
        "    print(\"-\" * 50)\n",
        "\n",
        "    # Profit\n",
        "    profit = -value(model.OBJ)\n",
        "    print(\"{:<15} {}\".format(\"Overall profit:\", f\"${profit:.1f}\"))\n",
        "\n",
        "    return profit\n",
        "\n",
        "profit_perfect = print_opt_sol(model)\n"
      ],
      "metadata": {
        "colab": {
          "base_uri": "https://localhost:8080/"
        },
        "id": "bERP8vsUGO1p",
        "outputId": "e299fa44-0334-4673-f2de-38d1168b4130"
      },
      "execution_count": 75,
      "outputs": [
        {
          "output_type": "stream",
          "name": "stdout",
          "text": [
            "=== Optimal solutions ===\n",
            "\n",
            "Culture         |    Wheat |     Corn |  Sugar Beets\n",
            "--------------------------------------------------\n",
            "Surface (acres) |     93.7 |     82.6 |        323.7\n",
            "Yield (T)       |    234.3 |    247.7 |       6474.5\n",
            "Sales (T)       |      0.0 |      0.0 |       4792.4\n",
            "Purchases (T)   |      0.0 |      0.0 |            -\n",
            "--------------------------------------------------\n",
            "Overall profit: $55311.0\n"
          ]
        }
      ]
    },
    {
      "cell_type": "markdown",
      "source": [
        " Out of the available land, 93.7 acres were allocated to wheat, 82.6 acres to corn, and 323.7 acres to sugar beets. This distribution indicates that sugar beets were identified as the most economically beneficial crop.\n",
        "\n",
        "The yield results support this prioritization. Wheat and corn produced 234.3 tons and 247.7 tons, respectively, while sugar beets yielded an impressive 6474.5 tons. Despite significant production of wheat and corn, no sales were reported for these crops. In contrast, 4792.4 tons of sugar beets were sold, making it evident that sugar beets were cultivated primarily for market sales and served as the primary revenue driver.\n",
        "\n",
        "\n",
        "The overall profit achieved through this plan was $55,311. Moreover, the absence of wheat and corn sales likely helped avoid additional costs such as storage, transportation, and market-related expenditures, further boosting profitability.\n",
        "\n",
        "In conclusion, the optimal plan demonstrates the importance of aligning crop selection with market dynamics and operational priorities. By prioritizing sugar beet production and focusing its sales efforts on the most profitable crop, the farm successfully maximized its profits while maintaining sustainability and resource efficiency"
      ],
      "metadata": {
        "id": "JlUuEPBhixkz"
      }
    },
    {
      "cell_type": "markdown",
      "source": [
        "## Sparse Grid"
      ],
      "metadata": {
        "id": "3nUVLq5XhMfS"
      }
    },
    {
      "cell_type": "markdown",
      "source": [
        "Unlike the classical deterministic farmer problem, where crop yields are assumed to be known with certainty, real-world scenarios often involve significant uncertainty. In this model, we address this uncertainty by assuming that the yields of crops (WHEAT, CORN, and BEETS) follow a normal distribution characterized by a mean and standard deviation. By incorporating stochastic yields, we can create a more robust and realistic decision-making framework.\n",
        "\n",
        "To solve this problem, we employ a Sparse Grid Method using Gaussian quadrature to approximate the random variables. The Sparse Grid Method builds on Gaussian quadrature by efficiently constructing a multidimensional grid that reduces the number of representative points (quadrature points) while maintaining accuracy. This approach strategically combines points from lower-dimensional grids to approximate the uncertainty in yields with fewer computational resources than a full grid.\n",
        "\n",
        "These quadrature points and their associated weights capture the variability and likelihood of different yield outcomes. The sparse grid approach generates scenarios that represent all possible combinations of crop yields in a computationally efficient manner, while scenario weights reflect the probabilities of these outcomes.\n",
        "\n",
        "By leveraging the Sparse Grid Method, the model captures the complexity and uncertainty of agricultural planning while optimizing planting decisions, purchasing strategies, and sales under stochastic programming principles, ensuring a practical yet rigorous framework for handling variability in crop yields."
      ],
      "metadata": {
        "id": "ixN7iJ8uiQuN"
      }
    },
    {
      "cell_type": "code",
      "source": [
        "def smolyak_sparse_grid(dimension, level, gauss_means, gauss_stds):\n",
        "    # Hermite-Gauss quadrature points and weights for each level\n",
        "    def hermite_points_weights(n):\n",
        "        points, weights = np.polynomial.hermite.hermgauss(n)\n",
        "        return points * np.sqrt(2), weights / np.sqrt(np.pi)\n",
        "\n",
        "    # Index combinations for Smolyak sparse grid\n",
        "    index_combinations = []\n",
        "    for q in range(level + 1):\n",
        "        for indices in combinations_with_replacement(range(1, level + 1), dimension):\n",
        "            if sum(indices) == q + dimension:\n",
        "                index_combinations.append(indices)\n",
        "\n",
        "    # Generate sparse grid points and weights\n",
        "    sparse_points = []\n",
        "    sparse_weights = []\n",
        "    for indices in index_combinations:\n",
        "        # Quadrature points and weights for this index combination\n",
        "        points_list = []\n",
        "        weights_list = []\n",
        "        for dim, idx in enumerate(indices):\n",
        "            points, weights = hermite_points_weights(idx)\n",
        "            # Transform points for Gaussian distribution\n",
        "            points = points * gauss_stds[dim] + gauss_means[dim]\n",
        "            points_list.append(points)\n",
        "            weights_list.append(weights)\n",
        "\n",
        "        # Generate full grid for this index combination\n",
        "        grid_points = product(*points_list)\n",
        "        grid_weights = product(*weights_list)\n",
        "\n",
        "        # Store points and weights, adjusting for Smolyak weights\n",
        "        for gp, gw in zip(grid_points, grid_weights):\n",
        "            sparse_points.append(gp)\n",
        "            sparse_weights.append(np.prod(gw))\n",
        "\n",
        "    return sparse_points, sparse_weights\n",
        "def build_model():\n",
        "    model = ConcreteModel()\n",
        "\n",
        "    # Define sets\n",
        "    all_crops = [\"WHEAT\", \"CORN\", \"BEETS\"]\n",
        "    purchase_crops = [\"WHEAT\", \"CORN\"]\n",
        "    sell_crops = [\"WHEAT\", \"CORN\", \"BEETS_FAVORABLE\", \"BEETS_UNFAVORABLE\"]\n",
        "\n",
        "    # Define random variables (mean and standard deviation for yields)\n",
        "    yield_means = {\"WHEAT\": 3.0, \"CORN\": 3.6, \"BEETS\": 20.0}  # Mean yields\n",
        "    yield_stds = {\"WHEAT\": 0.5, \"CORN\": 0.4, \"BEETS\": 3.0}\n",
        "\n",
        "    # Generate sparse grid points and weights\n",
        "    num_levels = 3\n",
        "    gauss_means = [yield_means[crop] for crop in all_crops]\n",
        "    gauss_stds = [yield_stds[crop] for crop in all_crops]\n",
        "\n",
        "    sparse_points, sparse_weights = smolyak_sparse_grid(len(all_crops), num_levels, gauss_means, gauss_stds)\n",
        "\n",
        "    # Define variables\n",
        "    model.X = Var(all_crops, within=NonNegativeReals)\n",
        "    model.Y = Var(purchase_crops, within=NonNegativeReals)\n",
        "    model.W = Var(sell_crops, within=NonNegativeReals)\n",
        "\n",
        "    # Placeholder for scenario-based costs and revenues\n",
        "    model.ScenarioCosts = ComponentMap()\n",
        "    model.ScenarioRevenues = ComponentMap()\n",
        "\n",
        "    # Constraints for each scenario\n",
        "    model.CONSTR = ConstraintList()\n",
        "    for idx, scenario in enumerate(sparse_points):\n",
        "        scenario_yields = {crop: scenario[i] for i, crop in enumerate(all_crops)}\n",
        "        scenario_weight = sparse_weights[idx]\n",
        "\n",
        "        # Calculate costs and revenues for this scenario\n",
        "        planting_cost = (\n",
        "            150 * model.X[\"WHEAT\"] + 230 * model.X[\"CORN\"] + 260 * model.X[\"BEETS\"]\n",
        "        )\n",
        "        purchase_cost = 238 * model.Y[\"WHEAT\"] + 210 * model.Y[\"CORN\"]\n",
        "        sales_revenue = (\n",
        "            170 * model.W[\"WHEAT\"] + 150 * model.W[\"CORN\"]\n",
        "            + 36 * model.W[\"BEETS_FAVORABLE\"] + 10 * model.W[\"BEETS_UNFAVORABLE\"]\n",
        "        )\n",
        "\n",
        "        # Store scenario contributions\n",
        "        model.ScenarioCosts[idx] = scenario_weight * (planting_cost + purchase_cost)\n",
        "        model.ScenarioRevenues[idx] = scenario_weight * sales_revenue\n",
        "\n",
        "        # Add constraints for this scenario\n",
        "        model.CONSTR.add(summation(model.X) <= 500)\n",
        "        model.CONSTR.add(\n",
        "            scenario_yields[\"WHEAT\"] * model.X[\"WHEAT\"] + model.Y[\"WHEAT\"] - model.W[\"WHEAT\"] >= 200\n",
        "        )\n",
        "        model.CONSTR.add(\n",
        "            scenario_yields[\"CORN\"] * model.X[\"CORN\"] + model.Y[\"CORN\"] - model.W[\"CORN\"] >= 240\n",
        "        )\n",
        "        model.CONSTR.add(\n",
        "            scenario_yields[\"BEETS\"] * model.X[\"BEETS\"] - model.W[\"BEETS_FAVORABLE\"] - model.W[\"BEETS_UNFAVORABLE\"] >= 0\n",
        "        )\n",
        "\n",
        "    # Set upper bound for BEETS_FAVORABLE\n",
        "    model.W[\"BEETS_FAVORABLE\"].setub(6000)\n",
        "\n",
        "    # Objective function: Weighted expected cost minus revenue\n",
        "    model.OBJ = Objective(\n",
        "        expr=sum(model.ScenarioCosts[idx] - model.ScenarioRevenues[idx] for idx in range(len(sparse_points))),\n",
        "        sense=minimize\n",
        "    )\n",
        "\n",
        "    return model\n"
      ],
      "metadata": {
        "id": "E2_IsfX0er6V"
      },
      "execution_count": 84,
      "outputs": []
    },
    {
      "cell_type": "code",
      "source": [
        "\n",
        "model = build_model()\n",
        "\n",
        "solver = SolverFactory(\"ipopt\")\n",
        "solver.solve(model)\n",
        "def print_opt_sol(model):\n",
        "    print(\"=== Optimal solutions ===\")\n",
        "    print()\n",
        "\n",
        "    # Table header\n",
        "    print(\"{:<15} | {:>8} | {:>8} | {:>12}\".format(\"Culture\", \"Wheat\", \"Corn\", \"Sugar Beets\"))\n",
        "    print(\"-\" * 50)\n",
        "\n",
        "    # Surface (acres)\n",
        "    print(\"{:<15} | {:>8.1f} | {:>8.1f} | {:>12.1f}\".format(\n",
        "        \"Surface (acres)\",\n",
        "        value(model.X[\"WHEAT\"]),\n",
        "        value(model.X[\"CORN\"]),\n",
        "        value(model.X[\"BEETS\"])\n",
        "    ))\n",
        "\n",
        "    # Yield (T)\n",
        "    print(\"{:<15} | {:>8.1f} | {:>8.1f} | {:>12.1f}\".format(\n",
        "        \"Yield (T)\",\n",
        "        value(model.X[\"WHEAT\"]) * yields_perfect[0],\n",
        "        value(model.X[\"CORN\"]) * yields_perfect[1],\n",
        "        value(model.X[\"BEETS\"]) * yields_perfect[2]\n",
        "    ))\n",
        "\n",
        "    # Sales (T)\n",
        "    print(\"{:<15} | {:>8.1f} | {:>8.1f} | {:>12.1f}\".format(\n",
        "        \"Sales (T)\",\n",
        "        value(model.W[\"WHEAT\"]),\n",
        "        value(model.W[\"CORN\"]),\n",
        "        value(model.W[\"BEETS_FAVORABLE\"]) + value(model.W[\"BEETS_UNFAVORABLE\"])\n",
        "    ))\n",
        "\n",
        "    # Purchases (T)\n",
        "    print(\"{:<15} | {:>8.1f} | {:>8.1f} | {:>12}\".format(\n",
        "        \"Purchases (T)\",\n",
        "        value(model.Y[\"WHEAT\"]),\n",
        "        value(model.Y[\"CORN\"]),\n",
        "        \"-\"\n",
        "    ))\n",
        "\n",
        "    print(\"-\" * 50)\n",
        "\n",
        "    # Profit\n",
        "    profit = -value(model.OBJ)\n",
        "    print(\"{:<15} {}\".format(\"Overall profit:\", f\"${profit:.1f}\"))\n",
        "\n",
        "    return profit\n",
        "\n",
        "profit_perfect = print_opt_sol(model)\n"
      ],
      "metadata": {
        "colab": {
          "base_uri": "https://localhost:8080/"
        },
        "id": "odmjynZpewnL",
        "outputId": "87d22d2c-a618-41ea-d75b-808282f605d5"
      },
      "execution_count": 85,
      "outputs": [
        {
          "output_type": "stream",
          "name": "stdout",
          "text": [
            "=== Optimal solutions ===\n",
            "\n",
            "Culture         |    Wheat |     Corn |  Sugar Beets\n",
            "--------------------------------------------------\n",
            "Surface (acres) |    425.0 |     75.0 |          0.0\n",
            "Yield (T)       |   1062.5 |    225.0 |          0.0\n",
            "Sales (T)       |    862.5 |      0.0 |          0.0\n",
            "Purchases (T)   |      0.0 |      0.0 |            -\n",
            "--------------------------------------------------\n",
            "Overall profit: $393750.0\n"
          ]
        }
      ]
    },
    {
      "cell_type": "markdown",
      "source": [
        "What we are seeing in the sparse grid solution:\n",
        "1. Heavily favoring Wheat:The sparse grid solution allocates to Wheat (out of a By comparison, the full grid only dedicates 93.7 acres to Wheat.\n",
        "2. No Sugar Beets planted: The sparse grid solution puts 0 acres into Sugar Beets, whereas the full grid invests 323.7 acres in Sugar Beets.\n",
        "3. Much higher overall profit: The sparse grid solution yields an overall profit of  which is far larger than the full grid solution.\n"
      ],
      "metadata": {
        "id": "sUV2yLjJsTIt"
      }
    },
    {
      "cell_type": "markdown",
      "source": [
        "## Two-Stage Stochastic"
      ],
      "metadata": {
        "id": "MGAx84mWZVv_"
      }
    },
    {
      "cell_type": "markdown",
      "source": [
        "Contrary to the assumption made in [4.1. Stochastic Programming](https://ndcbe.github.io/optimization/notebooks/4/SP.html), we may also assume that yields for the different crops are **independent**. In that case, we may as well consider a **continuous random vector** for the yields. Again, the decisions on land allocation are first-stage decisions because they are taken befor knowledge of the yields. Second-stage formulation can again be described as $E_{\\xi}Q(x,\\xi)$, where $Q(x,\\xi)$ is the value of the second stage for a given realization of the random vector. The optimization problem becomes:  \n",
        "$$\\begin{equation}\n",
        "\\min_x \\quad c^T x + E_{\\xi}Q(x,\\xi),\n",
        "\\end{equation}$$\n",
        "where $c$ is the cost of initial planting, and $\\xi = (\\xi_1,\\xi_2,\\xi_3)$ is the scenario.\n",
        "  \n",
        "Now, in this particular example, the computation of $Q(x,\\xi)$ can be separated among the three crops due to independence of the random vector. We can then write:  \n",
        "$$\\begin{equation}\n",
        "E_{\\xi}Q(x,\\xi) = \\sum_{i=1}^3 E_{\\xi}Q_i(x_i,\\xi_i)\n",
        "\\end{equation}$$\n",
        "where $Q_i(x_i,\\xi_i)$ is the optimal second-stage value of purchases and sales for crop $i$.   \n",
        "  \n",
        "The remaining question is how to compute $E_{\\xi}Q_i(x_i,\\xi)$. This section introduces and implements the following methods to address this:\n",
        "*   Sample Average Approximation\n",
        "*   Exact Integral\n"
      ],
      "metadata": {
        "id": "pX6pI5iGOIbK"
      }
    },
    {
      "cell_type": "markdown",
      "source": [
        "To illustate this, let us assume that the yield for each crop $i$, denoted by $t_i$, can be appropriately described by a uniform random variable, inside some range $[l_i,u_i]$. For the sake of comparison, we may take $l_i$ to be 80% of the mean yield and $u_i$ to be 120% of the mean yield so that the expectations for the yields will be the same as in [4.1. Stochastic Programming](https://ndcbe.github.io/optimization/notebooks/4/SP.html) (to calculate VSS, will see this later).    \n",
        "\n",
        "$$\\begin{align}\n",
        "\\text{yield of wheat} &\\sim U[2,3], \\\\\n",
        "\\text{yield of corn} &\\sim U[2.4,3.6], \\\\\n",
        "\\text{yield of sugar beets} &\\sim U[16,24].\n",
        "\\end{align}$$"
      ],
      "metadata": {
        "id": "6uzNKOYIOmE_"
      }
    },
    {
      "cell_type": "markdown",
      "source": [
        "##SAA"
      ],
      "metadata": {
        "id": "4Es7WGTGOrNh"
      }
    },
    {
      "cell_type": "markdown",
      "source": [
        "Sample Average Approximation (SAA) is a statistical method commonly used in stochastic programming and optimization to solve problems with uncertainty. The idea is to replace the expected values in a stochastic objective funtion ($E_{\\xi} Q(x,\\xi)$, in our case) with sample averages, using a finite set of random samples (scenarios). This converts the original stochastic problem into a deterministic one, which is often easier to solve. Here is a basic breakdown of the steps involved:\n",
        "1.   **Sample Generation**: A finite number of random samples (or scenarios) are drawn from the probability distribution representing the uncertainty in the problem. These samples capture possible realizations of the uncertain parameters.\n",
        "2.   **Objective Approximation**: The expected objective function in the original stochastic problem is approximated by the sample average of the objective over these scenarios.\n",
        "3.   **Deterministic Problem Formation**: With the sample average objective function in place, the problem becomes deterministic and can be solved using standard optimization techniques.\n",
        "\n",
        "Typically, a larger sample size improves the quality of the approximation but increases computational costs."
      ],
      "metadata": {
        "id": "FaxKBOHdOtU1"
      }
    },
    {
      "cell_type": "markdown",
      "source": [
        "In the farmers' example, the SAA approach estimates $E_{\\xi}Q_i(x_i,\\xi_i)$ as   \n",
        "$$\\begin{equation}\n",
        "\\frac{1}{N} \\sum_{j=1}^N Q_i(x_i,\\xi_{ij}),\n",
        "\\end{equation}$$\n",
        "where $\\xi_{i1}, \\xi_{i2},...,\\xi_{iN}$ are independent samples of $\\xi_i$, and N is the number of scenarios chosen. Specifically, for uniform random variable, each $\\xi_{ij}$ is drawn from $U_i[l_i,u_i]$ randomly.  \n",
        "Consequently, the optimization problem can be reformulated as:  \n",
        "$$\\begin{equation}\n",
        "\\min_x \\quad c^T x + \\frac{1}{N} \\sum_{i=1}^3 \\sum_{j=1}^N Q_i(x_i,\\xi_{ij})\n",
        "\\end{equation}$$"
      ],
      "metadata": {
        "id": "PBLsknSnO10z"
      }
    },
    {
      "cell_type": "code",
      "source": [
        "def SAA_uniform_model(N):\n",
        "    # Define the data\n",
        "    all_crops = [\"Wheat\", \"Corn\", \"SugarBeets\"]\n",
        "    purchase_crops = [\"Wheat\", \"Corn\"]\n",
        "    sale_crops = [\"Wheat\", \"Corn\", \"BEETS_FAVORABLE\", \"BEETS_UNFAVORABLE\"]\n",
        "\n",
        "    land_capacity = 500\n",
        "    crop_costs = {\"Wheat\": 150, \"Corn\": 230, \"SugarBeets\": 260}\n",
        "    sale_price = {\"Wheat\": 170, \"Corn\": 150, \"BEETS_FAVORABLE\": 36, \"BEETS_UNFAVORABLE\": 10}\n",
        "    purchase_price = {\"Wheat\": 238, \"Corn\": 210}\n",
        "    min_require = {\"Wheat\": 200, \"Corn\": 240}\n",
        "    avg_yield = {\"Wheat\": 2.5, \"Corn\": 3.0, \"SugarBeets\": 20.0}\n",
        "    lower_yield = {crop: 0.8 * avg_yield[crop] for crop in all_crops}\n",
        "    upper_yield = {crop: 1.2 * avg_yield[crop] for crop in all_crops}\n",
        "\n",
        "    # Generate random yields for N scenarios\n",
        "    yields = {\n",
        "        crop: {n: np.random.uniform(lower_yield[crop], upper_yield[crop]) for n in range(N)}\n",
        "        for crop in all_crops\n",
        "    }\n",
        "\n",
        "    model = ConcreteModel()\n",
        "    model.x = Var(all_crops, domain=NonNegativeReals)\n",
        "    model.y = Var(purchase_crops, range(N), domain=NonNegativeReals)\n",
        "    model.w = Var(sale_crops, range(N), domain=NonNegativeReals)\n",
        "\n",
        "    # Parameter\n",
        "    model.yields = Param(\n",
        "        all_crops, range(N), initialize=lambda m, crop, n: yields[crop][n], within=Reals\n",
        "    )\n",
        "\n",
        "    # Objective function\n",
        "    def objective_rule(m):\n",
        "      first_stage_cost = sum(crop_costs[crop] * m.x[crop] for crop in all_crops)\n",
        "      second_stage_cost = (\n",
        "            (1 / N)\n",
        "            * sum(\n",
        "                -sale_price[sale] * m.w[sale, n] for sale in sale_crops for n in range(N)\n",
        "            )\n",
        "            + (1 / N)\n",
        "            * sum(\n",
        "                purchase_price[purchase] * m.y[purchase, n]\n",
        "                for purchase in purchase_crops\n",
        "                for n in range(N)\n",
        "            )\n",
        "        )\n",
        "      return first_stage_cost + second_stage_cost\n",
        "    model.obj = Objective(rule=objective_rule, sense=minimize)\n",
        "\n",
        "    def land_constraint_rule(m):\n",
        "      return sum(m.x[crop] for crop in all_crops) <= land_capacity\n",
        "    model.land_constraint = Constraint(rule=land_constraint_rule)\n",
        "\n",
        "    def wheat_produce_rule(m,n):\n",
        "      return m.x[\"Wheat\"]*m.yields[\"Wheat\", n] + m.y[\"Wheat\", n] - m.w[\"Wheat\", n] >= min_require[\"Wheat\"]\n",
        "    model.wheat_produce = Constraint(range(N), rule=wheat_produce_rule)\n",
        "\n",
        "    def corn_produce_rule(m,n):\n",
        "      return m.x[\"Corn\"]*m.yields[\"Corn\", n] + m.y[\"Corn\", n] - m.w[\"Corn\", n] >= min_require[\"Corn\"]\n",
        "    model.corn_produce = Constraint(range(N), rule=corn_produce_rule)\n",
        "\n",
        "    def beets_produce_rule(m,n):\n",
        "      return m.w[\"BEETS_FAVORABLE\", n] + m.w[\"BEETS_UNFAVORABLE\", n] <= m.yields[\"SugarBeets\", n]*m.x[\"SugarBeets\"]\n",
        "    model.beets_produce = Constraint(range(N), rule=beets_produce_rule)\n",
        "\n",
        "    def beets_favorable_rule(m,n):\n",
        "      return m.w[\"BEETS_FAVORABLE\", n] <= 6000\n",
        "    model.beets_favorable = Constraint(range(N), rule=beets_favorable_rule)\n",
        "\n",
        "    return model"
      ],
      "metadata": {
        "id": "MB2hhPpCO4n6"
      },
      "execution_count": 7,
      "outputs": []
    },
    {
      "cell_type": "code",
      "source": [
        "# Example for N=10\n",
        "model = SAA_uniform_model(10)\n",
        "solver = SolverFactory(\"ipopt\")\n",
        "solver.solve(model,tee=True)"
      ],
      "metadata": {
        "colab": {
          "base_uri": "https://localhost:8080/"
        },
        "id": "t17wK8YkO6h5",
        "outputId": "56883158-2d6b-4b0c-af25-6eb7267f5097"
      },
      "execution_count": 8,
      "outputs": [
        {
          "output_type": "stream",
          "name": "stdout",
          "text": [
            "Ipopt 3.13.2: \n",
            "\n",
            "******************************************************************************\n",
            "This program contains Ipopt, a library for large-scale nonlinear optimization.\n",
            " Ipopt is released as open source code under the Eclipse Public License (EPL).\n",
            "         For more information visit http://projects.coin-or.org/Ipopt\n",
            "\n",
            "This version of Ipopt was compiled from source code available at\n",
            "    https://github.com/IDAES/Ipopt as part of the Institute for the Design of\n",
            "    Advanced Energy Systems Process Systems Engineering Framework (IDAES PSE\n",
            "    Framework) Copyright (c) 2018-2019. See https://github.com/IDAES/idaes-pse.\n",
            "\n",
            "This version of Ipopt was compiled using HSL, a collection of Fortran codes\n",
            "    for large-scale scientific computation.  All technical papers, sales and\n",
            "    publicity material resulting from use of the HSL codes within IPOPT must\n",
            "    contain the following acknowledgement:\n",
            "        HSL, a collection of Fortran codes for large-scale scientific\n",
            "        computation. See http://www.hsl.rl.ac.uk.\n",
            "******************************************************************************\n",
            "\n",
            "This is Ipopt version 3.13.2, running with linear solver ma27.\n",
            "\n",
            "Number of nonzeros in equality constraint Jacobian...:        0\n",
            "Number of nonzeros in inequality constraint Jacobian.:      103\n",
            "Number of nonzeros in Lagrangian Hessian.............:        0\n",
            "\n",
            "Total number of variables............................:       63\n",
            "                     variables with only lower bounds:       63\n",
            "                variables with lower and upper bounds:        0\n",
            "                     variables with only upper bounds:        0\n",
            "Total number of equality constraints.................:        0\n",
            "Total number of inequality constraints...............:       41\n",
            "        inequality constraints with only lower bounds:       20\n",
            "   inequality constraints with lower and upper bounds:        0\n",
            "        inequality constraints with only upper bounds:       21\n",
            "\n",
            "iter    objective    inf_pr   inf_du lg(mu)  ||d||  lg(rg) alpha_du alpha_pr  ls\n",
            "   0  7.2199928e+00 2.40e+02 5.97e+00  -1.0 0.00e+00    -  0.00e+00 0.00e+00   0\n",
            "   1  1.1208712e+02 2.39e+02 2.77e+01  -1.0 1.88e+02    -  4.59e-04 1.25e-02h  1\n",
            "   2  1.5482586e+02 2.39e+02 2.76e+01  -1.0 1.58e+02    -  1.32e-03 1.41e-03h  1\n",
            "   3  2.9488717e+02 2.38e+02 2.75e+01  -1.0 1.54e+02    -  8.80e-04 4.41e-03h  1\n",
            "   4  5.2457246e+02 2.36e+02 2.73e+01  -1.0 1.50e+02    -  4.34e-03 7.20e-03h  1\n",
            "   5  9.7899400e+02 2.33e+02 2.69e+01  -1.0 1.49e+02    -  4.33e-03 1.42e-02h  1\n",
            "   6  1.5919537e+03 2.28e+02 2.64e+01  -1.0 1.46e+02    -  7.74e-03 1.92e-02h  1\n",
            "   7  3.2026796e+03 2.17e+02 2.51e+01  -1.0 1.40e+02    -  2.51e-02 5.15e-02h  1\n",
            "   8  4.5595813e+03 2.06e+02 2.38e+01  -1.0 1.35e+02    -  2.91e-03 5.13e-02h  1\n",
            "   9  5.6541409e+03 1.96e+02 2.27e+01  -1.0 1.30e+02    -  1.97e-02 4.46e-02h  1\n",
            "iter    objective    inf_pr   inf_du lg(mu)  ||d||  lg(rg) alpha_du alpha_pr  ls\n",
            "  10  7.1030552e+03 1.84e+02 2.12e+01  -1.0 1.27e+02    -  1.32e-02 6.49e-02h  1\n",
            "  11  7.0027373e+03 1.83e+02 2.11e+01  -1.0 5.10e+02    -  1.15e-03 5.62e-03f  1\n",
            "  12  7.0044315e+03 1.83e+02 2.11e+01  -1.0 1.76e+02    -  1.05e-02 1.95e-04h  1\n",
            "  13  7.1135460e+03 1.80e+02 2.08e+01  -1.0 1.58e+02    -  1.20e-03 1.41e-02h  1\n",
            "  14  7.1178952e+03 1.80e+02 2.08e+01  -1.0 1.36e+02    -  3.09e-02 3.05e-04h  1\n",
            "  15  9.5311345e+03 1.59e+02 1.83e+01  -1.0 1.19e+02    -  1.01e-02 1.19e-01h  1\n",
            "  16  9.3320416e+03 1.58e+02 1.83e+01  -1.0 1.81e+03    -  1.55e-04 1.53e-03f  1\n",
            "  17  9.3319274e+03 1.58e+02 1.83e+01  -1.0 1.64e+02    -  2.51e-03 2.96e-04h  1\n",
            "  18  7.7132235e+03 1.58e+02 1.83e+01  -1.0 4.83e+03    -  5.68e-05 3.07e-03f  1\n",
            "  19  7.6974032e+03 1.58e+02 1.83e+01  -1.0 2.65e+03    -  6.67e-03 5.63e-05f  1\n",
            "iter    objective    inf_pr   inf_du lg(mu)  ||d||  lg(rg) alpha_du alpha_pr  ls\n",
            "  20  9.0397096e+03 1.43e+02 1.66e+01  -1.0 1.15e+02    -  2.98e-02 9.19e-02h  1\n",
            "  21  8.8340245e+03 1.42e+02 1.64e+01  -1.0 3.38e+02    -  3.18e-04 1.07e-02f  1\n",
            "  22  8.8350484e+03 1.42e+02 1.64e+01  -1.0 1.36e+02    -  1.47e-02 3.70e-04h  1\n",
            "  23  8.6903833e+03 1.41e+02 1.63e+01  -1.0 8.03e+02    -  1.71e-04 3.21e-03f  1\n",
            "  24  8.6923970e+03 1.41e+02 1.63e+01  -1.0 1.28e+02    -  2.16e-02 3.16e-04h  1\n",
            "  25  7.6828009e+03 9.88e+01 1.70e+01  -1.0 1.97e+02    -  2.21e-04 3.01e-01f  1\n",
            "  26 -1.0751465e+05 9.78e+01 1.69e+01  -1.0 1.14e+05    -  3.99e-04 9.78e-03f  1\n",
            "  27 -1.0843441e+05 9.71e+01 1.67e+01  -1.0 1.29e+03    -  1.34e-01 7.59e-03f  1\n",
            "  28 -1.0560066e+05 8.80e+01 1.52e+01  -1.0 1.45e+02    -  1.58e-03 9.38e-02h  1\n",
            "  29 -1.0553256e+05 8.77e+01 4.42e+01  -1.0 1.51e+02    -  4.21e-01 2.46e-03h  1\n",
            "iter    objective    inf_pr   inf_du lg(mu)  ||d||  lg(rg) alpha_du alpha_pr  ls\n",
            "  30 -9.0749092e+04 4.10e+01 1.03e+01  -1.0 1.57e+02    -  7.35e-03 5.33e-01h  1\n",
            "  31 -9.0671553e+04 4.07e+01 8.96e+00  -1.0 3.49e+02    -  2.82e-02 7.16e-03h  1\n",
            "  32 -7.7823454e+04 0.00e+00 4.54e+01  -1.0 7.61e+01    -  1.99e-01 1.00e+00h  1\n",
            "  33 -7.8278969e+04 0.00e+00 4.40e+01  -1.0 2.15e+02    -  3.09e-02 2.32e-01f  1\n",
            "  34 -1.3137751e+05 0.00e+00 4.37e+01  -1.0 7.51e+03    -  7.65e-03 7.84e-01f  1\n",
            "  35 -1.3190963e+05 0.00e+00 1.38e+01  -1.0 2.56e+02    -  6.84e-01 2.30e-01f  1\n",
            "  36 -1.3207831e+05 0.00e+00 1.37e+01  -1.0 6.29e+01    -  4.30e-03 4.05e-01f  1\n",
            "  37 -1.3254935e+05 0.00e+00 1.01e+01  -1.0 1.46e+02    -  2.64e-01 5.01e-01f  1\n",
            "  38 -1.3256593e+05 0.00e+00 9.83e+00  -1.0 1.57e+02    -  2.75e-02 9.23e-02f  1\n",
            "  39 -1.3256930e+05 0.00e+00 7.64e+00  -1.0 5.47e+00    -  2.23e-01 2.70e-01f  1\n",
            "iter    objective    inf_pr   inf_du lg(mu)  ||d||  lg(rg) alpha_du alpha_pr  ls\n",
            "  40 -1.3263208e+05 0.00e+00 7.46e+00  -1.0 5.22e+01    -  2.34e-02 3.05e-01f  1\n",
            "  41 -1.3268144e+05 0.00e+00 2.41e-01  -1.0 3.07e+01    -  1.00e+00 4.22e-01f  1\n",
            "  42 -1.3268355e+05 0.00e+00 3.63e-01  -1.0 1.23e+00    -  3.56e-01 1.00e+00f  1\n",
            "  43 -1.3268834e+05 0.00e+00 1.28e-01  -1.0 5.54e+00    -  1.00e+00 7.14e-01f  1\n",
            "  44 -1.3270112e+05 0.00e+00 2.00e-07  -1.7 2.26e-01    -  1.00e+00 1.00e+00f  1\n",
            "  45 -1.3270389e+05 0.00e+00 2.83e-08  -2.5 7.11e-02    -  1.00e+00 1.00e+00f  1\n",
            "  46 -1.3270433e+05 0.00e+00 1.50e-09  -3.8 8.06e-03    -  1.00e+00 1.00e+00f  1\n",
            "  47 -1.3270436e+05 0.00e+00 1.85e-11  -5.7 3.96e-04    -  1.00e+00 1.00e+00f  1\n",
            "  48 -1.3270436e+05 0.00e+00 4.53e-14  -8.6 4.82e-06    -  1.00e+00 1.00e+00f  1\n",
            "\n",
            "Number of Iterations....: 48\n",
            "\n",
            "                                   (scaled)                 (unscaled)\n",
            "Objective...............:  -5.1040137603738425e+04   -1.3270435776971991e+05\n",
            "Dual infeasibility......:   4.5339002071667498e-14    1.1788140538633547e-13\n",
            "Constraint violation....:   0.0000000000000000e+00    0.0000000000000000e+00\n",
            "Complementarity.........:   2.5089187189971371e-09    6.5231886693925559e-09\n",
            "Overall NLP error.......:   2.5089187189971371e-09    6.5231886693925559e-09\n",
            "\n",
            "\n",
            "Number of objective function evaluations             = 49\n",
            "Number of objective gradient evaluations             = 49\n",
            "Number of equality constraint evaluations            = 0\n",
            "Number of inequality constraint evaluations          = 49\n",
            "Number of equality constraint Jacobian evaluations   = 0\n",
            "Number of inequality constraint Jacobian evaluations = 49\n",
            "Number of Lagrangian Hessian evaluations             = 48\n",
            "Total CPU secs in IPOPT (w/o function evaluations)   =      0.023\n",
            "Total CPU secs in NLP function evaluations           =      0.001\n",
            "\n",
            "EXIT: Optimal Solution Found.\n",
            "\b\b\b\b\b\b\b\b\b\b\b\b\b\b"
          ]
        },
        {
          "output_type": "execute_result",
          "data": {
            "text/plain": [
              "{'Problem': [{'Lower bound': -inf, 'Upper bound': inf, 'Number of objectives': 1, 'Number of constraints': 41, 'Number of variables': 63, 'Sense': 'unknown'}], 'Solver': [{'Status': 'ok', 'Message': 'Ipopt 3.13.2\\\\x3a Optimal Solution Found', 'Termination condition': 'optimal', 'Id': 0, 'Error rc': 0, 'Time': 0.10765409469604492}], 'Solution': [OrderedDict([('number of solutions', 0), ('number of solutions displayed', 0)])]}"
            ]
          },
          "metadata": {},
          "execution_count": 8
        }
      ]
    },
    {
      "cell_type": "code",
      "source": [
        "crop_results = {crop: model.x[crop].value for crop in [\"Wheat\", \"Corn\", \"SugarBeets\"]}\n",
        "crop_results_df = pd.DataFrame.from_dict(crop_results, orient=\"index\", columns=[\"Land Allocation\"])\n",
        "print(\"Land Allocation Results:\\n\", crop_results_df)\n",
        "profit = -model.obj()\n",
        "print(f\"Total profit: {profit}\")"
      ],
      "metadata": {
        "colab": {
          "base_uri": "https://localhost:8080/"
        },
        "id": "It5c6zJPO9c4",
        "outputId": "2157795d-a9a0-4277-f53c-0561f4cc2aa9"
      },
      "execution_count": 9,
      "outputs": [
        {
          "output_type": "stream",
          "name": "stdout",
          "text": [
            "Land Allocation Results:\n",
            "             Land Allocation\n",
            "Wheat            166.403607\n",
            "Corn              76.698343\n",
            "SugarBeets       256.898055\n",
            "Total profit: 132704.35776709765\n"
          ]
        }
      ]
    },
    {
      "cell_type": "markdown",
      "source": [
        "## 4.3.1.2 Statistical Inference\n",
        "Even for the same number of scenarios chosen, we are going to get different results since the samples are randomly selected."
      ],
      "metadata": {
        "id": "CwzR6W_PPAm7"
      }
    },
    {
      "cell_type": "code",
      "source": [
        "N = 400\n",
        "N_samples = 10\n",
        "results_data = []\n",
        "for i in range(N_samples):\n",
        "    model = SAA_uniform_model(N)\n",
        "    solver = SolverFactory(\"ipopt\")\n",
        "    solver.solve(model)\n",
        "    crop_results = {crop: model.x[crop].value for crop in [\"Wheat\", \"Corn\", \"SugarBeets\"]}\n",
        "    profit = -model.obj()\n",
        "    results_data.append({\n",
        "        \"Sample\": i + 1,\n",
        "        \"Wheat\": crop_results[\"Wheat\"],\n",
        "        \"Corn\": crop_results[\"Corn\"],\n",
        "        \"SugarBeets\": crop_results[\"SugarBeets\"],\n",
        "        \"Expected Profit\": profit\n",
        "    })\n",
        "\n",
        "results_df = pd.DataFrame(results_data)\n",
        "print(results_df)"
      ],
      "metadata": {
        "colab": {
          "base_uri": "https://localhost:8080/"
        },
        "id": "tZw-6cZIOHlF",
        "outputId": "48925cc6-6bbe-4299-ed0e-f5842f928ff7"
      },
      "execution_count": 10,
      "outputs": [
        {
          "output_type": "stream",
          "name": "stdout",
          "text": [
            "   Sample       Wheat       Corn  SugarBeets  Expected Profit\n",
            "0       1  139.989609  84.702595  275.307801    111582.047676\n",
            "1       2  135.975298  84.775594  279.249113    111040.011935\n",
            "2       3  134.918332  85.305459  279.776213    111239.390360\n",
            "3       4  133.176485  86.071145  280.752375    110049.767759\n",
            "4       5  133.863260  84.407416  281.729328    110534.980255\n",
            "5       6  138.281723  84.512055  277.206228    112805.146525\n",
            "6       7  133.223189  86.584583  280.192233    110729.873652\n",
            "7       8  133.648261  86.580794  279.770950    111317.984951\n",
            "8       9  136.071695  85.303593  278.624718    110448.758183\n",
            "9      10  136.637118  85.671380  277.691506    111959.057477\n"
          ]
        }
      ]
    },
    {
      "cell_type": "code",
      "source": [
        "import math\n",
        "\n",
        "def t_critical_approx(alpha, df):\n",
        "    p = 1 - alpha / 2\n",
        "    a = 1 / (df - 0.5)\n",
        "    b = 48 / (df ** 2)\n",
        "    c = ((a * b) + 1) ** 2\n",
        "    t = math.sqrt(df * (c - 1) / c)\n",
        "    return t\n"
      ],
      "metadata": {
        "id": "RLKIAI1ZRRb_"
      },
      "execution_count": 12,
      "outputs": []
    },
    {
      "cell_type": "code",
      "source": [
        "# Sample Mean\n",
        "expected_profits = [d[\"Expected Profit\"] for d in results_data]\n",
        "sample_mean = sum(expected_profits) / len(expected_profits)\n",
        "print(f\"Sample Mean: {sample_mean}\")\n",
        "# Samople Variance & Standard Deviation\n",
        "sample_variance = sum((x - sample_mean) ** 2 for x in expected_profits) / (len(expected_profits) - 1)\n",
        "sample_standard_deviation = sample_variance ** 0.5\n",
        "print(f\"Sample Variance: {sample_variance}\")\n",
        "print(f\"Sample Standard Deviation: {sample_standard_deviation}\")\n",
        "# Confidence Interval\n",
        "confidence_level = 0.95\n",
        "alpha = 1 - confidence_level\n",
        "n = len(expected_profits)\n",
        "\n",
        "\n",
        "t_critical = t_critical_approx(alpha, n-1)  # t-critical value for 2-tailed test\n",
        "\n",
        "\n",
        "\n",
        "margin_of_error = t_critical * (sample_standard_deviation / n**0.5)\n",
        "lower_bound = sample_mean - margin_of_error\n",
        "upper_bound = sample_mean + margin_of_error\n",
        "\n",
        "print(f\"Confidence Interval ({confidence_level * 100}%): [{lower_bound}, {upper_bound}]\")"
      ],
      "metadata": {
        "colab": {
          "base_uri": "https://localhost:8080/"
        },
        "id": "W2RIpQOLPGRO",
        "outputId": "6f672b29-52f7-4390-8bd6-3e67b79451f0"
      },
      "execution_count": 13,
      "outputs": [
        {
          "output_type": "stream",
          "name": "stdout",
          "text": [
            "Sample Mean: 111170.70187725479\n",
            "Sample Variance: 653530.7776425142\n",
            "Sample Standard Deviation: 808.4125046302254\n",
            "Confidence Interval (95.0%): [110898.36304119069, 111443.04071331889]\n"
          ]
        }
      ]
    }
  ]
}