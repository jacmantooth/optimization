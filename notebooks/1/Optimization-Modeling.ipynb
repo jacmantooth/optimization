{
 "cells": [
  {
   "cell_type": "markdown",
   "metadata": {},
   "source": [
    "# Optimization Modeling with Applications"
   ]
  },
  {
   "cell_type": "markdown",
   "metadata": {},
   "source": [
    "## Recommended Reading\n",
    "\n",
    "Please review the following book chapters (in order):\n",
    "1. Chapter 1 of Biegler (2010) introduces classes of optimization problems motivated by applications.\n",
    "2. Chapters 1 and 2 in Hart et al. (2015) provides an overview of Pyomo and optimization modeling.\n",
    "3. Chapters 3 and 4 in Hart et al. (2015) describes core Pyomo features through examples.\n",
    "4. Chapter 7 in Hart et al. (2015) describes special considerations for nonlinear programs.\n",
    "5. Chapter 9 in Hart et al. (2015) describes generalized disjunctive programming (logical decisions).\n",
    "6. Chapter 10 in Hart et al. (2015) describes stochastic programming (sections 10.1 - 10.4 are most relevant).\n",
    "7. Chapter 11 in Hart et al. (2015) describes optimization with differential algebriac equations (DAEs).\n",
    "8. Chapter 10 in Biegler (2010) provides mathematical background for DAE-constrained optimization."
   ]
  },
  {
   "cell_type": "markdown",
   "metadata": {},
   "source": [
    "![pyomo_book](https://raw.githubusercontent.com/ndcbe/optimization/main/media/pyomo_book_cover.jpg)\n",
    "\n",
    "![nlp_book](https://raw.githubusercontent.com/ndcbe/optimization/main/media/nlp_book_cover.jpg)"
   ]
  },
  {
   "cell_type": "markdown",
   "metadata": {},
   "source": [
    "## Taxonomy of Optimization Problems\n",
    "\n",
    "Reference: Chapter 1 in Biegler (2010)."
   ]
  },
  {
   "cell_type": "markdown",
   "metadata": {},
   "source": [
    "The following chart organizes optimization problems based on key characteristics including variable type (continous versus discrete) and whether the objective and constraints are differentiable. These factors impact which algorithms are best suited for different problems.\n",
    "\n",
    "![taxonomy](https://raw.githubusercontent.com/ndcbe/optimization/main/media/classification.png)"
   ]
  },
  {
   "cell_type": "markdown",
   "metadata": {},
   "source": [
    "This is the most general problem structure we will consider:"
   ]
  },
  {
   "cell_type": "markdown",
   "metadata": {},
   "source": [
    "![minlp_formulation](https://raw.githubusercontent.com/ndcbe/optimization/main/media/minlp.png)"
   ]
  },
  {
   "cell_type": "markdown",
   "metadata": {},
   "source": [
    "Here are common (chemical) engineering optimization problems organizied by problem type:\n",
    "![optimization_examples](https://raw.githubusercontent.com/ndcbe/optimization/main/media/apps_table.png)"
   ]
  },
  {
   "cell_type": "code",
   "execution_count": null,
   "metadata": {},
   "outputs": [],
   "source": []
  }
 ],
 "metadata": {
  "kernelspec": {
   "display_name": "Python 3",
   "language": "python",
   "name": "python3"
  },
  "language_info": {
   "codemirror_mode": {
    "name": "ipython",
    "version": 3
   },
   "file_extension": ".py",
   "mimetype": "text/x-python",
   "name": "python",
   "nbconvert_exporter": "python",
   "pygments_lexer": "ipython3",
   "version": "3.8.6"
  }
 },
 "nbformat": 4,
 "nbformat_minor": 2
}
